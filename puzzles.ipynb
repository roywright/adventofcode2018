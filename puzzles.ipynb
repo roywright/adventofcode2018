{
 "cells": [
  {
   "cell_type": "markdown",
   "metadata": {},
   "source": [
    "# Puzzles"
   ]
  },
  {
   "cell_type": "markdown",
   "metadata": {},
   "source": [
    "## \"Easy as ABC\"\n",
    "Source: https://twitter.com/Five_Triangles/status/1015738379454046208\n",
    "\n",
    "Rules:\n",
    "Letters A,B,C must each appear exactly once in every row and column.\n",
    "Outside letters must be closest to that letter in the respective row or column, e.g., C must be highest in column 1.\n",
    "\n",
    "![The puzzle](https://pbs.twimg.com/media/DhigAqEXkAAsGtN.jpg)"
   ]
  },
  {
   "cell_type": "markdown",
   "metadata": {},
   "source": [
    "### My solution"
   ]
  },
  {
   "cell_type": "code",
   "execution_count": 1,
   "metadata": {
    "collapsed": true
   },
   "outputs": [],
   "source": [
    "from copy import deepcopy"
   ]
  },
  {
   "cell_type": "code",
   "execution_count": 2,
   "metadata": {
    "collapsed": true
   },
   "outputs": [],
   "source": [
    "def checkrow(row, req):\n",
    "    '''Make sure a given row (or column) isn't breaking its two given requirements.'''\n",
    "\n",
    "    # The row may contain up to 1 A, 1 B, 1 C, and the rest can be spaces\n",
    "    n = len(row)\n",
    "    if row.count('A') > 1 or row.count('B') > 1 or row.count('C') > 1 or row.count(' ') > n-3:\n",
    "        return False\n",
    "    \n",
    "    # If the row has any letters, check that the first one matches the requirement\n",
    "    rowstr = ''.join(row)\n",
    "    if len(rowstr.strip()) > 0 and req[0] and rowstr.strip()[0] != req[0]:\n",
    "        return False\n",
    "    \n",
    "    # If the row is full, check that the last letter matches the requirement\n",
    "    if len(rowstr) == len(row) and req[1] and rowstr.strip()[-1] != req[1]:\n",
    "        return False\n",
    "    \n",
    "    return True\n",
    "\n",
    "def cols(grid):\n",
    "    '''Get all the columns of a grid (essentially, transpose the grid).'''\n",
    "    return [[e[i] for e in grid] for i in range(len(grid[0]))]\n",
    "\n",
    "def col(grid, k):\n",
    "    '''Get a single column of a grid.'''\n",
    "    return [e[k] for e in grid]\n",
    "\n",
    "def checkgrid(grid, row_reqs, col_reqs):\n",
    "    '''Check that no rules are violated in an entire grid.'''\n",
    "    if not all(checkrow(g, r) for g,r in zip(grid, row_reqs)):\n",
    "        return False\n",
    "    if not all(checkrow(g, r) for g,r in zip(cols(grid), col_reqs)):\n",
    "        return False\n",
    "    return True\n",
    "\n",
    "def printgrid(grid):\n",
    "    '''Neatly print out a grid.'''\n",
    "    print(('\\n' + '-' * (4*len(grid[0]) - 3) + '\\n')\n",
    "          .join([' | '.join(g) for g in grid]))  \n",
    "\n",
    "# In each spot in a grid, letters will be tested in this order\n",
    "cycle = {'':' ', ' ':'A', 'A':'B', 'B':'C'}\n",
    "    \n",
    "def solve_it(row_reqs, col_reqs):\n",
    "    '''For an ABC grid problem specified by certain row and \n",
    "    column requirements, find and display all solutions.'''\n",
    "\n",
    "    solutions = []\n",
    "    \n",
    "    # Size of the problem\n",
    "    n = len(row_reqs)\n",
    "\n",
    "    # The initial grid (all blank)\n",
    "    grid = [[''] * n for _ in range(n)]\n",
    "\n",
    "    # Starting position in the grid (upper left)\n",
    "    currx, curry = 0, 0\n",
    "\n",
    "    # Keep working until all possibilites are exhausted\n",
    "    # (so if there are multiple solutions, we can find all of them)\n",
    "    while curry >= 0:\n",
    "\n",
    "        # At the current position in the grid, try the next letter\n",
    "        try:\n",
    "            grid[curry][currx] = cycle[grid[curry][currx]]\n",
    "\n",
    "        # If there are no more letters to try, back up to the previous position\n",
    "        except KeyError: \n",
    "            grid[curry][currx] = ''\n",
    "            currx -= 1\n",
    "            if currx < 0:\n",
    "                currx  = n-1\n",
    "                curry -= 1\n",
    "            continue\n",
    "\n",
    "        # If we have found a solution, save it\n",
    "        if (currx, curry) == (n-1,n-1) and checkgrid(grid, row_reqs, col_reqs):\n",
    "            solutions.append(deepcopy(grid))\n",
    "            \n",
    "        # Otherwise, if we're not currently breaking any rules, proceed to the next position\n",
    "        elif (checkrow(grid[curry], row_reqs[curry]) and \n",
    "              checkrow(col(grid, currx), col_reqs[currx])):\n",
    "            currx += 1\n",
    "            if currx > n-1:\n",
    "                currx  = 0\n",
    "                curry += 1\n",
    "    \n",
    "    return solutions\n"
   ]
  },
  {
   "cell_type": "code",
   "execution_count": 3,
   "metadata": {},
   "outputs": [
    {
     "name": "stdout",
     "output_type": "stream",
     "text": [
      "  | C |   |   | A | B\n",
      "---------------------\n",
      "  |   | A | B |   | C\n",
      "---------------------\n",
      "  | B |   |   | C | A\n",
      "---------------------\n",
      "C | A | B |   |   |  \n",
      "---------------------\n",
      "A |   |   | C | B |  \n",
      "---------------------\n",
      "B |   | C | A |   |  \n",
      "\n",
      "\n",
      "\n"
     ]
    }
   ],
   "source": [
    "soln = solve_it(\n",
    "    row_reqs = [(None, None),\n",
    "                ('A', None),\n",
    "                (None, 'A'),\n",
    "                (None, 'B'),\n",
    "                (None, 'B'),\n",
    "                (None, None)],\n",
    "    col_reqs = [('C', None),\n",
    "                ('C', 'A'),\n",
    "                ('A', None),\n",
    "                (None, None),\n",
    "                (None, 'B'),\n",
    "                (None, 'A')]\n",
    ")\n",
    "\n",
    "for s in soln: \n",
    "    printgrid(s)\n",
    "    print('\\n\\n')\n"
   ]
  },
  {
   "cell_type": "markdown",
   "metadata": {},
   "source": [
    "## \"1 to 9\" Puzzle #180713\n",
    "Source: https://twitter.com/1to9puzzle/status/1018120012966621184\n",
    "\n",
    "![The puzzle](https://pbs.twimg.com/media/DiEWj8gXkAIXFeE.jpg)"
   ]
  },
  {
   "cell_type": "markdown",
   "metadata": {},
   "source": [
    "### My solution"
   ]
  },
  {
   "cell_type": "code",
   "execution_count": 4,
   "metadata": {
    "collapsed": true
   },
   "outputs": [],
   "source": [
    "from itertools import product, permutations"
   ]
  },
  {
   "cell_type": "code",
   "execution_count": 5,
   "metadata": {
    "collapsed": true
   },
   "outputs": [],
   "source": [
    "# Find the correct labels for all the sums we might possibly encounter\n",
    "sum_dict = {}\n",
    "max_sum = 9+8+7+6\n",
    "\n",
    "# Evens and odds\n",
    "for k in range(max_sum//2+1): sum_dict[2*k] = 'E'\n",
    "for k in range(max_sum//2+1): sum_dict[2*k+1] = 'O'\n",
    "\n",
    "# Primes (bleh!)\n",
    "primes = list(range(2,max_sum+1))\n",
    "for j in range(2,int(max_sum**.5)+1):\n",
    "    for i in range(2,max_sum//j+1):\n",
    "        try:\n",
    "            primes.remove(i*j)\n",
    "        except:\n",
    "            pass\n",
    "for k in primes: sum_dict[k] = 'P'\n",
    "    \n",
    "# Square, cube, triangular numbers\n",
    "for k in range(int(max_sum**.5)+1): sum_dict[k**2] = 'S'\n",
    "for k in range(int(max_sum**.3334)+1): sum_dict[k**3] = 'C'\n",
    "for k in range(1,int((max_sum*2+1)**.5)+1): sum_dict[k*(k+1)//2] = 'T'\n",
    "    "
   ]
  },
  {
   "cell_type": "code",
   "execution_count": 6,
   "metadata": {
    "collapsed": true
   },
   "outputs": [],
   "source": [
    "def checkgrid(grid):\n",
    "    '''Determine whether a given grid obeys the rules.'''\n",
    "    for i,j in product(range(7), range(7)):\n",
    "        if (type(grid[i][j]) == str \n",
    "            and grid[i][j] != sum_dict[\n",
    "                grid[i+1][j] + grid[i-1][j] \n",
    "                + grid[i][j+1] + grid[i][j-1]\n",
    "            ]):\n",
    "            return False\n",
    "    return True\n",
    "\n",
    "def printgrid(grid):\n",
    "    '''Neatly print out a grid.'''\n",
    "    print(('\\n' + '-' * (4*len(grid[0]) - 3) + '\\n')\n",
    "          .join([' | '.join(str(x) for x in g) for g in grid]))  \n",
    "    "
   ]
  },
  {
   "cell_type": "code",
   "execution_count": 7,
   "metadata": {},
   "outputs": [
    {
     "name": "stdout",
     "output_type": "stream",
     "text": [
      "0 | 0 | 0 | 0 | 0 | 0 | 0\n",
      "-------------------------\n",
      "0 | 0 | 0 | 2 | T | 0 | 0\n",
      "-------------------------\n",
      "0 | C | 5 | T | 1 | 0 | 0\n",
      "-------------------------\n",
      "0 | 3 | E | 7 | E | 8 | 0\n",
      "-------------------------\n",
      "0 | 0 | 9 | E | 6 | E | 0\n",
      "-------------------------\n",
      "0 | 0 | P | 4 | 0 | 0 | 0\n",
      "-------------------------\n",
      "0 | 0 | 0 | 0 | 0 | 0 | 0\n",
      "\n",
      "\n",
      "\n"
     ]
    }
   ],
   "source": [
    "# Set up the grid for the puzzle\n",
    "grid = [[0] * 7 for _ in range(7)]\n",
    "\n",
    "# Label the dark squares in the puzzle grid\n",
    "grid[1][4] = 'T'\n",
    "grid[2][1] = 'C'\n",
    "grid[2][3] = 'T'\n",
    "grid[3][2] = 'E'\n",
    "grid[3][4] = 'E'\n",
    "grid[4][3] = 'E'\n",
    "grid[4][5] = 'E'\n",
    "grid[5][2] = 'P'\n",
    "grid[3][3] = 7\n",
    "\n",
    "# Prepare to handle the light squares in the puzzle grid\n",
    "lights = [(i,j) for i,j in product(range(1,6), range(1,6)) \n",
    "          if (i+j) % 2 == 0\n",
    "          and (i,j) not in [(1,5),(5,1),(1,1),(5,5),(3,3)]]\n",
    "\n",
    "# Try each possible way to fill the light squares, and show the solution(s)\n",
    "for digits in permutations([1,2,3,4,5,6,8,9]):\n",
    "    for (i,j),d in zip(lights, digits):\n",
    "        grid[i][j] = d\n",
    "    if checkgrid(grid):\n",
    "        printgrid(grid)\n",
    "        print('\\n\\n')\n",
    "        "
   ]
  },
  {
   "cell_type": "markdown",
   "metadata": {},
   "source": [
    "## \"1 to 9\" Puzzle #180907\n",
    "Source: https://twitter.com/1to9puzzle/status/1037836364262395904\n",
    "\n",
    "![The puzzle](https://pbs.twimg.com/media/DmciqVZW4AAruCj.jpg)"
   ]
  },
  {
   "cell_type": "markdown",
   "metadata": {},
   "source": [
    "### My solution\n",
    "I'll reuse some of the tools from previous problems:  \n",
    "`sum_dict`, `cols()`, `printgrid()`, `itertools`"
   ]
  },
  {
   "cell_type": "code",
   "execution_count": 8,
   "metadata": {
    "collapsed": true
   },
   "outputs": [],
   "source": [
    "def checkgrid(grid, row_reqs, col_reqs, diag_reqs):\n",
    "    '''Determine whether a given grid fits the requirements.'''\n",
    "    \n",
    "    # Check the rows and columns\n",
    "    for i, row in enumerate(grid):\n",
    "        if sum_dict[sum(row)] != row_reqs[i]:\n",
    "            return False\n",
    "    for i, col in enumerate(cols(grid)):\n",
    "        if sum_dict[sum(col)] != col_reqs[i]:\n",
    "            return False\n",
    "\n",
    "    # Check the primary diagonal\n",
    "    n = len(grid)\n",
    "    if sum_dict[sum(grid[i][i] for i in range(n))] != diag_reqs[0]:\n",
    "        return False\n",
    "\n",
    "    # Check the secondary diagonal\n",
    "    if sum_dict[sum(grid[i][n-i-1] for i in range(n))] != diag_reqs[1]:\n",
    "        return False\n",
    "    \n",
    "    return True    "
   ]
  },
  {
   "cell_type": "code",
   "execution_count": 9,
   "metadata": {
    "scrolled": true
   },
   "outputs": [
    {
     "name": "stdout",
     "output_type": "stream",
     "text": [
      "2 | 9 | 5\n",
      "---------\n",
      "7 | 4 | 1\n",
      "---------\n",
      "6 | 3 | 8\n",
      "\n",
      "\n",
      "\n",
      "8 | 3 | 5\n",
      "---------\n",
      "1 | 4 | 7\n",
      "---------\n",
      "6 | 9 | 2\n",
      "\n",
      "\n",
      "\n"
     ]
    }
   ],
   "source": [
    "# Set up the grid for the puzzle\n",
    "grid = [[0] * 3 for _ in range(3)]\n",
    "grid[1][1] = 4\n",
    "\n",
    "# Prepare to handle the blank squares in the puzzle grid\n",
    "blanks = [(i,j) for i,j in product(range(3), range(3)) if i*j != 1]\n",
    "\n",
    "# Try each possible way to fill the blanks, and show the solution(s)\n",
    "for digits in permutations([1,2,3,5,6,7,8,9]):\n",
    "    for (i,j),d in zip(blanks, digits):\n",
    "        grid[i][j] = d\n",
    "    if checkgrid(\n",
    "        grid,\n",
    "        row_reqs  = ('S','E','P'),\n",
    "        col_reqs  = ('T','S','E'),\n",
    "        diag_reqs = ('E','T')\n",
    "    ):\n",
    "        printgrid(grid)\n",
    "        print('\\n\\n')\n",
    "        "
   ]
  },
  {
   "cell_type": "markdown",
   "metadata": {},
   "source": [
    "## \"1 to 9\" Puzzle #1836\n",
    "Source: https://twitter.com/1to9puzzle/status/1038053770561826816\n",
    "\n",
    "![The puzzle](https://pbs.twimg.com/media/DmfngHlXoAADa78.jpg)"
   ]
  },
  {
   "cell_type": "markdown",
   "metadata": {},
   "source": [
    "### My solution\n",
    "\n",
    "Again I'll reuse a few tools from earlier:   \n",
    "`checkgrid()`, `printgrid()`, `itertools`  \n",
    "In fact, it turns out that this problem requires almost nothing more than to redefine the `sum_dict`!"
   ]
  },
  {
   "cell_type": "code",
   "execution_count": 10,
   "metadata": {},
   "outputs": [],
   "source": [
    "import inflect"
   ]
  },
  {
   "cell_type": "code",
   "execution_count": 11,
   "metadata": {
    "collapsed": true
   },
   "outputs": [],
   "source": [
    "# Find the correct labels for all the sums we might possibly encounter\n",
    "# Each sum is represented by the first letter of the sum when \n",
    "# written out in English (e.g. represent 6 + 1 + 7 with \"F\")\n",
    "sum_dict = {}\n",
    "num2word = inflect.engine().number_to_words\n",
    "for k in range(9+8+7+1): \n",
    "    sum_dict[k] = num2word(k)[0].upper()"
   ]
  },
  {
   "cell_type": "code",
   "execution_count": 12,
   "metadata": {
    "scrolled": false
   },
   "outputs": [
    {
     "name": "stdout",
     "output_type": "stream",
     "text": [
      "3 | 9 | 7\n",
      "---------\n",
      "5 | 2 | 4\n",
      "---------\n",
      "8 | 6 | 1\n",
      "\n",
      "\n",
      "\n",
      "7 | 3 | 9\n",
      "---------\n",
      "4 | 2 | 5\n",
      "---------\n",
      "6 | 1 | 8\n",
      "\n",
      "\n",
      "\n"
     ]
    }
   ],
   "source": [
    "# Set up the grid for the puzzle\n",
    "grid = [[0] * 3 for _ in range(3)]\n",
    "grid[1][1] = 2\n",
    "\n",
    "# Prepare to handle the blank squares in the puzzle grid\n",
    "blanks = [(i,j) for i,j in product(range(3), range(3)) if i*j != 1]\n",
    "\n",
    "# Try each possible way to fill the blanks, and show any solution(s)\n",
    "for digits in permutations([1,3,4,5,6,7,8,9]):\n",
    "    for (i,j),d in zip(blanks, digits):\n",
    "        grid[i][j] = d\n",
    "    if checkgrid(\n",
    "        grid,\n",
    "        row_reqs  = ('N', 'E', 'F'),\n",
    "        col_reqs  = ('S', 'S', 'T'),\n",
    "        diag_reqs = ('S', 'S'),\n",
    "    ):\n",
    "        printgrid(grid)\n",
    "        print('\\n\\n')\n",
    "        "
   ]
  },
  {
   "cell_type": "markdown",
   "metadata": {},
   "source": [
    "## \"Skyscrapers\"\n",
    "Source: https://twitter.com/solvemymaths/status/1038308216264896518\n",
    "\n",
    "![The puzzle part 1](https://pbs.twimg.com/media/DmjP0LaXgAAPh0X.jpg)\n",
    "![The puzzle part 2](https://pbs.twimg.com/media/DmjP0ahX0AEUN2K.jpg)\n"
   ]
  },
  {
   "cell_type": "markdown",
   "metadata": {},
   "source": [
    "### My solution\n",
    "\n",
    "We'll reuse some code from before verbatim, but let's pretend we're starting from scratch."
   ]
  },
  {
   "cell_type": "code",
   "execution_count": 13,
   "metadata": {
    "collapsed": true
   },
   "outputs": [],
   "source": [
    "from copy import deepcopy"
   ]
  },
  {
   "cell_type": "code",
   "execution_count": 14,
   "metadata": {},
   "outputs": [],
   "source": [
    "def count_maxes(l):\n",
    "    '''Count the number of times a list of positive numbers reaches a new maximum.'''\n",
    "    mx = l[0]\n",
    "    cnt = 1\n",
    "    for i in l[1:]:\n",
    "        if i and i > mx:\n",
    "            cnt += 1\n",
    "            mx = i\n",
    "    return cnt\n",
    "\n",
    "def checkrow(row, req):\n",
    "    '''Make sure a given row (or column) isn't breaking its two given requirements.'''\n",
    "\n",
    "    # The row may contain up to one of each number\n",
    "    n = len(row)\n",
    "    if max(row.count(d+1) for d in range(n)) > 1:\n",
    "        return False\n",
    "    \n",
    "    # If the row has any numbers, check that they do not exceed the first requirement\n",
    "    if req[0] and any(row) and count_maxes(row) > req[0]:\n",
    "        return False\n",
    "    \n",
    "    # If the row is full, check that both requirements are met exactly\n",
    "    if req[0] and all(row) and count_maxes(row) != req[0]:\n",
    "        return False\n",
    "    if req[1] and all(row) and count_maxes(row[::-1]) != req[1]:\n",
    "        return False\n",
    "    \n",
    "    return True\n",
    "\n",
    "def cols(grid):\n",
    "    '''Get all the columns of a grid (essentially, transpose the grid).'''\n",
    "    return [[e[i] for e in grid] for i in range(len(grid[0]))]\n",
    "\n",
    "def col(grid, k):\n",
    "    '''Get a single column of a grid.'''\n",
    "    return [e[k] for e in grid]\n",
    "\n",
    "def checkgrid(grid, row_reqs, col_reqs):\n",
    "    '''Check that no rules are violated in an entire grid.'''\n",
    "    if not all(checkrow(g, r) for g,r in zip(grid, row_reqs)):\n",
    "        return False\n",
    "    if not all(checkrow(g, r) for g,r in zip(cols(grid), col_reqs)):\n",
    "        return False\n",
    "    return True\n",
    "\n",
    "def printgrid(grid):\n",
    "    '''Neatly print out a grid.'''\n",
    "    print(('\\n' + '-' * (4*len(grid[0]) - 3) + '\\n')\n",
    "          .join([' | '.join(str(i) for i in g) for g in grid]))  \n",
    "\n",
    "    \n",
    "def solve_it(row_reqs, col_reqs, fill_coords = [], fill_vals = []):\n",
    "    '''For a skyscraper problem specified by certain row and \n",
    "    column requirements, find and display all solutions.'''\n",
    "\n",
    "    # Size of the problem\n",
    "    n = len(row_reqs)\n",
    "\n",
    "    # In each spot in a grid, numbers will be tested in order\n",
    "    cycle = {None : 1}\n",
    "    for i in range(1,n): cycle[i] = i+1\n",
    "\n",
    "    solutions = []\n",
    "\n",
    "    # The initial grid with given values filled in\n",
    "    grid = [[None] * n for _ in range(n)]\n",
    "    for (i,j), v in zip(fill_coords, fill_vals):\n",
    "        grid[i][j] = v\n",
    "    \n",
    "    # Starting position in the grid (upper left)\n",
    "    currx, curry = 0, 0\n",
    "\n",
    "    # Keep working until all possibilites are exhausted\n",
    "    # (so if there are multiple solutions, we can find all of them)\n",
    "    while curry >= 0:\n",
    "                \n",
    "        # At the current position in the grid, try the next letter\n",
    "        try:\n",
    "            grid[curry][currx] = cycle[grid[curry][currx]]\n",
    "\n",
    "        # If there are no more letters to try, back up to the previous position\n",
    "        # (and keep backing up if a filled spot is reached)\n",
    "        except KeyError: \n",
    "            grid[curry][currx] = None\n",
    "            retreat = True\n",
    "            while retreat:\n",
    "                currx -= 1\n",
    "                if currx < 0:\n",
    "                    currx  = n-1\n",
    "                    curry -= 1\n",
    "                retreat = ((curry, currx) in fill_coords)\n",
    "            continue\n",
    "\n",
    "        # If we have found a solution, save it\n",
    "        if (currx, curry) == (n-1,n-1) and checkgrid(grid, row_reqs, col_reqs):\n",
    "            solutions.append(deepcopy(grid))\n",
    "            \n",
    "        # Otherwise, if we're not currently breaking any rules, advance to the next position\n",
    "        # (and keep advancing if a filled spot is reached)        \n",
    "        elif (checkrow(grid[curry], row_reqs[curry]) and \n",
    "              checkrow(col(grid, currx), col_reqs[currx])):\n",
    "            advance = True\n",
    "            while advance:\n",
    "                currx += 1\n",
    "                if currx > n-1:\n",
    "                    currx  = 0\n",
    "                    curry += 1\n",
    "                advance = ((curry, currx) in fill_coords)\n",
    "    \n",
    "    return solutions\n"
   ]
  },
  {
   "cell_type": "markdown",
   "metadata": {},
   "source": [
    "#### First puzzle"
   ]
  },
  {
   "cell_type": "code",
   "execution_count": 15,
   "metadata": {},
   "outputs": [
    {
     "name": "stdout",
     "output_type": "stream",
     "text": [
      "1 | 4 | 3 | 2\n",
      "-------------\n",
      "2 | 1 | 4 | 3\n",
      "-------------\n",
      "3 | 2 | 1 | 4\n",
      "-------------\n",
      "4 | 3 | 2 | 1\n",
      "\n",
      "\n",
      "\n"
     ]
    }
   ],
   "source": [
    "soln = solve_it(\n",
    "    row_reqs = [(2,3),(2,2),(2,1),(1,4)],\n",
    "    col_reqs = [(4,1),(1,2),(2,2),(3,2)]\n",
    ")\n",
    "\n",
    "for s in soln: \n",
    "    printgrid(s)\n",
    "    print('\\n\\n')\n"
   ]
  },
  {
   "cell_type": "markdown",
   "metadata": {},
   "source": [
    "#### Second puzzle"
   ]
  },
  {
   "cell_type": "code",
   "execution_count": 16,
   "metadata": {
    "scrolled": false
   },
   "outputs": [
    {
     "name": "stdout",
     "output_type": "stream",
     "text": [
      "1 | 3 | 2 | 4\n",
      "-------------\n",
      "3 | 4 | 1 | 2\n",
      "-------------\n",
      "2 | 1 | 4 | 3\n",
      "-------------\n",
      "4 | 2 | 3 | 1\n",
      "\n",
      "\n",
      "\n"
     ]
    }
   ],
   "source": [
    "soln = solve_it(\n",
    "    row_reqs = [(3,None),(None,None),(2,None),(None,None)],\n",
    "    col_reqs = [(3,None),(None,None),(2,None),(None,None)],\n",
    "    fill_coords = [(1,2)], fill_vals = [1]\n",
    ")\n",
    "\n",
    "for s in soln: \n",
    "    printgrid(s)\n",
    "    print('\\n\\n')\n"
   ]
  }
 ],
 "metadata": {
  "kernelspec": {
   "display_name": "Python [default]",
   "language": "python",
   "name": "python3"
  },
  "language_info": {
   "codemirror_mode": {
    "name": "ipython",
    "version": 3
   },
   "file_extension": ".py",
   "mimetype": "text/x-python",
   "name": "python",
   "nbconvert_exporter": "python",
   "pygments_lexer": "ipython3",
   "version": "3.5.5"
  }
 },
 "nbformat": 4,
 "nbformat_minor": 2
}
