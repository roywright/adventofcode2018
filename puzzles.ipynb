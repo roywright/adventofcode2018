{
 "cells": [
  {
   "cell_type": "markdown",
   "metadata": {},
   "source": [
    "# Puzzles"
   ]
  },
  {
   "cell_type": "markdown",
   "metadata": {},
   "source": [
    "## \"Easy as ABC\"\n",
    "Source: https://twitter.com/Five_Triangles/status/1015738379454046208 (link now broken for some reason)\n",
    "\n",
    "Rules:\n",
    "Letters A,B,C must each appear exactly once in every row and column.\n",
    "Outside letters must be closest to that letter in the respective row or column, e.g., C must be highest in column 1.\n",
    "\n",
    "<img src = \"img/01.jpg\">"
   ]
  },
  {
   "cell_type": "markdown",
   "metadata": {},
   "source": [
    "### My solution"
   ]
  },
  {
   "cell_type": "code",
   "execution_count": 1,
   "metadata": {},
   "outputs": [],
   "source": [
    "from copy import deepcopy"
   ]
  },
  {
   "cell_type": "code",
   "execution_count": 2,
   "metadata": {},
   "outputs": [],
   "source": [
    "def checkrow(row, req):\n",
    "    '''Make sure a given row (or column) isn't breaking its two given requirements.'''\n",
    "\n",
    "    # The row may contain up to 1 A, 1 B, 1 C, and the rest can be spaces\n",
    "    n = len(row)\n",
    "    if row.count('A') > 1 or row.count('B') > 1 or row.count('C') > 1 or row.count(' ') > n-3:\n",
    "        return False\n",
    "    \n",
    "    # If the row has any letters, check that the first one matches the requirement\n",
    "    rowstr = ''.join(row)\n",
    "    if len(rowstr.strip()) > 0 and req[0] and rowstr.strip()[0] != req[0]:\n",
    "        return False\n",
    "    \n",
    "    # If the row is full, check that the last letter matches the requirement\n",
    "    if len(rowstr) == len(row) and req[1] and rowstr.strip()[-1] != req[1]:\n",
    "        return False\n",
    "    \n",
    "    return True\n",
    "\n",
    "def cols(grid):\n",
    "    '''Get all the columns of a grid (essentially, transpose the grid).'''\n",
    "    return [[e[i] for e in grid] for i in range(len(grid[0]))]\n",
    "\n",
    "def col(grid, k):\n",
    "    '''Get a single column of a grid.'''\n",
    "    return [e[k] for e in grid]\n",
    "\n",
    "def checkgrid(grid, row_reqs, col_reqs):\n",
    "    '''Check that no rules are violated in an entire grid.'''\n",
    "    if not all(checkrow(g, r) for g,r in zip(grid, row_reqs)):\n",
    "        return False\n",
    "    if not all(checkrow(g, r) for g,r in zip(cols(grid), col_reqs)):\n",
    "        return False\n",
    "    return True\n",
    "\n",
    "def printgrid(grid):\n",
    "    '''Neatly print out a grid.'''\n",
    "    print(('\\n' + '-' * (4*len(grid[0]) - 3) + '\\n')\n",
    "          .join([' | '.join(g) for g in grid]))  \n",
    "\n",
    "# In each spot in a grid, letters will be tested in this order\n",
    "cycle = {'':' ', ' ':'A', 'A':'B', 'B':'C'}\n",
    "    \n",
    "def solve_ABC(row_reqs, col_reqs):\n",
    "    '''For an ABC grid problem specified by certain row and \n",
    "    column requirements, find and display all solutions.'''\n",
    "\n",
    "    solutions = []\n",
    "    \n",
    "    # Size of the problem\n",
    "    n = len(row_reqs)\n",
    "\n",
    "    # The initial grid (all blank)\n",
    "    grid = [[''] * n for _ in range(n)]\n",
    "\n",
    "    # Starting position in the grid (upper left)\n",
    "    currx, curry = 0, 0\n",
    "\n",
    "    # Keep working until all possibilites are exhausted\n",
    "    # (so if there are multiple solutions, we can find all of them)\n",
    "    while curry >= 0:\n",
    "\n",
    "        # At the current position in the grid, try the next letter\n",
    "        try:\n",
    "            grid[curry][currx] = cycle[grid[curry][currx]]\n",
    "\n",
    "        # If there are no more letters to try, back up to the previous position\n",
    "        except KeyError: \n",
    "            grid[curry][currx] = ''\n",
    "            currx -= 1\n",
    "            if currx < 0:\n",
    "                currx  = n-1\n",
    "                curry -= 1\n",
    "            continue\n",
    "\n",
    "        # If we have found a solution, save it\n",
    "        if (currx, curry) == (n-1,n-1) and checkgrid(grid, row_reqs, col_reqs):\n",
    "            solutions.append(deepcopy(grid))\n",
    "            \n",
    "        # Otherwise, if we're not currently breaking any rules, proceed to the next position\n",
    "        elif (checkrow(grid[curry], row_reqs[curry]) and \n",
    "              checkrow(col(grid, currx), col_reqs[currx])):\n",
    "            currx += 1\n",
    "            if currx > n-1:\n",
    "                currx  = 0\n",
    "                curry += 1\n",
    "    \n",
    "    return solutions\n"
   ]
  },
  {
   "cell_type": "code",
   "execution_count": 3,
   "metadata": {},
   "outputs": [
    {
     "name": "stdout",
     "output_type": "stream",
     "text": [
      "  | C |   |   | A | B\n",
      "---------------------\n",
      "  |   | A | B |   | C\n",
      "---------------------\n",
      "  | B |   |   | C | A\n",
      "---------------------\n",
      "C | A | B |   |   |  \n",
      "---------------------\n",
      "A |   |   | C | B |  \n",
      "---------------------\n",
      "B |   | C | A |   |  \n",
      "\n",
      "\n",
      "\n"
     ]
    }
   ],
   "source": [
    "soln = solve_ABC(\n",
    "    row_reqs = [(None, None),\n",
    "                ('A', None),\n",
    "                (None, 'A'),\n",
    "                (None, 'B'),\n",
    "                (None, 'B'),\n",
    "                (None, None)],\n",
    "    col_reqs = [('C', None),\n",
    "                ('C', 'A'),\n",
    "                ('A', None),\n",
    "                (None, None),\n",
    "                (None, 'B'),\n",
    "                (None, 'A')]\n",
    ")\n",
    "\n",
    "for s in soln: \n",
    "    printgrid(s)\n",
    "    print('\\n\\n')\n"
   ]
  },
  {
   "cell_type": "markdown",
   "metadata": {},
   "source": [
    "# Puzzles"
   ]
  },
  {
   "cell_type": "markdown",
   "metadata": {},
   "source": [
    "## \"1 to 9\" Puzzle #180713\n",
    "Source: https://twitter.com/1to9puzzle/status/1018120012966621184\n",
    "\n",
    "![The puzzle](https://pbs.twimg.com/media/DiEWj8gXkAIXFeE.jpg)"
   ]
  },
  {
   "cell_type": "markdown",
   "metadata": {},
   "source": [
    "### My solution"
   ]
  },
  {
   "cell_type": "code",
   "execution_count": 4,
   "metadata": {},
   "outputs": [],
   "source": [
    "from itertools import product, permutations"
   ]
  },
  {
   "cell_type": "code",
   "execution_count": 5,
   "metadata": {},
   "outputs": [],
   "source": [
    "# Find the correct labels for all the sums we might possibly encounter\n",
    "sum_dict = {}\n",
    "max_sum = 9+8+7+6\n",
    "\n",
    "# Evens and odds\n",
    "for k in range(max_sum//2+1): sum_dict[2*k] = 'E'\n",
    "for k in range(max_sum//2+1): sum_dict[2*k+1] = 'O'\n",
    "\n",
    "# Primes (bleh!)\n",
    "primes = list(range(2,max_sum+1))\n",
    "for j in range(2,int(max_sum**.5)+1):\n",
    "    for i in range(2,max_sum//j+1):\n",
    "        try:\n",
    "            primes.remove(i*j)\n",
    "        except:\n",
    "            pass\n",
    "for k in primes: sum_dict[k] = 'P'\n",
    "    \n",
    "# Square, cube, triangular numbers\n",
    "for k in range(int(max_sum**.5)+1): sum_dict[k**2] = 'S'\n",
    "for k in range(int(max_sum**.3334)+1): sum_dict[k**3] = 'C'\n",
    "for k in range(1,int((max_sum*2+1)**.5)+1): sum_dict[k*(k+1)//2] = 'T'\n",
    "    "
   ]
  },
  {
   "cell_type": "code",
   "execution_count": 6,
   "metadata": {},
   "outputs": [],
   "source": [
    "def checkgrid(grid):\n",
    "    '''Determine whether a given grid obeys the rules.'''\n",
    "    for i,j in product(range(7), range(7)):\n",
    "        if (type(grid[i][j]) == str \n",
    "            and grid[i][j] != sum_dict[\n",
    "                grid[i+1][j] + grid[i-1][j] \n",
    "                + grid[i][j+1] + grid[i][j-1]\n",
    "            ]):\n",
    "            return False\n",
    "    return True\n",
    "\n",
    "def printgrid(grid):\n",
    "    '''Neatly print out a grid.'''\n",
    "    print(('\\n' + '-' * (4*len(grid[0]) - 3) + '\\n')\n",
    "          .join([' | '.join(str(x) for x in g) for g in grid]))  \n",
    "    "
   ]
  },
  {
   "cell_type": "code",
   "execution_count": 7,
   "metadata": {},
   "outputs": [
    {
     "name": "stdout",
     "output_type": "stream",
     "text": [
      "0 | 0 | 0 | 0 | 0 | 0 | 0\n",
      "-------------------------\n",
      "0 | 0 | 0 | 2 | T | 0 | 0\n",
      "-------------------------\n",
      "0 | C | 5 | T | 1 | 0 | 0\n",
      "-------------------------\n",
      "0 | 3 | E | 7 | E | 8 | 0\n",
      "-------------------------\n",
      "0 | 0 | 9 | E | 6 | E | 0\n",
      "-------------------------\n",
      "0 | 0 | P | 4 | 0 | 0 | 0\n",
      "-------------------------\n",
      "0 | 0 | 0 | 0 | 0 | 0 | 0\n",
      "\n",
      "\n",
      "\n"
     ]
    }
   ],
   "source": [
    "# Set up the grid for the puzzle\n",
    "grid = [[0] * 7 for _ in range(7)]\n",
    "\n",
    "# Label the dark squares in the puzzle grid\n",
    "grid[1][4] = 'T'\n",
    "grid[2][1] = 'C'\n",
    "grid[2][3] = 'T'\n",
    "grid[3][2] = 'E'\n",
    "grid[3][4] = 'E'\n",
    "grid[4][3] = 'E'\n",
    "grid[4][5] = 'E'\n",
    "grid[5][2] = 'P'\n",
    "grid[3][3] = 7\n",
    "\n",
    "# Prepare to handle the light squares in the puzzle grid\n",
    "lights = [(i,j) for i,j in product(range(1,6), range(1,6)) \n",
    "          if (i+j) % 2 == 0\n",
    "          and (i,j) not in [(1,5),(5,1),(1,1),(5,5),(3,3)]]\n",
    "\n",
    "# Try each possible way to fill the light squares, and show the solution(s)\n",
    "for digits in permutations([1,2,3,4,5,6,8,9]):\n",
    "    for (i,j),d in zip(lights, digits):\n",
    "        grid[i][j] = d\n",
    "    if checkgrid(grid):\n",
    "        printgrid(grid)\n",
    "        print('\\n\\n')\n",
    "        "
   ]
  },
  {
   "cell_type": "markdown",
   "metadata": {},
   "source": [
    "## \"1 to 9\" Puzzle #180907\n",
    "Source: https://twitter.com/1to9puzzle/status/1037836364262395904\n",
    "\n",
    "![The puzzle](https://pbs.twimg.com/media/DmciqVZW4AAruCj.jpg)"
   ]
  },
  {
   "cell_type": "markdown",
   "metadata": {},
   "source": [
    "### My solution\n",
    "I'll reuse some of the tools from previous problems:  \n",
    "`sum_dict`, `cols()`, `printgrid()`, `itertools`"
   ]
  },
  {
   "cell_type": "code",
   "execution_count": 8,
   "metadata": {},
   "outputs": [],
   "source": [
    "def checkgrid(grid, row_reqs, col_reqs, diag_reqs):\n",
    "    '''Determine whether a given grid fits the requirements.'''\n",
    "    \n",
    "    # Check the rows and columns\n",
    "    for i, row in enumerate(grid):\n",
    "        if sum_dict[sum(row)] != row_reqs[i]:\n",
    "            return False\n",
    "    for i, col in enumerate(cols(grid)):\n",
    "        if sum_dict[sum(col)] != col_reqs[i]:\n",
    "            return False\n",
    "\n",
    "    # Check the primary diagonal\n",
    "    n = len(grid)\n",
    "    if sum_dict[sum(grid[i][i] for i in range(n))] != diag_reqs[0]:\n",
    "        return False\n",
    "\n",
    "    # Check the secondary diagonal\n",
    "    if sum_dict[sum(grid[i][n-i-1] for i in range(n))] != diag_reqs[1]:\n",
    "        return False\n",
    "    \n",
    "    return True    "
   ]
  },
  {
   "cell_type": "code",
   "execution_count": 9,
   "metadata": {
    "scrolled": true
   },
   "outputs": [
    {
     "name": "stdout",
     "output_type": "stream",
     "text": [
      "2 | 9 | 5\n",
      "---------\n",
      "7 | 4 | 1\n",
      "---------\n",
      "6 | 3 | 8\n",
      "\n",
      "\n",
      "\n",
      "8 | 3 | 5\n",
      "---------\n",
      "1 | 4 | 7\n",
      "---------\n",
      "6 | 9 | 2\n",
      "\n",
      "\n",
      "\n"
     ]
    }
   ],
   "source": [
    "# Set up the grid for the puzzle\n",
    "grid = [[0] * 3 for _ in range(3)]\n",
    "grid[1][1] = 4\n",
    "\n",
    "# Prepare to handle the blank squares in the puzzle grid\n",
    "blanks = [(i,j) for i,j in product(range(3), range(3)) if i*j != 1]\n",
    "\n",
    "# Try each possible way to fill the blanks, and show the solution(s)\n",
    "for digits in permutations([1,2,3,5,6,7,8,9]):\n",
    "    for (i,j),d in zip(blanks, digits):\n",
    "        grid[i][j] = d\n",
    "    if checkgrid(\n",
    "        grid,\n",
    "        row_reqs  = ('S','E','P'),\n",
    "        col_reqs  = ('T','S','E'),\n",
    "        diag_reqs = ('E','T')\n",
    "    ):\n",
    "        printgrid(grid)\n",
    "        print('\\n\\n')\n",
    "        "
   ]
  },
  {
   "cell_type": "markdown",
   "metadata": {},
   "source": [
    "## \"1 to 9\" Puzzle #1836\n",
    "Source: https://twitter.com/1to9puzzle/status/1038053770561826816\n",
    "\n",
    "![The puzzle](https://pbs.twimg.com/media/DmfngHlXoAADa78.jpg)"
   ]
  },
  {
   "cell_type": "markdown",
   "metadata": {},
   "source": [
    "### My solution\n",
    "\n",
    "Again I'll reuse a few tools from earlier:   \n",
    "`checkgrid()`, `printgrid()`, `itertools`  \n",
    "In fact, it turns out that this problem requires almost nothing more than to redefine the `sum_dict`!"
   ]
  },
  {
   "cell_type": "code",
   "execution_count": 10,
   "metadata": {},
   "outputs": [],
   "source": [
    "import inflect"
   ]
  },
  {
   "cell_type": "code",
   "execution_count": 11,
   "metadata": {},
   "outputs": [],
   "source": [
    "# Find the correct labels for all the sums we might possibly encounter\n",
    "# Each sum is represented by the first letter of the sum when \n",
    "# written out in English (e.g. represent 6 + 1 + 7 with \"F\")\n",
    "sum_dict = {}\n",
    "num2word = inflect.engine().number_to_words\n",
    "for k in range(9+8+7+1): \n",
    "    sum_dict[k] = num2word(k)[0].upper()"
   ]
  },
  {
   "cell_type": "code",
   "execution_count": 12,
   "metadata": {
    "scrolled": false
   },
   "outputs": [
    {
     "name": "stdout",
     "output_type": "stream",
     "text": [
      "3 | 9 | 7\n",
      "---------\n",
      "5 | 2 | 4\n",
      "---------\n",
      "8 | 6 | 1\n",
      "\n",
      "\n",
      "\n",
      "7 | 3 | 9\n",
      "---------\n",
      "4 | 2 | 5\n",
      "---------\n",
      "6 | 1 | 8\n",
      "\n",
      "\n",
      "\n"
     ]
    }
   ],
   "source": [
    "# Set up the grid for the puzzle\n",
    "grid = [[0] * 3 for _ in range(3)]\n",
    "grid[1][1] = 2\n",
    "\n",
    "# Prepare to handle the blank squares in the puzzle grid\n",
    "blanks = [(i,j) for i,j in product(range(3), range(3)) if i*j != 1]\n",
    "\n",
    "# Try each possible way to fill the blanks, and show any solution(s)\n",
    "for digits in permutations([1,3,4,5,6,7,8,9]):\n",
    "    for (i,j),d in zip(blanks, digits):\n",
    "        grid[i][j] = d\n",
    "    if checkgrid(\n",
    "        grid,\n",
    "        row_reqs  = ('N', 'E', 'F'),\n",
    "        col_reqs  = ('S', 'S', 'T'),\n",
    "        diag_reqs = ('S', 'S'),\n",
    "    ):\n",
    "        printgrid(grid)\n",
    "        print('\\n\\n')\n",
    "        "
   ]
  },
  {
   "cell_type": "markdown",
   "metadata": {},
   "source": [
    "## \"1 to 9\" Puzzle #181013\n",
    "Source: https://twitter.com/1to9puzzle/status/1050859935284649984\n",
    "\n",
    "![The puzzle](https://pbs.twimg.com/media/DpVniaiWsAAwfzx.jpg)"
   ]
  },
  {
   "cell_type": "markdown",
   "metadata": {},
   "source": [
    "### My solution\n",
    "\n",
    "Again, this problem requires only a redefinition of the `sum_dict`."
   ]
  },
  {
   "cell_type": "code",
   "execution_count": 13,
   "metadata": {},
   "outputs": [],
   "source": [
    "import roman_numerals\n",
    "def numeral(num):\n",
    "    s = roman_numerals.convert_to_numeral(num)\n",
    "    for a, b in roman_numerals.SHORTENINGS:        \n",
    "        s = s.replace(b, a) # undo some fancy stuff we don't want\n",
    "    return s"
   ]
  },
  {
   "cell_type": "code",
   "execution_count": 14,
   "metadata": {},
   "outputs": [],
   "source": [
    "# Find the correct labels for all the sums we might possibly encounter\n",
    "# Each sum is represented by the first letter of the sum when \n",
    "# written out in English (e.g. represent 6 + 1 + 7 with \"F\")\n",
    "sum_dict = {}\n",
    "for k in range(9+8+7+1): \n",
    "    sum_dict[k] = len(numeral(k))"
   ]
  },
  {
   "cell_type": "code",
   "execution_count": 16,
   "metadata": {
    "scrolled": false
   },
   "outputs": [
    {
     "name": "stdout",
     "output_type": "stream",
     "text": [
      "2 | 9 | 1\n",
      "---------\n",
      "5 | 4 | 3\n",
      "---------\n",
      "8 | 7 | 6\n",
      "\n",
      "\n",
      "\n"
     ]
    }
   ],
   "source": [
    "# Set up the grid for the puzzle\n",
    "grid = [[0] * 3 for _ in range(3)]\n",
    "grid[1][1] = 4\n",
    "\n",
    "# Prepare to handle the blank squares in the puzzle grid\n",
    "blanks = [(i,j) for i,j in product(range(3), range(3)) if i*j != 1]\n",
    "\n",
    "# Try each possible way to fill the blanks, and show any solution(s)\n",
    "for digits in permutations([1,2,3,5,6,7,8,9]):\n",
    "    for (i,j),d in zip(blanks, digits):\n",
    "        grid[i][j] = d\n",
    "    if checkgrid(\n",
    "        grid,\n",
    "        row_reqs  = (3, 3, 3),\n",
    "        col_reqs  = (2, 2, 1),\n",
    "        diag_reqs = (3, 4),\n",
    "    ):\n",
    "        printgrid(grid)\n",
    "        print('\\n\\n')\n",
    "        "
   ]
  },
  {
   "cell_type": "markdown",
   "metadata": {},
   "source": [
    "## \"Skyscrapers\"\n",
    "Source: https://twitter.com/solvemymaths/status/1038308216264896518\n",
    "\n",
    "![The puzzle part 1](https://pbs.twimg.com/media/DmjP0LaXgAAPh0X.jpg)\n",
    "![The puzzle part 2](https://pbs.twimg.com/media/DmjP0ahX0AEUN2K.jpg)\n"
   ]
  },
  {
   "cell_type": "markdown",
   "metadata": {},
   "source": [
    "### My solution\n",
    "\n",
    "We'll reuse some code from before verbatim, but let's pretend we're starting from scratch."
   ]
  },
  {
   "cell_type": "code",
   "execution_count": 13,
   "metadata": {},
   "outputs": [],
   "source": [
    "from copy import deepcopy"
   ]
  },
  {
   "cell_type": "code",
   "execution_count": 14,
   "metadata": {},
   "outputs": [],
   "source": [
    "def count_maxes(l):\n",
    "    '''Count the number of times a list of positive numbers reaches a new maximum.'''\n",
    "    mx = l[0]\n",
    "    cnt = 1\n",
    "    for i in l[1:]:\n",
    "        if i and i > mx:\n",
    "            cnt += 1\n",
    "            mx = i\n",
    "    return cnt\n",
    "\n",
    "def checkrow(row, req):\n",
    "    '''Make sure a given row (or column) isn't breaking its two given requirements.'''\n",
    "\n",
    "    # The row may contain up to one of each number\n",
    "    n = len(row)\n",
    "    if max(row.count(d+1) for d in range(n)) > 1:\n",
    "        return False\n",
    "    \n",
    "    # If the row has any numbers, check that they do not exceed the first requirement\n",
    "    if req[0] and any(row) and count_maxes(row) > req[0]:\n",
    "        return False\n",
    "    \n",
    "    # If the row is full, check that both requirements are met exactly\n",
    "    if req[0] and all(row) and count_maxes(row) != req[0]:\n",
    "        return False\n",
    "    if req[1] and all(row) and count_maxes(row[::-1]) != req[1]:\n",
    "        return False\n",
    "    \n",
    "    return True\n",
    "\n",
    "def cols(grid):\n",
    "    '''Get all the columns of a grid (essentially, transpose the grid).'''\n",
    "    return [[e[i] for e in grid] for i in range(len(grid[0]))]\n",
    "\n",
    "def col(grid, k):\n",
    "    '''Get a single column of a grid.'''\n",
    "    return [e[k] for e in grid]\n",
    "\n",
    "def checkgrid(grid, row_reqs, col_reqs):\n",
    "    '''Check that no rules are violated in an entire grid.'''\n",
    "    if not all(checkrow(g, r) for g,r in zip(grid, row_reqs)):\n",
    "        return False\n",
    "    if not all(checkrow(g, r) for g,r in zip(cols(grid), col_reqs)):\n",
    "        return False\n",
    "    return True\n",
    "\n",
    "def printgrid(grid):\n",
    "    '''Neatly print out a grid.'''\n",
    "    print(('\\n' + '-' * (4*len(grid[0]) - 3) + '\\n')\n",
    "          .join([' | '.join(str(i) for i in g) for g in grid]))  \n",
    "\n",
    "    \n",
    "def solve_skyscraper(row_reqs, col_reqs, fill_coords = [], fill_vals = []):\n",
    "    '''For a skyscraper problem specified by certain row and \n",
    "    column requirements, find and display all solutions.'''\n",
    "\n",
    "    # Size of the problem\n",
    "    n = len(row_reqs)\n",
    "\n",
    "    # In each spot in a grid, numbers will be tested in order\n",
    "    cycle = {None : 1}\n",
    "    for i in range(1,n): cycle[i] = i+1\n",
    "\n",
    "    solutions = []\n",
    "\n",
    "    # The initial grid with given values filled in\n",
    "    grid = [[None] * n for _ in range(n)]\n",
    "    for (i,j), v in zip(fill_coords, fill_vals):\n",
    "        grid[i][j] = v\n",
    "    \n",
    "    # Starting position in the grid (upper left)\n",
    "    currx, curry = 0, 0\n",
    "\n",
    "    # Keep working until all possibilites are exhausted\n",
    "    # (so if there are multiple solutions, we can find all of them)\n",
    "    while curry >= 0:\n",
    "                \n",
    "        # At the current position in the grid, try the next letter\n",
    "        try:\n",
    "            grid[curry][currx] = cycle[grid[curry][currx]]\n",
    "\n",
    "        # If there are no more letters to try, back up to the previous position\n",
    "        # (and keep backing up if a filled spot is reached)\n",
    "        except KeyError: \n",
    "            grid[curry][currx] = None\n",
    "            retreat = True\n",
    "            while retreat:\n",
    "                currx -= 1\n",
    "                if currx < 0:\n",
    "                    currx  = n-1\n",
    "                    curry -= 1\n",
    "                retreat = ((curry, currx) in fill_coords)\n",
    "            continue\n",
    "\n",
    "        # If we have found a solution, save it\n",
    "        if (currx, curry) == (n-1,n-1) and checkgrid(grid, row_reqs, col_reqs):\n",
    "            solutions.append(deepcopy(grid))\n",
    "            \n",
    "        # Otherwise, if we're not currently breaking any rules, advance to the next position\n",
    "        # (and keep advancing if a filled spot is reached)        \n",
    "        elif (checkrow(grid[curry], row_reqs[curry]) and \n",
    "              checkrow(col(grid, currx), col_reqs[currx])):\n",
    "            advance = True\n",
    "            while advance:\n",
    "                currx += 1\n",
    "                if currx > n-1:\n",
    "                    currx  = 0\n",
    "                    curry += 1\n",
    "                advance = ((curry, currx) in fill_coords)\n",
    "    \n",
    "    return solutions\n"
   ]
  },
  {
   "cell_type": "markdown",
   "metadata": {},
   "source": [
    "#### First puzzle"
   ]
  },
  {
   "cell_type": "code",
   "execution_count": 15,
   "metadata": {},
   "outputs": [
    {
     "name": "stdout",
     "output_type": "stream",
     "text": [
      "1 | 4 | 3 | 2\n",
      "-------------\n",
      "2 | 1 | 4 | 3\n",
      "-------------\n",
      "3 | 2 | 1 | 4\n",
      "-------------\n",
      "4 | 3 | 2 | 1\n",
      "\n",
      "\n",
      "\n"
     ]
    }
   ],
   "source": [
    "soln = solve_skyscraper(\n",
    "    row_reqs = [(2,3),(2,2),(2,1),(1,4)],\n",
    "    col_reqs = [(4,1),(1,2),(2,2),(3,2)]\n",
    ")\n",
    "\n",
    "for s in soln: \n",
    "    printgrid(s)\n",
    "    print('\\n\\n')\n"
   ]
  },
  {
   "cell_type": "markdown",
   "metadata": {},
   "source": [
    "#### Second puzzle"
   ]
  },
  {
   "cell_type": "code",
   "execution_count": 16,
   "metadata": {
    "scrolled": false
   },
   "outputs": [
    {
     "name": "stdout",
     "output_type": "stream",
     "text": [
      "1 | 3 | 2 | 4\n",
      "-------------\n",
      "3 | 4 | 1 | 2\n",
      "-------------\n",
      "2 | 1 | 4 | 3\n",
      "-------------\n",
      "4 | 2 | 3 | 1\n",
      "\n",
      "\n",
      "\n"
     ]
    }
   ],
   "source": [
    "soln = solve_skyscraper(\n",
    "    row_reqs = [(3,None),(None,None),(2,None),(None,None)],\n",
    "    col_reqs = [(3,None),(None,None),(2,None),(None,None)],\n",
    "    fill_coords = [(1,2)], fill_vals = [1]\n",
    ")\n",
    "\n",
    "for s in soln: \n",
    "    printgrid(s)\n",
    "    print('\\n\\n')\n"
   ]
  },
  {
   "cell_type": "markdown",
   "metadata": {},
   "source": [
    "## Generating new \"skyscrapers\" puzzles\n",
    "It would be interesting to me to see a skyscraper puzzle with several distinct solutions..."
   ]
  },
  {
   "cell_type": "code",
   "execution_count": 17,
   "metadata": {},
   "outputs": [],
   "source": [
    "# For drawing random numbers\n",
    "from random import randrange"
   ]
  },
  {
   "cell_type": "code",
   "execution_count": 18,
   "metadata": {},
   "outputs": [],
   "source": [
    "def printreqs(row_reqs, col_reqs):\n",
    "    '''Neatly print out an unsolved puzzle grid.'''\n",
    "    n = len(row_reqs)\n",
    "    print(' ' + '   '.join(str(r[0]) if r[0] else ' ' for r in col_reqs))\n",
    "    for i in range(n):\n",
    "        print(str(row_reqs[i][0]) if row_reqs[i][0] else ' ', end = '')\n",
    "        print(' | '.join(' ' for j in range(n)), end = '')  \n",
    "        print(str(row_reqs[i][1]) + '  ' if row_reqs[i][1] else '')            \n",
    "        if i < n-1: print(' ' + '-' * (4*n - 3))\n",
    "    print(' ' + '   '.join(str(r[1]) if r[1] else ' ' for r in col_reqs))\n"
   ]
  },
  {
   "cell_type": "code",
   "execution_count": 19,
   "metadata": {},
   "outputs": [],
   "source": [
    "def rn():\n",
    "    '''Returns None, 1, 2, 3, or 4.'''\n",
    "    val = randrange(0, 5)\n",
    "    return val if val else None\n",
    "\n",
    "# Look for puzzles with at least 3 solutions\n",
    "soln = []\n",
    "while len(soln) < 3:\n",
    "    row_reqs = [(rn(),rn()),(rn(),rn()),(rn(),rn()),(rn(),rn())]\n",
    "    col_reqs = [(rn(),rn()),(rn(),rn()),(rn(),rn()),(rn(),rn())]\n",
    "    soln = solve_skyscraper(row_reqs, col_reqs)"
   ]
  },
  {
   "cell_type": "code",
   "execution_count": 20,
   "metadata": {},
   "outputs": [
    {
     "name": "stdout",
     "output_type": "stream",
     "text": [
      " 3       2   2\n",
      "2  |   |   |  \n",
      " -------------\n",
      "   |   |   |  \n",
      " -------------\n",
      "   |   |   |  1  \n",
      " -------------\n",
      "   |   |   |  \n",
      " 1       2   2\n"
     ]
    }
   ],
   "source": [
    "printreqs(row_reqs, col_reqs)"
   ]
  },
  {
   "cell_type": "code",
   "execution_count": 21,
   "metadata": {},
   "outputs": [
    {
     "name": "stdout",
     "output_type": "stream",
     "text": [
      "1 | 4 | 2 | 3\n",
      "-------------\n",
      "3 | 1 | 4 | 2\n",
      "-------------\n",
      "2 | 3 | 1 | 4\n",
      "-------------\n",
      "4 | 2 | 3 | 1\n",
      "\n",
      "\n",
      "\n",
      "1 | 4 | 2 | 3\n",
      "-------------\n",
      "3 | 2 | 4 | 1\n",
      "-------------\n",
      "2 | 3 | 1 | 4\n",
      "-------------\n",
      "4 | 1 | 3 | 2\n",
      "\n",
      "\n",
      "\n",
      "1 | 4 | 3 | 2\n",
      "-------------\n",
      "3 | 2 | 4 | 1\n",
      "-------------\n",
      "2 | 3 | 1 | 4\n",
      "-------------\n",
      "4 | 1 | 2 | 3\n",
      "\n",
      "\n",
      "\n",
      "2 | 4 | 1 | 3\n",
      "-------------\n",
      "1 | 3 | 4 | 2\n",
      "-------------\n",
      "3 | 1 | 2 | 4\n",
      "-------------\n",
      "4 | 2 | 3 | 1\n",
      "\n",
      "\n",
      "\n",
      "2 | 4 | 1 | 3\n",
      "-------------\n",
      "3 | 1 | 4 | 2\n",
      "-------------\n",
      "1 | 3 | 2 | 4\n",
      "-------------\n",
      "4 | 2 | 3 | 1\n",
      "\n",
      "\n",
      "\n",
      "2 | 4 | 1 | 3\n",
      "-------------\n",
      "3 | 2 | 4 | 1\n",
      "-------------\n",
      "1 | 3 | 2 | 4\n",
      "-------------\n",
      "4 | 1 | 3 | 2\n",
      "\n",
      "\n",
      "\n"
     ]
    }
   ],
   "source": [
    "for s in soln: \n",
    "    printgrid(s)\n",
    "    print('\\n\\n')"
   ]
  },
  {
   "cell_type": "markdown",
   "metadata": {},
   "source": [
    "## \"A to Z\" Puzzle #180910\n",
    "\n",
    "Source: https://twitter.com/1to9puzzle/status/1039140873773219841  \n",
    "![The puzzle](https://pbs.twimg.com/media/DmvFCgZW0AA0uw5.jpg)"
   ]
  },
  {
   "cell_type": "markdown",
   "metadata": {},
   "source": [
    "### My solution\n",
    "\n",
    "No `import` statements or previous functions are needed. The solution is fairly straightforward."
   ]
  },
  {
   "cell_type": "code",
   "execution_count": 22,
   "metadata": {},
   "outputs": [],
   "source": [
    "def expr(grid, p):\n",
    "    '''Convert a path through the grid into a mathematical expression.'''\n",
    "    return ' '.join(grid[i][j] for i,j in p[1:-1])\n",
    "\n",
    "def check_path(grid, p):\n",
    "    '''Check whether a path produces a true equation.'''\n",
    "    e = expr(grid, p)\n",
    "    return '==' in e and eval(e)\n",
    "\n",
    "def solve_AtoB(grid):\n",
    "    '''Find all paths through the given grid, starting \n",
    "       at \"A\" and ending at \"B\" and forming a true equation.'''\n",
    "    \n",
    "    # A path through the grid \n",
    "    # (initially it should only have the location of \"A\")    \n",
    "    path = [(i, row.index('A')) for i, row in enumerate(grid) if 'A' in row]   \n",
    "    assert len(path) == 1\n",
    "    \n",
    "    # List of directions taken\n",
    "    dirs = ['']\n",
    "\n",
    "    # Solutions to be returned\n",
    "    turns, eqns = [], []\n",
    "\n",
    "    # Directions will be tried in the following order\n",
    "    next_dir = {'':'R', 'R':'D', 'D':'L', 'L':'U'}\n",
    "\n",
    "    # Keep trying paths until there are none left\n",
    "    # (so all solutions should be found)\n",
    "    while (grid[path[-1][0]][path[-1][1]], dirs[-1]) != ('A', 'U'):\n",
    "        curr_y, curr_x = path[-1]\n",
    "\n",
    "        # Try the next direction at the current position in the grid\n",
    "        try:\n",
    "            dirs[-1] = next_dir[dirs[-1]]\n",
    "\n",
    "        # If all directions have been tried, back up\n",
    "        except:\n",
    "            path = path[:-1]\n",
    "            dirs = dirs[:-1]\n",
    "            continue\n",
    "\n",
    "        # Move forward in the chosen direction\n",
    "        if dirs[-1]   == 'R': curr_x += 1\n",
    "        elif dirs[-1] == 'D': curr_y += 1\n",
    "        elif dirs[-1] == 'L': curr_x -= 1\n",
    "        elif dirs[-1] == 'U': curr_y -= 1\n",
    "\n",
    "        # Add the next position to the path, if it's inside \n",
    "        # the grid and it hasn't already been visited\n",
    "        if ((curr_y, curr_x) not in path\n",
    "            and 0 <= curr_y < len(grid)\n",
    "            and 0 <= curr_x < len(grid[0])):\n",
    "            path.append((curr_y, curr_x))\n",
    "            dirs.append('')            \n",
    "\n",
    "            # If we reach the \"B\" square, check whether the path \n",
    "            # is valid and then back up to look for others\n",
    "            if grid[curr_y][curr_x] == 'B':\n",
    "                if check_path(grid, path): \n",
    "                    turns.append(''.join(dirs))\n",
    "                    eqns.append(expr(grid, path))\n",
    "                path = path[:-1]\n",
    "                dirs = dirs[:-1]\n",
    "                \n",
    "    return eqns, turns"
   ]
  },
  {
   "cell_type": "code",
   "execution_count": 23,
   "metadata": {},
   "outputs": [
    {
     "name": "stdout",
     "output_type": "stream",
     "text": [
      "There are 34 valid paths through the grid, producing 22 distinct equations.\n",
      "4 - 8 + 8 = 2 + 2 (DRDDRURRDD)\n",
      "4 - 8 + 8 = 2 + 2 (DRDDRURDRD)\n",
      "4 - 8 + 8 = 2 + 2 (DRDDRURDDR)\n",
      "4 - 8 + 8 = 2 × 1 + 2 (DRDDRURURDDD)\n",
      "4 - 8 + 8 = 2 × 1 + 2 (DRDDRUURRDDD)\n",
      "4 - 8 + 8 = 2 × 1 / 1 + 2 (DRDDRURUURDDDD)\n",
      "4 - 8 + 8 = 2 × 1 / 1 + 2 (DRDDRUURURDDDD)\n",
      "5 + 1 / 1 + 2 × 2 = 8 + 2 (RRRRDDLULDDRRD)\n",
      "5 + 1 / 1 + 2 × 2 = 8 + 2 (RRRRDDLULDDRDR)\n",
      "5 - 8 + 8 = 2 + 1 × 1 + 2 (RDDDRUUURDRDDD)\n",
      "5 - 8 + 8 = 2 + 1 / 1 + 2 (RDDDRUUURRDDDD)\n",
      "4 - 2 × 1 + 2 + 8 = 8 + 2 × 2 (DRRRRDDLLULDDRRR)\n",
      "4 - 2 × 1 + 2 + 8 = 8 + 2 × 2 (DRRRRDLDLULDDRRR)\n",
      "4 - 2 + 1 × 2 + 8 = 8 + 2 × 2 (DRRURDDDLULDDRRR)\n",
      "4 - 2 × 1 / 1 + 2 + 8 = 8 + 2 × 2 (DRRRURDDDLLULDDRRR)\n",
      "4 - 2 × 1 / 1 + 2 + 8 = 8 + 2 × 2 (DRRRURDDLDLULDDRRR)\n",
      "4 - 2 + 1 / 1 × 2 + 8 = 8 + 2 × 2 (DRRURRDLDDLULDDRRR)\n",
      "5 + 1 × 1 + 2 + 2 = 2 - 8 + 8 × 2 (RRRDRDDLULULDDRDRR)\n",
      "5 + 1 / 1 + 2 + 2 × 2 = 8 + 2 × 2 (RRRRDDDLUULDDLDRRR)\n",
      "5 + 1 / 1 + 2 + 2 × 2 = 8 + 2 × 2 (RRRRDDDLUULDLDDRRR)\n",
      "5 + 1 / 1 + 2 + 2 = 2 - 8 + 8 × 2 (RRRRDDDLULULDDRDRR)\n",
      "5 - 2 × 1 + 2 + 8 = 8 + 5 / 2 × 2 (RDRRRDDLLULDLDRRRR)\n",
      "5 - 2 × 1 + 2 + 8 = 8 + 5 / 2 × 2 (RDRRRDLDLULDLDRRRR)\n",
      "5 - 2 + 1 × 2 + 8 = 8 + 5 / 2 × 2 (RDRURDDDLULDLDRRRR)\n",
      "5 - 8 + 5 / 2 × 2 + 2 = 2 × 1 + 2 (RDDDLDRRRUULURRDDD)\n",
      "4 - 2 + 1 × 1 + 2 + 8 = 8 + 5 / 2 × 2 (DRRURDRDDLLULDLDRRRR)\n",
      "4 - 2 + 1 × 1 + 2 + 8 = 8 + 5 / 2 × 2 (DRRURDRDLDLULDLDRRRR)\n",
      "4 - 2 + 1 / 1 + 2 + 8 = 8 + 5 / 2 × 2 (DRRURRDDDLLULDLDRRRR)\n",
      "4 - 2 + 1 / 1 + 2 + 8 = 8 + 5 / 2 × 2 (DRRURRDDLDLULDLDRRRR)\n",
      "4 - 5 + 2 × 2 + 2 + 8 = 8 + 5 / 2 × 2 (DRURDRDRDLLULDLDRRRR)\n",
      "5 - 2 × 1 / 1 + 2 + 8 = 8 + 5 / 2 × 2 (RDRRURDDDLLULDLDRRRR)\n",
      "5 - 2 × 1 / 1 + 2 + 8 = 8 + 5 / 2 × 2 (RDRRURDDLDLULDLDRRRR)\n",
      "5 - 2 + 1 / 1 × 2 + 8 = 8 + 5 / 2 × 2 (RDRURRDLDDLULDLDRRRR)\n",
      "5 - 8 + 5 / 2 × 2 + 2 = 2 × 1 / 1 + 2 (RDDDLDRRRUULURURDDDD)\n"
     ]
    }
   ],
   "source": [
    "eqns, turns = solve_AtoB([\n",
    "    ['A', '5', '+',  '1', '/'],\n",
    "    ['4', '-', '2',  '*', '1'],\n",
    "    ['/', '8', '==', '2', '+'],\n",
    "    ['5', '+', '8',  '+', '2'],\n",
    "    ['/', '2', '*',  '2', 'B']\n",
    "])\n",
    "\n",
    "# Report the size of the solutions set\n",
    "print('There are %d valid paths through the grid, producing %d distinct equations.' \n",
    "     % (len(turns), len(set(eqns))))\n",
    "\n",
    "# List the solutions in order of size\n",
    "sort_index = sorted([(len(t), e, i) for i, (t, e) in enumerate(zip(turns,eqns))])\n",
    "for _, _, i in sort_index:\n",
    "    print('%s (%s)' % (eqns[i].replace('==','=').replace('*','×'), turns[i]))"
   ]
  },
  {
   "cell_type": "markdown",
   "metadata": {},
   "source": [
    "## Generating new \"A to Z\" puzzles\n",
    "This is a really cool kind of puzzle; I have ideas for several variations to try to generate."
   ]
  },
  {
   "cell_type": "markdown",
   "metadata": {},
   "source": [
    "### Idea 1: Get away from the corners\n",
    "My solution code should be able to handle puzzles where \"A\" and/or \"B\" are not in corners of the puzzle, and \"=\" is not in the middle. Let's create a puzzle like that, with solutions."
   ]
  },
  {
   "cell_type": "code",
   "execution_count": 24,
   "metadata": {},
   "outputs": [],
   "source": [
    "def printgrid(grid):\n",
    "    '''Neatly print out a grid.'''\n",
    "    print(('\\n' + '-' * (4*len(grid[0]) - 3) + '\\n')\n",
    "          .join([' | '.join(i.replace('==','=').replace('*','×') for i in g) for g in grid]))  \n",
    "\n",
    "    \n",
    "    \n",
    "pipe_dict = {\n",
    "    'UU' : '│', 'UL' : '┐', 'UR' : '┌', 'DD' : '│',\n",
    "    'DL' : '┘', 'DR' : '└', 'LU' : '└', 'LD' : '┌',\n",
    "    'LL' : '─', 'RU' : '┘', 'RD' : '┐', 'RR' : '─',\n",
    "    'R'  : 'B', 'D'  : 'B', 'L'  : 'B', 'U'  : 'B' \n",
    "}    \n",
    "    \n",
    "try:\n",
    "    import pandas as pd\n",
    "    from IPython.display import display, HTML\n",
    "    pandas_display = True\n",
    "except:\n",
    "    pandas_display = False\n",
    "    \n",
    "def printpath(path, n = None, start = (0,0)):\n",
    "    '''Display a path through a grid in (sort of) graphical form.'''\n",
    "    \n",
    "    # Set up the solution grid to be displayed\n",
    "    if n is None: n = max(start) + 1\n",
    "    grid = [[' '] * n for _ in range(n)]\n",
    "\n",
    "    # Fill in the starting position\n",
    "    i,j = start\n",
    "    grid[i][j] = 'A'\n",
    "    \n",
    "    # Fill in the rest of the path\n",
    "    for k in range(len(path)):\n",
    "        if   path[k] == 'R': j += 1\n",
    "        elif path[k] == 'L': j -= 1\n",
    "        elif path[k] == 'U': i -= 1\n",
    "        elif path[k] == 'D': i += 1\n",
    "            \n",
    "        # Expand the grid as necessary\n",
    "        if i == n or j == n:\n",
    "            grid.append([' ']*n)\n",
    "            for row in grid: row.append(' ')\n",
    "            n += 1\n",
    "            \n",
    "        # Put the correct symbol in the current space\n",
    "        grid[i][j] = pipe_dict[path[k:k+2]]\n",
    "        \n",
    "    if pandas_display:\n",
    "        display(HTML(pd.DataFrame(grid).to_html(header = False, index = False)))\n",
    "    else:\n",
    "        print('\\n'.join(' '.join(row) for row in grid))\n",
    "    \n",
    "    \n",
    "def build_grid(n, max_number,\n",
    "               start = None, stop = None, eq = None,\n",
    "               operators = '+-/*'):\n",
    "    '''Create an n-by-n problem at random.\n",
    "       e.g.: build_grid(5, 9, start = (0,0), stop = (4,4), eq = (2,2)) \n",
    "             would return a 5-by-5 grid with \"A\" and \"B\" in opposite \n",
    "             corners, \"=\" in the middle, with numbers no larger than 9.\n",
    "       CAUTION: A solution is not guaranteed to exist!'''\n",
    "\n",
    "    # The grid to be returned\n",
    "    grid = [[0] * n for _ in range(n)]\n",
    "    \n",
    "    # Places to put numbers\n",
    "    number_spots = [(i,j) for i,j \n",
    "                    in product(range(n), range(n))\n",
    "                    if (i+j) % 2 == 1]\n",
    "    \n",
    "    # Places to put operators like +, -, /, *\n",
    "    operator_spots = [(i,j) for i,j \n",
    "                      in product(range(n), range(n))\n",
    "                      if (i+j) % 2 == 0]\n",
    "    \n",
    "    # Fill in random numbers\n",
    "    for i,j in number_spots:\n",
    "        grid[i][j] = str(randrange(1, max_number+1))\n",
    "\n",
    "    # Fill in random operators\n",
    "    for i,j in operator_spots:\n",
    "        grid[i][j] = operators[randrange(0, len(operators))]\n",
    "    \n",
    "    # Put \"A\" somewhere\n",
    "    if start:\n",
    "        grid[start[0]][start[1]] = 'A'\n",
    "    else:\n",
    "        i,j = operator_spots[randrange(0, len(operator_spots))]\n",
    "        grid[i][j] = 'A'\n",
    "\n",
    "    # Put \"B\" somewhere\n",
    "    if stop:\n",
    "        grid[stop[0]][stop[1]] = 'B'\n",
    "    else:\n",
    "        while grid[i][j] == 'A':\n",
    "            i,j = operator_spots[randrange(0, len(operator_spots))]\n",
    "        grid[i][j] = 'B'\n",
    "        \n",
    "    # Put \"=\" somewhere\n",
    "    if eq:\n",
    "        grid[eq[0]][eq[1]] = '=='\n",
    "    else:\n",
    "        while grid[i][j] in ('A', 'B'):\n",
    "            i,j = operator_spots[randrange(0, len(operator_spots))]\n",
    "        grid[i][j] = '=='\n",
    "    \n",
    "    return grid\n"
   ]
  },
  {
   "cell_type": "code",
   "execution_count": 25,
   "metadata": {},
   "outputs": [
    {
     "name": "stdout",
     "output_type": "stream",
     "text": [
      "× | 6 | / | 4 | -\n",
      "-----------------\n",
      "8 | - | 6 | A | 3\n",
      "-----------------\n",
      "B | 3 | × | 7 | -\n",
      "-----------------\n",
      "9 | - | 8 | = | 8\n",
      "-----------------\n",
      "- | 7 | - | 7 | /\n",
      "\n",
      "\n",
      "\n",
      "There are 7 valid paths through the grid, producing 7 distinct equations.\n",
      "7 - 8 = 8 - 9 (DRDLLLLU)\n",
      "3 - 7 = 7 - 8 - 3 (RDLDDLULUL)\n",
      "3 - 7 = 7 - 8 × 6 / 6 - 3 (RDLDDLUUUULDDL)\n",
      "3 - 7 = 8 × 6 / 6 - 3 - 9 (RDLDLUUULDDDLU)\n",
      "3 - 8 = 7 × 6 / 6 - 3 - 9 (RDDLULUULDDDLU)\n",
      "6 - 8 × 6 / 4 - 3 - 8 = 7 - 8 × 3 (LLLURRRRDDDLDLUULL)\n",
      "6 - 8 × 6 / 4 - 3 - 8 = 7 - 8 - 7 - 9 (LLLURRRRDDDLDLULDLUU)\n",
      "\n",
      "\n",
      "\n"
     ]
    },
    {
     "data": {
      "text/html": [
       "<table border=\"1\" class=\"dataframe\">\n",
       "  <tbody>\n",
       "    <tr>\n",
       "      <td>┌</td>\n",
       "      <td>─</td>\n",
       "      <td>─</td>\n",
       "      <td>─</td>\n",
       "      <td>┐</td>\n",
       "    </tr>\n",
       "    <tr>\n",
       "      <td>└</td>\n",
       "      <td>─</td>\n",
       "      <td>─</td>\n",
       "      <td>A</td>\n",
       "      <td>│</td>\n",
       "    </tr>\n",
       "    <tr>\n",
       "      <td>B</td>\n",
       "      <td></td>\n",
       "      <td></td>\n",
       "      <td></td>\n",
       "      <td>│</td>\n",
       "    </tr>\n",
       "    <tr>\n",
       "      <td>│</td>\n",
       "      <td>┌</td>\n",
       "      <td>┐</td>\n",
       "      <td>┌</td>\n",
       "      <td>┘</td>\n",
       "    </tr>\n",
       "    <tr>\n",
       "      <td>└</td>\n",
       "      <td>┘</td>\n",
       "      <td>└</td>\n",
       "      <td>┘</td>\n",
       "      <td></td>\n",
       "    </tr>\n",
       "  </tbody>\n",
       "</table>"
      ],
      "text/plain": [
       "<IPython.core.display.HTML object>"
      ]
     },
     "metadata": {},
     "output_type": "display_data"
    }
   ],
   "source": [
    "# Randomly generate puzzles until we get one with \n",
    "# a reasonable number of solutions, then show it\n",
    "turns = []\n",
    "while len(turns) < 1 or len(turns) > 10:\n",
    "    grid = build_grid(5, 9)\n",
    "    eqns, turns = solve_AtoB(grid)\n",
    "\n",
    "printgrid(grid)\n",
    "print('\\n\\n')\n",
    "\n",
    "# Report the size of the solutions set\n",
    "print('There are %d valid paths through the grid, producing %d distinct equations.' \n",
    "     % (len(turns), len(set(eqns))))\n",
    "\n",
    "# List the solutions in order of size\n",
    "sort_index = sorted([(len(t), e, i) for i, (t, e) in enumerate(zip(turns,eqns))])\n",
    "for _, _, i in sort_index:\n",
    "    print('%s (%s)' % (eqns[i].replace('==','=').replace('*','×'), turns[i]))\n",
    "    \n",
    "# Illustrate the longest solution\n",
    "print('\\n\\n')\n",
    "start = [(i, row.index('A')) for i, row in enumerate(grid) if 'A' in row][0]\n",
    "printpath(turns[sort_index[-1][-1]], start = start)"
   ]
  },
  {
   "cell_type": "markdown",
   "metadata": {},
   "source": [
    "### Idea 2: A single solution\n",
    "If the puzzle has exactly one solution and no more, will it be especially difficult? Try it out!"
   ]
  },
  {
   "cell_type": "code",
   "execution_count": 26,
   "metadata": {},
   "outputs": [
    {
     "name": "stdout",
     "output_type": "stream",
     "text": [
      "A | 3 | / | 7 | -\n",
      "-----------------\n",
      "7 | / | 1 | - | 4\n",
      "-----------------\n",
      "- | 8 | = | 4 | ×\n",
      "-----------------\n",
      "4 | / | 7 | / | 9\n",
      "-----------------\n",
      "/ | 3 | / | 6 | B\n",
      "\n",
      "\n",
      "\n",
      "There are 1 valid paths through the grid, producing 1 distinct equations.\n",
      "7 / 8 = 7 / 3 / 6 / 4 × 9 (DRDRDLDRRUURDD)\n",
      "\n",
      "\n",
      "\n"
     ]
    },
    {
     "data": {
      "text/html": [
       "<table border=\"1\" class=\"dataframe\">\n",
       "  <tbody>\n",
       "    <tr>\n",
       "      <td>A</td>\n",
       "      <td></td>\n",
       "      <td></td>\n",
       "      <td></td>\n",
       "      <td></td>\n",
       "    </tr>\n",
       "    <tr>\n",
       "      <td>└</td>\n",
       "      <td>┐</td>\n",
       "      <td></td>\n",
       "      <td></td>\n",
       "      <td></td>\n",
       "    </tr>\n",
       "    <tr>\n",
       "      <td></td>\n",
       "      <td>└</td>\n",
       "      <td>┐</td>\n",
       "      <td>┌</td>\n",
       "      <td>┐</td>\n",
       "    </tr>\n",
       "    <tr>\n",
       "      <td></td>\n",
       "      <td>┌</td>\n",
       "      <td>┘</td>\n",
       "      <td>│</td>\n",
       "      <td>│</td>\n",
       "    </tr>\n",
       "    <tr>\n",
       "      <td></td>\n",
       "      <td>└</td>\n",
       "      <td>─</td>\n",
       "      <td>┘</td>\n",
       "      <td>B</td>\n",
       "    </tr>\n",
       "  </tbody>\n",
       "</table>"
      ],
      "text/plain": [
       "<IPython.core.display.HTML object>"
      ]
     },
     "metadata": {},
     "output_type": "display_data"
    }
   ],
   "source": [
    "# Randomly generate puzzles until we get one with \n",
    "# a single solution, then show it\n",
    "turns = []\n",
    "while len(turns) != 1:\n",
    "    grid = build_grid(5, 9, (0,0), (4,4), (2,2))\n",
    "    eqns, turns = solve_AtoB(grid)\n",
    "\n",
    "printgrid(grid)\n",
    "print('\\n\\n')\n",
    "\n",
    "# Report the size of the solutions set\n",
    "print('There are %d valid paths through the grid, producing %d distinct equations.' \n",
    "     % (len(turns), len(set(eqns))))\n",
    "\n",
    "# List the solutions in order of size\n",
    "sort_index = sorted([(len(t), e, i) for i, (t, e) in enumerate(zip(turns,eqns))])\n",
    "for _, _, i in sort_index:\n",
    "    print('%s (%s)' % (eqns[i].replace('==','=').replace('*','×'), turns[i]))\n",
    "    \n",
    "# Illustrate the only solution\n",
    "print('\\n\\n')\n",
    "printpath(turns[sort_index[-1][-1]])"
   ]
  },
  {
   "cell_type": "markdown",
   "metadata": {},
   "source": [
    "### Idea 3: A solution that uses every position\n",
    "Let's find a puzzle that can be solved by visiting every square on the board (in a particular order, or course). It will almost certainly have other, shorter solutions too."
   ]
  },
  {
   "cell_type": "code",
   "execution_count": 27,
   "metadata": {
    "scrolled": false
   },
   "outputs": [
    {
     "name": "stdout",
     "output_type": "stream",
     "text": [
      "A | 7 | / | 9 | ×\n",
      "-----------------\n",
      "3 | × | 4 | / | 2\n",
      "-----------------\n",
      "- | 2 | = | 4 | +\n",
      "-----------------\n",
      "9 | / | 5 | × | 5\n",
      "-----------------\n",
      "/ | 1 | - | 4 | B\n",
      "\n",
      "\n",
      "\n",
      "There are 16 valid paths through the grid, producing 13 distinct equations.\n",
      "3 - 2 = 5 - 4 (DDRRDDRR)\n",
      "3 × 2 = 4 / 4 + 5 (DRDRURDRDD)\n",
      "3 - 2 = 5 / 1 - 4 (DDRRDLDRRR)\n",
      "3 - 2 × 4 / 4 = 5 - 4 (DDRURRDLDDRR)\n",
      "3 - 2 = 4 / 4 × 5 - 4 (DDRRURDDLDRR)\n",
      "7 × 2 / 1 - 5 = 4 + 5 (RDDDDRUURRDD)\n",
      "3 - 2 × 4 / 4 = 5 / 1 - 4 (DDRURRDLDLDRRR)\n",
      "3 - 2 = 4 / 4 × 5 / 1 - 4 (DDRRURDDLLDRRR)\n",
      "3 - 9 / 2 × 4 = 5 - 4 × 5 (DDDRUURDDDRURD)\n",
      "3 - 9 / 1 / 2 × 4 = 5 - 4 × 5 (DDDDRUUURDDDRURD)\n",
      "7 × 3 - 9 / 1 - 5 = 4 / 2 + 5 (RDLDDRDRUURURDDD)\n",
      "7 × 3 - 9 / 1 - 5 = 4 / 2 + 5 (RDLDDRDRUUURRDDD)\n",
      "7 × 3 - 9 / 1 - 5 = 4 / 2 + 5 (RDLDDDRRUURURDDD)\n",
      "7 × 3 - 9 / 1 - 5 = 4 / 2 + 5 (RDLDDDRRUUURRDDD)\n",
      "3 - 9 / 2 × 7 / 9 × 2 + 5 × 4 / 4 = 5 - 4 (DDDRUUURRRDDDLUULDDDRR)\n",
      "3 - 9 / 1 / 2 × 7 / 9 × 2 + 5 × 4 / 4 = 5 - 4 (DDDDRUUUURRRDDDLUULDDDRR)\n",
      "\n",
      "\n",
      "\n"
     ]
    },
    {
     "data": {
      "text/html": [
       "<table border=\"1\" class=\"dataframe\">\n",
       "  <tbody>\n",
       "    <tr>\n",
       "      <td>A</td>\n",
       "      <td>┌</td>\n",
       "      <td>─</td>\n",
       "      <td>─</td>\n",
       "      <td>┐</td>\n",
       "    </tr>\n",
       "    <tr>\n",
       "      <td>│</td>\n",
       "      <td>│</td>\n",
       "      <td>┌</td>\n",
       "      <td>┐</td>\n",
       "      <td>│</td>\n",
       "    </tr>\n",
       "    <tr>\n",
       "      <td>│</td>\n",
       "      <td>│</td>\n",
       "      <td>│</td>\n",
       "      <td>│</td>\n",
       "      <td>│</td>\n",
       "    </tr>\n",
       "    <tr>\n",
       "      <td>│</td>\n",
       "      <td>│</td>\n",
       "      <td>│</td>\n",
       "      <td>└</td>\n",
       "      <td>┘</td>\n",
       "    </tr>\n",
       "    <tr>\n",
       "      <td>└</td>\n",
       "      <td>┘</td>\n",
       "      <td>└</td>\n",
       "      <td>─</td>\n",
       "      <td>B</td>\n",
       "    </tr>\n",
       "  </tbody>\n",
       "</table>"
      ],
      "text/plain": [
       "<IPython.core.display.HTML object>"
      ]
     },
     "metadata": {},
     "output_type": "display_data"
    }
   ],
   "source": [
    "# Randomly generate puzzles until we get one with \n",
    "# a single solution, then show it\n",
    "turns = []\n",
    "while max([len(t) for t in turns], default = 0) != 24:\n",
    "    grid = build_grid(5, 9, (0,0), (4,4), (2,2))\n",
    "    eqns, turns = solve_AtoB(grid)\n",
    "\n",
    "printgrid(grid)\n",
    "print('\\n\\n')\n",
    "\n",
    "# Report the size of the solutions set\n",
    "print('There are %d valid paths through the grid, producing %d distinct equations.' \n",
    "     % (len(turns), len(set(eqns))))\n",
    "\n",
    "# List the solutions in order of size\n",
    "sort_index = sorted([(len(t), e, i) for i, (t, e) in enumerate(zip(turns,eqns))])\n",
    "for _, _, i in sort_index:\n",
    "    print('%s (%s)' % (eqns[i].replace('==','=').replace('*','×'), turns[i]))\n",
    "\n",
    "# Illustrate the longest solution\n",
    "print('\\n\\n')\n",
    "start = [(i, row.index('A')) for i, row in enumerate(grid) if 'A' in row][0]\n",
    "printpath(turns[sort_index[-1][-1]], start = start)"
   ]
  },
  {
   "cell_type": "markdown",
   "metadata": {},
   "source": [
    "## \"1 to 9\" Puzzle #180914\n",
    "Source: https://twitter.com/1to9puzzle/status/1040359407031336962\n",
    "    \n",
    "![The puzzle](https://pbs.twimg.com/media/DnAZXPiXsAAe3lZ.jpg)"
   ]
  },
  {
   "cell_type": "markdown",
   "metadata": {},
   "source": [
    "### My solution\n",
    "\n",
    "Let's start from scratch."
   ]
  },
  {
   "cell_type": "code",
   "execution_count": 28,
   "metadata": {},
   "outputs": [],
   "source": [
    "# Find the correct labels for all the products we might possibly encounter\n",
    "from collections import defaultdict\n",
    "from itertools import permutations, product\n",
    "\n",
    "prod_dict = defaultdict(str)\n",
    "max_prod = 9*8*7\n",
    "\n",
    "# Square, cube, triangular numbers\n",
    "for k in range(int(max_prod**.5)+1): prod_dict[k**2] += 'S'\n",
    "for k in range(int(max_prod**.3334)+1): prod_dict[k**3] += 'C'\n",
    "for k in range(1,int((max_prod*2+1)**.5)+1): prod_dict[k*(k+1)//2] += 'T'\n",
    "\n",
    "def checkblanks(blanks, reqs):\n",
    "    '''Check a given solution \n",
    "        -  `blanks` are in the order abcfihgd (start with a and move clockwise)\n",
    "        -  `reqs` are given from the upper right (next to space c) clockwise'''\n",
    "    b = list(blanks) # copy the values\n",
    "    b.append(b[0])   # to form a cycle\n",
    "    for i in range(4):\n",
    "        if reqs[i] not in prod_dict[b[i*2]*b[i*2+1]*b[i*2+2]]:\n",
    "            return False\n",
    "    return True\n",
    "\n",
    "try:\n",
    "    import pandas as pd\n",
    "    from IPython.display import display, HTML\n",
    "    pandas_display = True\n",
    "except:\n",
    "    pandas_display = False\n",
    "    \n",
    "def printsoln(soln, reqs):\n",
    "    '''Display a solution to this kind of puzzle'''\n",
    "    grid = [[' '] * 5 for _ in range(5)]\n",
    "    for k,(i,j) in enumerate([(1,1),(1,2),(1,3),(2,3),(3,3),(3,2),(3,1),(2,1)]):\n",
    "        grid[i][j] = str(soln[k])\n",
    "    for k,(i,j) in enumerate([(1,4),(4,3),(3,0),(0,1)]):\n",
    "        grid[i][j] = str(reqs[k])\n",
    "    if pandas_display:\n",
    "        display(HTML(pd.DataFrame(grid).to_html(header = False, index = False)))\n",
    "    else:\n",
    "        print('\\n'.join(' '.join(row) for row in grid))\n",
    "    "
   ]
  },
  {
   "cell_type": "code",
   "execution_count": 29,
   "metadata": {},
   "outputs": [
    {
     "data": {
      "text/plain": [
       "75"
      ]
     },
     "execution_count": 29,
     "metadata": {},
     "output_type": "execute_result"
    }
   ],
   "source": [
    "# Get all solutions to the puzzle at hand\n",
    "solns = [list(blanks) \n",
    "         for blanks in permutations(range(1,10), 8) \n",
    "         if checkblanks(blanks, ['T','T','C','S'])]\n",
    "\n",
    "# Count them\n",
    "len(solns)"
   ]
  },
  {
   "cell_type": "code",
   "execution_count": 30,
   "metadata": {},
   "outputs": [
    {
     "data": {
      "text/html": [
       "<table border=\"1\" class=\"dataframe\">\n",
       "  <tbody>\n",
       "    <tr>\n",
       "      <td></td>\n",
       "      <td>S</td>\n",
       "      <td></td>\n",
       "      <td></td>\n",
       "      <td></td>\n",
       "    </tr>\n",
       "    <tr>\n",
       "      <td></td>\n",
       "      <td>3</td>\n",
       "      <td>2</td>\n",
       "      <td>1</td>\n",
       "      <td>T</td>\n",
       "    </tr>\n",
       "    <tr>\n",
       "      <td></td>\n",
       "      <td>8</td>\n",
       "      <td></td>\n",
       "      <td>7</td>\n",
       "      <td></td>\n",
       "    </tr>\n",
       "    <tr>\n",
       "      <td>C</td>\n",
       "      <td>6</td>\n",
       "      <td>9</td>\n",
       "      <td>4</td>\n",
       "      <td></td>\n",
       "    </tr>\n",
       "    <tr>\n",
       "      <td></td>\n",
       "      <td></td>\n",
       "      <td></td>\n",
       "      <td>T</td>\n",
       "      <td></td>\n",
       "    </tr>\n",
       "  </tbody>\n",
       "</table>"
      ],
      "text/plain": [
       "<IPython.core.display.HTML object>"
      ]
     },
     "metadata": {},
     "output_type": "display_data"
    }
   ],
   "source": [
    "# Check one of the solutions at random\n",
    "printsoln(solns[17], ['T','T','C','S'])"
   ]
  },
  {
   "cell_type": "markdown",
   "metadata": {},
   "source": [
    "### Can we make a puzzle with fewer solutions?"
   ]
  },
  {
   "cell_type": "code",
   "execution_count": 31,
   "metadata": {},
   "outputs": [],
   "source": [
    "# Get every possible puzzle and the number of solutions it has\n",
    "puzzles = [(reqs, len([\n",
    "    blanks for blanks in permutations(range(1,10), 8) \n",
    "    if checkblanks(blanks, reqs)\n",
    "])) for reqs in product(['T','C','S'], repeat = 4)]"
   ]
  },
  {
   "cell_type": "code",
   "execution_count": 32,
   "metadata": {},
   "outputs": [
    {
     "data": {
      "text/plain": [
       "[(('C', 'C', 'C', 'C'), 0),\n",
       " (('C', 'C', 'C', 'S'), 0),\n",
       " (('C', 'C', 'S', 'C'), 0),\n",
       " (('C', 'C', 'S', 'S'), 0),\n",
       " (('C', 'S', 'C', 'C'), 0),\n",
       " (('C', 'S', 'C', 'S'), 0),\n",
       " (('C', 'S', 'S', 'C'), 0),\n",
       " (('C', 'S', 'S', 'S'), 0),\n",
       " (('S', 'C', 'C', 'C'), 0),\n",
       " (('S', 'C', 'C', 'S'), 0),\n",
       " (('S', 'C', 'S', 'C'), 0),\n",
       " (('S', 'C', 'S', 'S'), 0),\n",
       " (('S', 'S', 'C', 'C'), 0),\n",
       " (('S', 'S', 'C', 'S'), 0),\n",
       " (('S', 'S', 'S', 'C'), 0),\n",
       " (('S', 'S', 'S', 'S'), 0),\n",
       " (('T', 'C', 'C', 'S'), 6),\n",
       " (('T', 'S', 'C', 'C'), 6),\n",
       " (('C', 'T', 'S', 'C'), 6),\n",
       " (('C', 'C', 'T', 'S'), 6),\n",
       " (('C', 'C', 'S', 'T'), 6),\n",
       " (('C', 'S', 'T', 'C'), 6),\n",
       " (('S', 'T', 'C', 'C'), 6),\n",
       " (('S', 'C', 'C', 'T'), 6),\n",
       " (('T', 'C', 'C', 'C'), 8),\n",
       " (('T', 'C', 'S', 'C'), 8),\n",
       " (('C', 'T', 'C', 'C'), 8),\n",
       " (('C', 'T', 'C', 'S'), 8),\n",
       " (('C', 'C', 'T', 'C'), 8),\n",
       " (('C', 'C', 'C', 'T'), 8),\n",
       " (('C', 'S', 'C', 'T'), 8),\n",
       " (('S', 'C', 'T', 'C'), 8),\n",
       " (('T', 'C', 'T', 'S'), 10),\n",
       " (('T', 'C', 'S', 'S'), 10),\n",
       " (('T', 'S', 'T', 'C'), 10),\n",
       " (('T', 'S', 'S', 'C'), 10),\n",
       " (('C', 'T', 'S', 'T'), 10),\n",
       " (('C', 'T', 'S', 'S'), 10),\n",
       " (('C', 'S', 'S', 'T'), 10),\n",
       " (('S', 'T', 'C', 'T'), 10),\n",
       " (('S', 'T', 'C', 'S'), 10),\n",
       " (('S', 'C', 'T', 'S'), 10),\n",
       " (('S', 'S', 'T', 'C'), 10),\n",
       " (('S', 'S', 'C', 'T'), 10),\n",
       " (('T', 'C', 'T', 'C'), 12),\n",
       " (('C', 'T', 'C', 'T'), 12),\n",
       " (('T', 'S', 'C', 'S'), 16),\n",
       " (('C', 'S', 'T', 'S'), 16),\n",
       " (('S', 'T', 'S', 'C'), 16),\n",
       " (('S', 'C', 'S', 'T'), 16),\n",
       " (('T', 'S', 'T', 'S'), 28),\n",
       " (('S', 'T', 'S', 'T'), 28),\n",
       " (('T', 'S', 'S', 'S'), 32),\n",
       " (('S', 'T', 'S', 'S'), 32),\n",
       " (('S', 'S', 'T', 'S'), 32),\n",
       " (('S', 'S', 'S', 'T'), 32),\n",
       " (('T', 'T', 'C', 'C'), 52),\n",
       " (('T', 'C', 'C', 'T'), 52),\n",
       " (('C', 'T', 'T', 'C'), 52),\n",
       " (('C', 'C', 'T', 'T'), 52),\n",
       " (('T', 'T', 'C', 'S'), 75),\n",
       " (('T', 'T', 'S', 'C'), 75),\n",
       " (('T', 'C', 'S', 'T'), 75),\n",
       " (('T', 'S', 'C', 'T'), 75),\n",
       " (('C', 'T', 'T', 'S'), 75),\n",
       " (('C', 'S', 'T', 'T'), 75),\n",
       " (('S', 'T', 'T', 'C'), 75),\n",
       " (('S', 'C', 'T', 'T'), 75),\n",
       " (('T', 'T', 'T', 'C'), 78),\n",
       " (('T', 'T', 'C', 'T'), 78),\n",
       " (('T', 'C', 'T', 'T'), 78),\n",
       " (('C', 'T', 'T', 'T'), 78),\n",
       " (('T', 'T', 'T', 'T'), 128),\n",
       " (('T', 'T', 'S', 'S'), 134),\n",
       " (('T', 'S', 'S', 'T'), 134),\n",
       " (('S', 'T', 'T', 'S'), 134),\n",
       " (('S', 'S', 'T', 'T'), 134),\n",
       " (('T', 'T', 'T', 'S'), 140),\n",
       " (('T', 'T', 'S', 'T'), 140),\n",
       " (('T', 'S', 'T', 'T'), 140),\n",
       " (('S', 'T', 'T', 'T'), 140)]"
      ]
     },
     "execution_count": 32,
     "metadata": {},
     "output_type": "execute_result"
    }
   ],
   "source": [
    "# Show the results\n",
    "sorted(puzzles, key = lambda p: p[1])"
   ]
  },
  {
   "cell_type": "markdown",
   "metadata": {},
   "source": [
    "#### There's a lot of redundancy in that list..."
   ]
  },
  {
   "cell_type": "code",
   "execution_count": 33,
   "metadata": {},
   "outputs": [],
   "source": [
    "# Let's create a function to map every sequence of letters to\n",
    "# a \"canonical\" form to eliminate the equivalent sequences.\n",
    "# e.g. SCTS is equivalent to CSST, but CSTS is not.\n",
    "def canonical(tup):\n",
    "    '''Map all equivalent sequences to a single \"canonical\" form.'''\n",
    "    variations = [tup[k:] + tup[:k] for k in range(len(tup))]\n",
    "    variations += [tup[::-1][k:] + tup[::-1][:k] for k in range(len(tup))]\n",
    "    return sorted(variations)[0]\n",
    "\n",
    "# Couple of tests\n",
    "assert canonical(('S','C','T','S')) == canonical(('C','S','S','T'))\n",
    "assert canonical(('C','S','T','S')) != canonical(('C','S','S','T'))"
   ]
  },
  {
   "cell_type": "code",
   "execution_count": 34,
   "metadata": {},
   "outputs": [],
   "source": [
    "# Get every possible puzzle, minus redundancies, along with the solution count\n",
    "puzzles = [(reqs, len([\n",
    "    blanks for blanks in permutations(range(1,10), 8) \n",
    "    if checkblanks(blanks, reqs)\n",
    "])) for reqs in set(canonical(p) for p in product(['T','C','S'], repeat = 4))]"
   ]
  },
  {
   "cell_type": "code",
   "execution_count": 35,
   "metadata": {},
   "outputs": [
    {
     "name": "stdout",
     "output_type": "stream",
     "text": [
      "Puzzle SSSS has 0 solutions\n",
      "Puzzle CCCS has 0 solutions\n",
      "Puzzle CCSS has 0 solutions\n",
      "Puzzle CSSS has 0 solutions\n",
      "Puzzle CSCS has 0 solutions\n",
      "Puzzle CCCC has 0 solutions\n",
      "Puzzle CCST has 6 solutions\n",
      "Puzzle CCCT has 8 solutions\n",
      "Puzzle CSCT has 8 solutions\n",
      "Puzzle CTST has 10 solutions\n",
      "Puzzle CSST has 10 solutions\n",
      "Puzzle CTCT has 12 solutions\n",
      "Puzzle CSTS has 16 solutions\n",
      "Puzzle STST has 28 solutions\n",
      "Puzzle SSST has 32 solutions\n",
      "Puzzle CCTT has 52 solutions\n",
      "Puzzle CSTT has 75 solutions\n",
      "Puzzle CTTT has 78 solutions\n",
      "Puzzle TTTT has 128 solutions\n",
      "Puzzle SSTT has 134 solutions\n",
      "Puzzle STTT has 140 solutions\n"
     ]
    }
   ],
   "source": [
    "# Report the results!\n",
    "for p, s in sorted(puzzles, key = lambda p: p[1]):\n",
    "    print('Puzzle', ''.join(p), 'has', s, 'solutions')"
   ]
  },
  {
   "cell_type": "code",
   "execution_count": 36,
   "metadata": {},
   "outputs": [
    {
     "data": {
      "text/html": [
       "<table border=\"1\" class=\"dataframe\">\n",
       "  <tbody>\n",
       "    <tr>\n",
       "      <td></td>\n",
       "      <td>T</td>\n",
       "      <td></td>\n",
       "      <td></td>\n",
       "      <td></td>\n",
       "    </tr>\n",
       "    <tr>\n",
       "      <td></td>\n",
       "      <td>?</td>\n",
       "      <td>?</td>\n",
       "      <td>?</td>\n",
       "      <td>C</td>\n",
       "    </tr>\n",
       "    <tr>\n",
       "      <td></td>\n",
       "      <td>?</td>\n",
       "      <td></td>\n",
       "      <td>?</td>\n",
       "      <td></td>\n",
       "    </tr>\n",
       "    <tr>\n",
       "      <td>S</td>\n",
       "      <td>?</td>\n",
       "      <td>?</td>\n",
       "      <td>?</td>\n",
       "      <td></td>\n",
       "    </tr>\n",
       "    <tr>\n",
       "      <td></td>\n",
       "      <td></td>\n",
       "      <td></td>\n",
       "      <td>C</td>\n",
       "      <td></td>\n",
       "    </tr>\n",
       "  </tbody>\n",
       "</table>"
      ],
      "text/plain": [
       "<IPython.core.display.HTML object>"
      ]
     },
     "metadata": {},
     "output_type": "display_data"
    },
    {
     "name": "stdout",
     "output_type": "stream",
     "text": [
      "\n",
      "\n"
     ]
    },
    {
     "data": {
      "text/html": [
       "<table border=\"1\" class=\"dataframe\">\n",
       "  <tbody>\n",
       "    <tr>\n",
       "      <td></td>\n",
       "      <td>T</td>\n",
       "      <td></td>\n",
       "      <td></td>\n",
       "      <td></td>\n",
       "    </tr>\n",
       "    <tr>\n",
       "      <td></td>\n",
       "      <td>1</td>\n",
       "      <td>2</td>\n",
       "      <td>4</td>\n",
       "      <td>C</td>\n",
       "    </tr>\n",
       "    <tr>\n",
       "      <td></td>\n",
       "      <td>5</td>\n",
       "      <td></td>\n",
       "      <td>9</td>\n",
       "      <td></td>\n",
       "    </tr>\n",
       "    <tr>\n",
       "      <td>S</td>\n",
       "      <td>3</td>\n",
       "      <td>8</td>\n",
       "      <td>6</td>\n",
       "      <td></td>\n",
       "    </tr>\n",
       "    <tr>\n",
       "      <td></td>\n",
       "      <td></td>\n",
       "      <td></td>\n",
       "      <td>C</td>\n",
       "      <td></td>\n",
       "    </tr>\n",
       "  </tbody>\n",
       "</table>"
      ],
      "text/plain": [
       "<IPython.core.display.HTML object>"
      ]
     },
     "metadata": {},
     "output_type": "display_data"
    },
    {
     "name": "stdout",
     "output_type": "stream",
     "text": [
      "\n",
      "\n"
     ]
    },
    {
     "data": {
      "text/html": [
       "<table border=\"1\" class=\"dataframe\">\n",
       "  <tbody>\n",
       "    <tr>\n",
       "      <td></td>\n",
       "      <td>T</td>\n",
       "      <td></td>\n",
       "      <td></td>\n",
       "      <td></td>\n",
       "    </tr>\n",
       "    <tr>\n",
       "      <td></td>\n",
       "      <td>1</td>\n",
       "      <td>2</td>\n",
       "      <td>4</td>\n",
       "      <td>C</td>\n",
       "    </tr>\n",
       "    <tr>\n",
       "      <td></td>\n",
       "      <td>7</td>\n",
       "      <td></td>\n",
       "      <td>9</td>\n",
       "      <td></td>\n",
       "    </tr>\n",
       "    <tr>\n",
       "      <td>S</td>\n",
       "      <td>3</td>\n",
       "      <td>8</td>\n",
       "      <td>6</td>\n",
       "      <td></td>\n",
       "    </tr>\n",
       "    <tr>\n",
       "      <td></td>\n",
       "      <td></td>\n",
       "      <td></td>\n",
       "      <td>C</td>\n",
       "      <td></td>\n",
       "    </tr>\n",
       "  </tbody>\n",
       "</table>"
      ],
      "text/plain": [
       "<IPython.core.display.HTML object>"
      ]
     },
     "metadata": {},
     "output_type": "display_data"
    },
    {
     "name": "stdout",
     "output_type": "stream",
     "text": [
      "\n",
      "\n"
     ]
    },
    {
     "data": {
      "text/html": [
       "<table border=\"1\" class=\"dataframe\">\n",
       "  <tbody>\n",
       "    <tr>\n",
       "      <td></td>\n",
       "      <td>T</td>\n",
       "      <td></td>\n",
       "      <td></td>\n",
       "      <td></td>\n",
       "    </tr>\n",
       "    <tr>\n",
       "      <td></td>\n",
       "      <td>1</td>\n",
       "      <td>3</td>\n",
       "      <td>9</td>\n",
       "      <td>C</td>\n",
       "    </tr>\n",
       "    <tr>\n",
       "      <td></td>\n",
       "      <td>5</td>\n",
       "      <td></td>\n",
       "      <td>6</td>\n",
       "      <td></td>\n",
       "    </tr>\n",
       "    <tr>\n",
       "      <td>S</td>\n",
       "      <td>2</td>\n",
       "      <td>8</td>\n",
       "      <td>4</td>\n",
       "      <td></td>\n",
       "    </tr>\n",
       "    <tr>\n",
       "      <td></td>\n",
       "      <td></td>\n",
       "      <td></td>\n",
       "      <td>C</td>\n",
       "      <td></td>\n",
       "    </tr>\n",
       "  </tbody>\n",
       "</table>"
      ],
      "text/plain": [
       "<IPython.core.display.HTML object>"
      ]
     },
     "metadata": {},
     "output_type": "display_data"
    },
    {
     "name": "stdout",
     "output_type": "stream",
     "text": [
      "\n",
      "\n"
     ]
    },
    {
     "data": {
      "text/html": [
       "<table border=\"1\" class=\"dataframe\">\n",
       "  <tbody>\n",
       "    <tr>\n",
       "      <td></td>\n",
       "      <td>T</td>\n",
       "      <td></td>\n",
       "      <td></td>\n",
       "      <td></td>\n",
       "    </tr>\n",
       "    <tr>\n",
       "      <td></td>\n",
       "      <td>3</td>\n",
       "      <td>1</td>\n",
       "      <td>9</td>\n",
       "      <td>C</td>\n",
       "    </tr>\n",
       "    <tr>\n",
       "      <td></td>\n",
       "      <td>5</td>\n",
       "      <td></td>\n",
       "      <td>6</td>\n",
       "      <td></td>\n",
       "    </tr>\n",
       "    <tr>\n",
       "      <td>S</td>\n",
       "      <td>8</td>\n",
       "      <td>2</td>\n",
       "      <td>4</td>\n",
       "      <td></td>\n",
       "    </tr>\n",
       "    <tr>\n",
       "      <td></td>\n",
       "      <td></td>\n",
       "      <td></td>\n",
       "      <td>C</td>\n",
       "      <td></td>\n",
       "    </tr>\n",
       "  </tbody>\n",
       "</table>"
      ],
      "text/plain": [
       "<IPython.core.display.HTML object>"
      ]
     },
     "metadata": {},
     "output_type": "display_data"
    },
    {
     "name": "stdout",
     "output_type": "stream",
     "text": [
      "\n",
      "\n"
     ]
    },
    {
     "data": {
      "text/html": [
       "<table border=\"1\" class=\"dataframe\">\n",
       "  <tbody>\n",
       "    <tr>\n",
       "      <td></td>\n",
       "      <td>T</td>\n",
       "      <td></td>\n",
       "      <td></td>\n",
       "      <td></td>\n",
       "    </tr>\n",
       "    <tr>\n",
       "      <td></td>\n",
       "      <td>4</td>\n",
       "      <td>2</td>\n",
       "      <td>1</td>\n",
       "      <td>C</td>\n",
       "    </tr>\n",
       "    <tr>\n",
       "      <td></td>\n",
       "      <td>5</td>\n",
       "      <td></td>\n",
       "      <td>9</td>\n",
       "      <td></td>\n",
       "    </tr>\n",
       "    <tr>\n",
       "      <td>S</td>\n",
       "      <td>6</td>\n",
       "      <td>8</td>\n",
       "      <td>3</td>\n",
       "      <td></td>\n",
       "    </tr>\n",
       "    <tr>\n",
       "      <td></td>\n",
       "      <td></td>\n",
       "      <td></td>\n",
       "      <td>C</td>\n",
       "      <td></td>\n",
       "    </tr>\n",
       "  </tbody>\n",
       "</table>"
      ],
      "text/plain": [
       "<IPython.core.display.HTML object>"
      ]
     },
     "metadata": {},
     "output_type": "display_data"
    },
    {
     "name": "stdout",
     "output_type": "stream",
     "text": [
      "\n",
      "\n"
     ]
    },
    {
     "data": {
      "text/html": [
       "<table border=\"1\" class=\"dataframe\">\n",
       "  <tbody>\n",
       "    <tr>\n",
       "      <td></td>\n",
       "      <td>T</td>\n",
       "      <td></td>\n",
       "      <td></td>\n",
       "      <td></td>\n",
       "    </tr>\n",
       "    <tr>\n",
       "      <td></td>\n",
       "      <td>4</td>\n",
       "      <td>6</td>\n",
       "      <td>9</td>\n",
       "      <td>C</td>\n",
       "    </tr>\n",
       "    <tr>\n",
       "      <td></td>\n",
       "      <td>7</td>\n",
       "      <td></td>\n",
       "      <td>3</td>\n",
       "      <td></td>\n",
       "    </tr>\n",
       "    <tr>\n",
       "      <td>S</td>\n",
       "      <td>1</td>\n",
       "      <td>2</td>\n",
       "      <td>8</td>\n",
       "      <td></td>\n",
       "    </tr>\n",
       "    <tr>\n",
       "      <td></td>\n",
       "      <td></td>\n",
       "      <td></td>\n",
       "      <td>C</td>\n",
       "      <td></td>\n",
       "    </tr>\n",
       "  </tbody>\n",
       "</table>"
      ],
      "text/plain": [
       "<IPython.core.display.HTML object>"
      ]
     },
     "metadata": {},
     "output_type": "display_data"
    },
    {
     "name": "stdout",
     "output_type": "stream",
     "text": [
      "\n",
      "\n"
     ]
    }
   ],
   "source": [
    "# Show all the solutions of the CCST puzzle type (the least solvable type)\n",
    "printsoln(['?']*8, ['C','C','S','T'])\n",
    "print('\\n')\n",
    "solns = [list(blanks) \n",
    "         for blanks in permutations(range(1,10), 8) \n",
    "         if checkblanks(blanks, ['C','C','S','T'])]\n",
    "\n",
    "for s in solns:\n",
    "    printsoln(s, ['C','C','S','T'])\n",
    "    print('\\n')"
   ]
  },
  {
   "cell_type": "markdown",
   "metadata": {},
   "source": [
    "### Can we make a puzzle where the given products increase incrementally?"
   ]
  },
  {
   "cell_type": "code",
   "execution_count": 37,
   "metadata": {},
   "outputs": [
    {
     "data": {
      "text/html": [
       "<table border=\"1\" class=\"dataframe\">\n",
       "  <tbody>\n",
       "    <tr>\n",
       "      <td></td>\n",
       "      <td>120</td>\n",
       "      <td></td>\n",
       "      <td></td>\n",
       "      <td></td>\n",
       "    </tr>\n",
       "    <tr>\n",
       "      <td></td>\n",
       "      <td>?</td>\n",
       "      <td>?</td>\n",
       "      <td>?</td>\n",
       "      <td>12</td>\n",
       "    </tr>\n",
       "    <tr>\n",
       "      <td></td>\n",
       "      <td>?</td>\n",
       "      <td></td>\n",
       "      <td>?</td>\n",
       "      <td></td>\n",
       "    </tr>\n",
       "    <tr>\n",
       "      <td>84</td>\n",
       "      <td>?</td>\n",
       "      <td>?</td>\n",
       "      <td>?</td>\n",
       "      <td></td>\n",
       "    </tr>\n",
       "    <tr>\n",
       "      <td></td>\n",
       "      <td></td>\n",
       "      <td></td>\n",
       "      <td>48</td>\n",
       "      <td></td>\n",
       "    </tr>\n",
       "  </tbody>\n",
       "</table>"
      ],
      "text/plain": [
       "<IPython.core.display.HTML object>"
      ]
     },
     "metadata": {},
     "output_type": "display_data"
    },
    {
     "name": "stdout",
     "output_type": "stream",
     "text": [
      "\n",
      "\n"
     ]
    },
    {
     "data": {
      "text/html": [
       "<table border=\"1\" class=\"dataframe\">\n",
       "  <tbody>\n",
       "    <tr>\n",
       "      <td></td>\n",
       "      <td>60</td>\n",
       "      <td></td>\n",
       "      <td></td>\n",
       "      <td></td>\n",
       "    </tr>\n",
       "    <tr>\n",
       "      <td></td>\n",
       "      <td>?</td>\n",
       "      <td>?</td>\n",
       "      <td>?</td>\n",
       "      <td>24</td>\n",
       "    </tr>\n",
       "    <tr>\n",
       "      <td></td>\n",
       "      <td>?</td>\n",
       "      <td></td>\n",
       "      <td>?</td>\n",
       "      <td></td>\n",
       "    </tr>\n",
       "    <tr>\n",
       "      <td>48</td>\n",
       "      <td>?</td>\n",
       "      <td>?</td>\n",
       "      <td>?</td>\n",
       "      <td></td>\n",
       "    </tr>\n",
       "    <tr>\n",
       "      <td></td>\n",
       "      <td></td>\n",
       "      <td></td>\n",
       "      <td>36</td>\n",
       "      <td></td>\n",
       "    </tr>\n",
       "  </tbody>\n",
       "</table>"
      ],
      "text/plain": [
       "<IPython.core.display.HTML object>"
      ]
     },
     "metadata": {},
     "output_type": "display_data"
    },
    {
     "name": "stdout",
     "output_type": "stream",
     "text": [
      "\n",
      "\n"
     ]
    }
   ],
   "source": [
    "def diffs(li):\n",
    "    return [b - a for a,b in zip(li[:-1],li[1:])]\n",
    "\n",
    "def prods(blanks):\n",
    "    b = list(blanks)\n",
    "    b.append(b[0])\n",
    "    return tuple(b[i*2]*b[i*2+1]*b[i*2+2] for i in range(4))\n",
    "\n",
    "for puz in set(\n",
    "    canonical(prods(b)) \n",
    "    for b in permutations(range(1,10), 8) \n",
    "    if len(set(diffs(prods(b)))) == 1\n",
    "):\n",
    "    printsoln(['?']*8, puz)\n",
    "    print('\\n')"
   ]
  },
  {
   "cell_type": "markdown",
   "metadata": {},
   "source": [
    "## \"1 to 9\" puzzle #1837\n",
    "Source: https://twitter.com/1to9puzzle/status/1040589799260909568\n",
    "\n",
    "![The puzzle](https://pbs.twimg.com/media/DnDqY4bW0AEXDHs.jpg)"
   ]
  },
  {
   "cell_type": "markdown",
   "metadata": {},
   "source": [
    "### My solution\n",
    "Let's start from scratch."
   ]
  },
  {
   "cell_type": "code",
   "execution_count": 38,
   "metadata": {},
   "outputs": [],
   "source": [
    "from copy import deepcopy\n",
    "from itertools import product"
   ]
  },
  {
   "cell_type": "code",
   "execution_count": 39,
   "metadata": {},
   "outputs": [],
   "source": [
    "def checkrow(row):\n",
    "    '''Make sure a given row (or column/block) isn't breaking the rules.'''\n",
    "    row_clean = [r for r in row if r > 0]\n",
    "    return len(set(row_clean)) == len(row_clean)\n",
    "\n",
    "def cols(grid):\n",
    "    '''Get all the columns of a grid (essentially, transpose the grid).'''\n",
    "    return [[e[i] for e in grid] for i in range(len(grid[0]))]\n",
    "\n",
    "def col(grid, k):\n",
    "    '''Get a single column of a grid.'''\n",
    "    return [e[k] for e in grid]\n",
    "\n",
    "def blocks(grid):\n",
    "    '''Get all the 3x3 blocks of a grid.'''\n",
    "    return [\n",
    "        grid[i][j:j+3] + grid[i+1][j:j+3] + grid[i+2][j:j+3]\n",
    "        for i,j in product(range(0,9,3), repeat = 2)\n",
    "    ]\n",
    "\n",
    "def block(grid, i, j):\n",
    "    '''Get a single block of a grid.'''\n",
    "    return (\n",
    "        grid[i//3*3][j//3*3:j//3*3+3] + \n",
    "        grid[i//3*3+1][j//3*3:j//3*3+3] + \n",
    "        grid[i//3*3+2][j//3*3:j//3*3+3]\n",
    "    )\n",
    "\n",
    "primes = {11, 13, 17, 19, 23, 29, 31, 37, \n",
    "          41, 43, 47, 53, 59, 61, 67, 71, \n",
    "          73, 79, 83, 89, 97}\n",
    "\n",
    "def labels(grid):\n",
    "    '''Find the labels (i.e. the colors) for the entire grid.'''\n",
    "    labs = [[0]*9 for _ in range(9)]\n",
    "    for i, row in enumerate(grid):\n",
    "        for j in range(8):\n",
    "            if row[j]*10 + row[j+1] in primes:\n",
    "                labs[i][j] += 1\n",
    "                labs[i][j+1] += 1\n",
    "    for i, row in enumerate(cols(grid)):\n",
    "        for j in range(8):\n",
    "            if row[j]*10 + row[j+1] in primes:\n",
    "                labs[j][i] += 1\n",
    "                labs[j+1][i] += 1\n",
    "    return labs\n",
    "\n",
    "def label(grid, i, j):\n",
    "    '''Find the label for one spot in the grid.'''    \n",
    "    lab = 0\n",
    "    if i < 8 and grid[i][j] * 10 + grid[i+1][j] in primes: lab += 1\n",
    "    if j < 8 and grid[i][j] * 10 + grid[i][j+1] in primes: lab += 1\n",
    "    if i > 0 and grid[i-1][j] * 10 + grid[i][j] in primes: lab += 1\n",
    "    if j > 0 and grid[i][j-1] * 10 + grid[i][j] in primes: lab += 1\n",
    "    return lab\n",
    "        \n",
    "def checkgrid(grid, grid_reqs):\n",
    "    '''Check that no rules are violated in an entire grid.'''\n",
    "    if not all(checkrow(g) for g in grid):\n",
    "        return False\n",
    "    if not all(checkrow(g) for g in cols(grid)):\n",
    "        return False\n",
    "    if not all(checkrow(g) for g in blocks(grid)):\n",
    "        return False\n",
    "    if not all(all(eg == el for eg, el in zip(g, l))\n",
    "               for g,l in zip(grid_reqs, labels(grid))):\n",
    "        return False\n",
    "    return True\n",
    "\n",
    "def printgrid(grid):\n",
    "    '''Neatly print out a grid.'''\n",
    "    print(('\\n' + '-' * (4*len(grid[0]) - 3) + '\\n')\n",
    "          .join([' | '.join(str(i) for i in g) for g in grid]))  \n",
    "    \n",
    "def solve_sudoku(givens, grid_reqs):\n",
    "    '''Find all solutions that follow the rules of sudoku\n",
    "       and the given prime color labels'''\n",
    "\n",
    "    solutions = []\n",
    "    \n",
    "    # Size of the problem (hard-coded!)\n",
    "    n = 9\n",
    "\n",
    "    # The initial grid\n",
    "    grid = [[0] * n for _ in range(n)]\n",
    "    \n",
    "    # Fill in the given spaces and mark them as never to be altered\n",
    "    for (i,j), val in givens:\n",
    "        grid[i][j] = val\n",
    "    skips = [(i,j) for (i,j),val in givens]\n",
    "    \n",
    "    # Starting position in the grid (upper left)\n",
    "    currx, curry = 0, 0\n",
    "\n",
    "    # Keep working until all possibilites are exhausted\n",
    "    # (so if there are multiple solutions, we can find all of them)\n",
    "    while curry >= 0:\n",
    "\n",
    "        # At the current position in the grid, try the next digit\n",
    "        grid[curry][currx] += 1\n",
    "\n",
    "        # If there are no more digits to try, back up to the previous position\n",
    "        if grid[curry][currx] > 9:\n",
    "            grid[curry][currx] = 0\n",
    "            backup = True\n",
    "            while backup:\n",
    "                currx -= 1\n",
    "                if currx < 0:\n",
    "                    currx  = n-1\n",
    "                    curry -= 1\n",
    "                backup = ((curry, currx) in skips)\n",
    "            continue\n",
    "        \n",
    "        # If we have found a solution, save it\n",
    "        if (currx, curry) == (n-1,n-1):\n",
    "            if checkgrid(grid, grid_reqs): \n",
    "                solutions.append(deepcopy(grid))                \n",
    "            \n",
    "        # Otherwise, if we're not currently breaking \n",
    "        # any obvious rules, proceed to the next position\n",
    "        elif (checkrow(grid[curry]) and \n",
    "              checkrow(col(grid, currx)) and\n",
    "              checkrow(block(grid, curry, currx)) and\n",
    "              (curry == 0 or label(grid, curry-1, currx) \n",
    "                          == grid_reqs[curry-1][currx])):\n",
    "            proceed = True\n",
    "            while proceed:\n",
    "                currx += 1\n",
    "                if currx > n-1:\n",
    "                    currx  = 0\n",
    "                    curry += 1\n",
    "                proceed = ((curry, currx) in skips)\n",
    "                \n",
    "    return solutions\n"
   ]
  },
  {
   "cell_type": "code",
   "execution_count": 40,
   "metadata": {},
   "outputs": [
    {
     "name": "stdout",
     "output_type": "stream",
     "text": [
      "5 | 3 | 1 | 4 | 2 | 8 | 9 | 6 | 7\n",
      "---------------------------------\n",
      "2 | 8 | 9 | 1 | 6 | 7 | 5 | 3 | 4\n",
      "---------------------------------\n",
      "4 | 7 | 6 | 5 | 3 | 9 | 8 | 1 | 2\n",
      "---------------------------------\n",
      "1 | 4 | 3 | 7 | 9 | 5 | 6 | 2 | 8\n",
      "---------------------------------\n",
      "6 | 9 | 5 | 8 | 1 | 2 | 4 | 7 | 3\n",
      "---------------------------------\n",
      "7 | 2 | 8 | 3 | 4 | 6 | 1 | 9 | 5\n",
      "---------------------------------\n",
      "3 | 6 | 2 | 9 | 5 | 4 | 7 | 8 | 1\n",
      "---------------------------------\n",
      "8 | 1 | 4 | 6 | 7 | 3 | 2 | 5 | 9\n",
      "---------------------------------\n",
      "9 | 5 | 7 | 2 | 8 | 1 | 3 | 4 | 6\n",
      "\n",
      "\n",
      "\n",
      "(4 solutions in total)\n"
     ]
    }
   ],
   "source": [
    "# Solve the given puzzle\n",
    "soln = solve_sudoku(\n",
    "    \n",
    "    givens = [((1,1), 8), ((1,4), 6), ((1,7), 3),\n",
    "              ((4,1), 9), ((4,4), 1), ((4,7), 7),\n",
    "              ((7,1), 1), ((7,4), 7), ((7,7), 5)],\n",
    "    \n",
    "    grid_reqs = [[1,2,2,1,0,1,1,1,1],\n",
    "                 [0,1,2,1,1,2,1,2,0],\n",
    "                 [2,1,0,1,1,1,0,1,0],\n",
    "                 [1,1,2,2,1,0,0,0,1],\n",
    "                 [1,0,0,1,0,0,2,3,2],\n",
    "                 [2,0,1,2,0,1,4,2,0],\n",
    "                 [1,1,1,1,0,2,2,0,1],\n",
    "                 [1,1,1,1,2,3,1,1,2],\n",
    "                 [1,0,1,0,0,2,2,0,0]]\n",
    ")\n",
    "\n",
    "# Show only the solution(s) with \"b > a\"\n",
    "for s in soln: \n",
    "    if s[0][5] > s[0][4]: \n",
    "        printgrid(s)\n",
    "        print('\\n\\n')\n",
    "\n",
    "print('(%d solutions in total)' % len(soln))"
   ]
  },
  {
   "cell_type": "markdown",
   "metadata": {},
   "source": [
    "## \"1 to 9\" puzzle #1841\n",
    "Source: https://twitter.com/1to9puzzle/status/1050738145216647169\n",
    "\n",
    "![The puzzle](https://pbs.twimg.com/media/DpT2qe2WsAA_n3k.jpg)"
   ]
  },
  {
   "cell_type": "markdown",
   "metadata": {},
   "source": [
    "### My solution\n",
    "Just need to slightly alter the previous one."
   ]
  },
  {
   "cell_type": "code",
   "execution_count": 41,
   "metadata": {},
   "outputs": [],
   "source": [
    "mults = set(3*i for i in range(4,34))\n",
    "\n",
    "def labels(grid):\n",
    "    '''Find the labels (i.e. the colors) for the entire grid.'''\n",
    "    labs = [[0]*9 for _ in range(9)]\n",
    "    for i, row in enumerate(grid):\n",
    "        for j in range(8):\n",
    "            if row[j]*10 + row[j+1] in mults:\n",
    "                labs[i][j] += 1\n",
    "                labs[i][j+1] += 1\n",
    "    for i, row in enumerate(cols(grid)):\n",
    "        for j in range(8):\n",
    "            if row[j]*10 + row[j+1] in mults:\n",
    "                labs[j][i] += 1\n",
    "                labs[j+1][i] += 1\n",
    "    return labs\n",
    "\n",
    "def label(grid, i, j):\n",
    "    '''Find the label for one spot in the grid.'''    \n",
    "    lab = 0\n",
    "    if i < 8 and grid[i][j] * 10 + grid[i+1][j] in mults: lab += 1\n",
    "    if j < 8 and grid[i][j] * 10 + grid[i][j+1] in mults: lab += 1\n",
    "    if i > 0 and grid[i-1][j] * 10 + grid[i][j] in mults: lab += 1\n",
    "    if j > 0 and grid[i][j-1] * 10 + grid[i][j] in mults: lab += 1\n",
    "    return lab"
   ]
  },
  {
   "cell_type": "code",
   "execution_count": 42,
   "metadata": {},
   "outputs": [
    {
     "name": "stdout",
     "output_type": "stream",
     "text": [
      "3 | 4 | 9 | 7 | 6 | 1 | 8 | 5 | 2\n",
      "---------------------------------\n",
      "5 | 2 | 6 | 4 | 8 | 3 | 7 | 1 | 9\n",
      "---------------------------------\n",
      "7 | 1 | 8 | 2 | 9 | 5 | 4 | 3 | 6\n",
      "---------------------------------\n",
      "6 | 8 | 2 | 9 | 1 | 7 | 5 | 4 | 3\n",
      "---------------------------------\n",
      "1 | 9 | 5 | 3 | 4 | 6 | 2 | 8 | 7\n",
      "---------------------------------\n",
      "4 | 7 | 3 | 8 | 5 | 2 | 9 | 6 | 1\n",
      "---------------------------------\n",
      "8 | 3 | 4 | 1 | 2 | 9 | 6 | 7 | 5\n",
      "---------------------------------\n",
      "2 | 6 | 7 | 5 | 3 | 4 | 1 | 9 | 8\n",
      "---------------------------------\n",
      "9 | 5 | 1 | 6 | 7 | 8 | 3 | 2 | 4\n",
      "\n",
      "\n",
      "\n",
      "(6 solutions in total)\n"
     ]
    }
   ],
   "source": [
    "# Solve the given puzzle\n",
    "soln = solve_sudoku(\n",
    "    \n",
    "    givens = [((1,1), 2), ((0,5), 1), ((2,7), 3),\n",
    "              ((3,6), 5), ((4,4), 4), ((5,0), 4),\n",
    "              ((7,2), 7), ((7,8), 8), ((8,3), 6)],\n",
    "    \n",
    "    grid_reqs = [[0,1,1,0,0,1,2,1,0],\n",
    "                 [1,2,1,2,1,0,1,1,1],\n",
    "                 [1,3,1,1,0,2,2,1,3],\n",
    "                 [0,1,0,1,0,2,3,2,1],\n",
    "                 [0,0,0,1,1,0,0,2,1],\n",
    "                 [1,0,0,1,1,0,2,1,1],\n",
    "                 [1,1,0,3,1,1,2,1,2],\n",
    "                 [0,1,1,2,0,1,0,0,1],\n",
    "                 [0,1,1,0,1,2,0,1,2]]\n",
    ")\n",
    "\n",
    "# Show only the solution(s) with \"a > b and c > d\"\n",
    "for s in soln: \n",
    "    if s[0][2] > s[1][2] and s[2][0] > s[2][1]: \n",
    "        printgrid(s)\n",
    "        print('\\n\\n')\n",
    "\n",
    "print('(%d solutions in total)' % len(soln))"
   ]
  }
 ],
 "metadata": {
  "kernelspec": {
   "display_name": "Python [default]",
   "language": "python",
   "name": "python3"
  },
  "language_info": {
   "codemirror_mode": {
    "name": "ipython",
    "version": 3
   },
   "file_extension": ".py",
   "mimetype": "text/x-python",
   "name": "python",
   "nbconvert_exporter": "python",
   "pygments_lexer": "ipython3",
   "version": "3.5.6"
  }
 },
 "nbformat": 4,
 "nbformat_minor": 2
}
