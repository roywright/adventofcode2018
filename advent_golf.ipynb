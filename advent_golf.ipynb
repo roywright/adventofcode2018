{
 "cells": [
  {
   "cell_type": "markdown",
   "metadata": {},
   "source": [
    "# Advent of Code 2018\n",
    "### Code golf version\n",
    "http://adventofcode.com/2018"
   ]
  },
  {
   "cell_type": "markdown",
   "metadata": {},
   "source": [
    "## Day 1\n",
    "Puzzle input: `data/input01.txt` and `g/1`"
   ]
  },
  {
   "cell_type": "code",
   "execution_count": 1,
   "metadata": {},
   "outputs": [
    {
     "name": "stdout",
     "output_type": "stream",
     "text": [
      "576\n",
      "77674\n"
     ]
    },
    {
     "data": {
      "text/plain": [
       "302"
      ]
     },
     "execution_count": 1,
     "metadata": {},
     "output_type": "execute_result"
    }
   ],
   "source": [
    "%reset -f\n",
    "orig = '''\n",
    "with open('data/input01.txt', 'r') as f:\n",
    "    freq_change = [int(n) for n in f]\n",
    "print(sum(freq_change))\n",
    "last_freq = 0\n",
    "freq_history = set()\n",
    "n = len(freq_change)\n",
    "i = 0\n",
    "while last_freq not in freq_history:\n",
    "    freq_history.add(last_freq)\n",
    "    last_freq += freq_change[i]\n",
    "    i = (i+1) % n\n",
    "print(last_freq)\n",
    "'''\n",
    "exec(orig)\n",
    "len(orig)"
   ]
  },
  {
   "cell_type": "code",
   "execution_count": 2,
   "metadata": {},
   "outputs": [
    {
     "name": "stdout",
     "output_type": "stream",
     "text": [
      "576\n",
      "77674\n"
     ]
    },
    {
     "data": {
      "text/plain": [
       "114"
      ]
     },
     "execution_count": 2,
     "metadata": {},
     "output_type": "execute_result"
    }
   ],
   "source": [
    "%reset -f\n",
    "golf = '''\n",
    "f=list(map(int,open('g/1')))\n",
    "print(sum(f))\n",
    "l,h,i=0,set(),0\n",
    "while not{l}&h:h|={l};l+=f[i];i=(i+1)%len(f)\n",
    "print(l)\n",
    "'''\n",
    "exec(golf)\n",
    "len(golf)"
   ]
  },
  {
   "cell_type": "markdown",
   "metadata": {},
   "source": [
    "## Day 2\n",
    "Puzzle input: `data/input02.txt` and `g/2`"
   ]
  },
  {
   "cell_type": "code",
   "execution_count": 3,
   "metadata": {},
   "outputs": [
    {
     "name": "stdout",
     "output_type": "stream",
     "text": [
      "5904\n",
      "jiwamotgsfrudclzbyzkhlrvp\n"
     ]
    },
    {
     "data": {
      "text/plain": [
       "527"
      ]
     },
     "execution_count": 3,
     "metadata": {},
     "output_type": "execute_result"
    }
   ],
   "source": [
    "%reset -f\n",
    "orig = '''\n",
    "with open('data/input02.txt', 'r') as f:\n",
    "    words = [w.strip() for w in f]\n",
    "from collections import Counter\n",
    "twos, threes = 0, 0\n",
    "for w in words:\n",
    "    c = Counter(w)\n",
    "    if 2 in c.values(): twos += 1\n",
    "    if 3 in c.values(): threes += 1\n",
    "print(twos * threes)\n",
    "from itertools import combinations\n",
    "def diff_count(w1, w2):\n",
    "    return sum(a != b for a,b in zip(w1, w2))\n",
    "def common(w1, w2):\n",
    "    return ''.join(a for a,b in zip(w1, w2) if a == b)\n",
    "for w1, w2 in combinations(words, 2):\n",
    "    if diff_count(w1, w2) == 1: print(common(w1, w2))\n",
    "'''\n",
    "exec(orig)\n",
    "len(orig)"
   ]
  },
  {
   "cell_type": "code",
   "execution_count": 4,
   "metadata": {},
   "outputs": [
    {
     "name": "stdout",
     "output_type": "stream",
     "text": [
      "5904\n",
      "jiwamotgsfrudclzbyzkhlrvp\n"
     ]
    },
    {
     "data": {
      "text/plain": [
       "248"
      ]
     },
     "execution_count": 4,
     "metadata": {},
     "output_type": "execute_result"
    }
   ],
   "source": [
    "%reset -f\n",
    "golf = '''\n",
    "w=[w[:-1]for w in open('g/2')]\n",
    "import collections as C\n",
    "a,b=0,0\n",
    "for x in w:c=C.Counter(x).values();a+=(2 in c);b+=(3 in c)\n",
    "print(a*b)\n",
    "for e in w:\n",
    " for f in w:\n",
    "  if sum(a!=b for a,b in zip(e,f)if e<f)==1:print(''.join(a for a,b in zip(e,f)if a==b))\n",
    "'''\n",
    "exec(golf)\n",
    "len(golf)"
   ]
  },
  {
   "cell_type": "markdown",
   "metadata": {},
   "source": [
    "## Day 3\n",
    "Puzzle input: `data/input03.txt` and `g/3`"
   ]
  },
  {
   "cell_type": "code",
   "execution_count": 5,
   "metadata": {},
   "outputs": [
    {
     "name": "stdout",
     "output_type": "stream",
     "text": [
      "104241\n",
      "806\n"
     ]
    },
    {
     "data": {
      "text/plain": [
       "657"
      ]
     },
     "execution_count": 5,
     "metadata": {},
     "output_type": "execute_result"
    }
   ],
   "source": [
    "%reset -f\n",
    "orig = '''\n",
    "with open('data/input03.txt', 'r') as f:\n",
    "    claim_raw = [c.strip() for c in f]\n",
    "from collections import defaultdict\n",
    "from re import search\n",
    "claim_regex = r'\\#(\\d+)\\s+\\@\\s+(\\d+),(\\d+)\\:\\s+(\\d+)x(\\d+)'\n",
    "claim_id = defaultdict(set)\n",
    "for c_raw in claim_raw:\n",
    "    c_id, i, j, m, n = (int(g) for g in search(claim_regex, c_raw).groups())\n",
    "    for p in range(i, i+m):\n",
    "        for q in range(j, j+n):\n",
    "            claim_id[(p,q)].add(c_id)\n",
    "print(sum(len(claims) > 1 for claims in claim_id.values()))\n",
    "claim_set = set.union(*claim_id.values())\n",
    "for position, claims in claim_id.items():\n",
    "    if len(claims) > 1:\n",
    "        claim_set -= claim_id[position]\n",
    "print(claim_set.pop())\n",
    "'''\n",
    "exec(orig)\n",
    "len(orig)"
   ]
  },
  {
   "cell_type": "code",
   "execution_count": 6,
   "metadata": {},
   "outputs": [
    {
     "name": "stdout",
     "output_type": "stream",
     "text": [
      "104241\n",
      "806\n"
     ]
    },
    {
     "data": {
      "text/plain": [
       "282"
      ]
     },
     "execution_count": 6,
     "metadata": {},
     "output_type": "execute_result"
    }
   ],
   "source": [
    "%reset -f\n",
    "golf = '''\n",
    "import re,collections as C\n",
    "c=C.defaultdict(set)\n",
    "for s in open('g/3'):\n",
    " d,i,j,m,n=map(int,re.split('\\D+',s)[1:-1])\n",
    " for p in range(i,i+m):\n",
    "  for q in range(j,j+n):c[(p,q)].add(d)\n",
    "v=c.values()\n",
    "l=lambda x:len(x)>1\n",
    "print(sum(map(l,v)))\n",
    "K=set.union\n",
    "print((K(*v)-K(*filter(l,v))).pop())\n",
    "'''\n",
    "exec(golf)\n",
    "len(golf)"
   ]
  }
 ],
 "metadata": {
  "kernelspec": {
   "display_name": "Python 3",
   "language": "python",
   "name": "python3"
  },
  "language_info": {
   "codemirror_mode": {
    "name": "ipython",
    "version": 3
   },
   "file_extension": ".py",
   "mimetype": "text/x-python",
   "name": "python",
   "nbconvert_exporter": "python",
   "pygments_lexer": "ipython3",
   "version": "3.7.0"
  }
 },
 "nbformat": 4,
 "nbformat_minor": 2
}
