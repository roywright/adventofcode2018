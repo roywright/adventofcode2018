{
 "cells": [
  {
   "cell_type": "code",
   "execution_count": 1,
   "metadata": {},
   "outputs": [
    {
     "data": {
      "text/html": [
       "<style>.edit_mode div.cell.selected {width: 72rem !important;}</style>\n",
       "<script>$(\"div.input:first\").hide();</script>"
      ],
      "text/plain": [
       "<IPython.core.display.HTML object>"
      ]
     },
     "metadata": {},
     "output_type": "display_data"
    }
   ],
   "source": [
    "%%html\n",
    "<style>.edit_mode div.cell.selected {width: 72rem !important;}</style>\n",
    "<script>$(\"div.input:first\").hide();</script>"
   ]
  },
  {
   "cell_type": "markdown",
   "metadata": {},
   "source": [
    "# Advent of Code 2018\n",
    "http://adventofcode.com/2018"
   ]
  },
  {
   "cell_type": "markdown",
   "metadata": {},
   "source": [
    "## Day 1\n",
    "Puzzle input: `input01.txt`\n",
    "### Part 1"
   ]
  },
  {
   "cell_type": "code",
   "execution_count": 1,
   "metadata": {},
   "outputs": [
    {
     "name": "stdout",
     "output_type": "stream",
     "text": [
      "576\n"
     ]
    }
   ],
   "source": [
    "with open('input01.txt') as f:\n",
    "    freq_change = [int(n) for n in f]\n",
    "    \n",
    "print(sum(freq_change))"
   ]
  },
  {
   "cell_type": "markdown",
   "metadata": {},
   "source": [
    "### Part 2"
   ]
  },
  {
   "cell_type": "code",
   "execution_count": 2,
   "metadata": {},
   "outputs": [
    {
     "name": "stdout",
     "output_type": "stream",
     "text": [
      "77674\n"
     ]
    }
   ],
   "source": [
    "last_freq = 0\n",
    "freq_history = set()\n",
    "n = len(freq_change)\n",
    "\n",
    "i = 0\n",
    "while last_freq not in freq_history:\n",
    "    freq_history.add(last_freq)\n",
    "    last_freq += freq_change[i]    \n",
    "    i = (i+1) % n\n",
    "    \n",
    "print(last_freq)"
   ]
  },
  {
   "cell_type": "markdown",
   "metadata": {},
   "source": [
    "## Day 2\n",
    "Puzzle input: `input02.txt`\n",
    "### Part 1"
   ]
  },
  {
   "cell_type": "code",
   "execution_count": 3,
   "metadata": {},
   "outputs": [],
   "source": [
    "with open('input02.txt') as f:\n",
    "    words = [w.strip() for w in f]"
   ]
  },
  {
   "cell_type": "code",
   "execution_count": 4,
   "metadata": {},
   "outputs": [
    {
     "name": "stdout",
     "output_type": "stream",
     "text": [
      "5904\n"
     ]
    }
   ],
   "source": [
    "from collections import Counter\n",
    "\n",
    "twos, threes = 0, 0\n",
    "for w in words:\n",
    "    c = Counter(w)\n",
    "    if 2 in c.values(): twos += 1\n",
    "    if 3 in c.values(): threes += 1\n",
    "        \n",
    "print(twos * threes)"
   ]
  },
  {
   "cell_type": "markdown",
   "metadata": {},
   "source": [
    "### Part 2"
   ]
  },
  {
   "cell_type": "code",
   "execution_count": 5,
   "metadata": {},
   "outputs": [
    {
     "name": "stdout",
     "output_type": "stream",
     "text": [
      "jiwamotgsfrudclzbyzkhlrvp\n"
     ]
    }
   ],
   "source": [
    "from itertools import combinations\n",
    "\n",
    "def diff_count(w1, w2):\n",
    "    return sum(a != b for a,b in zip(w1, w2))\n",
    "\n",
    "def common(w1, w2):\n",
    "    return ''.join(a for a,b in zip(w1, w2) if a == b)\n",
    "\n",
    "for w1, w2 in combinations(words, 2):\n",
    "    if diff_count(w1, w2) == 1: print(common(w1, w2))"
   ]
  },
  {
   "cell_type": "markdown",
   "metadata": {},
   "source": [
    "## Day 3\n",
    "Puzzle input: `input03.txt`\n",
    "### Part 1"
   ]
  },
  {
   "cell_type": "code",
   "execution_count": 6,
   "metadata": {},
   "outputs": [],
   "source": [
    "with open('input03.txt') as f:\n",
    "    claim_raw = [c.strip() for c in f]"
   ]
  },
  {
   "cell_type": "code",
   "execution_count": 7,
   "metadata": {},
   "outputs": [
    {
     "name": "stdout",
     "output_type": "stream",
     "text": [
      "104241\n"
     ]
    }
   ],
   "source": [
    "from collections import defaultdict\n",
    "from re import search\n",
    "\n",
    "claim_regex = r'\\#(\\d+)\\s+\\@\\s+(\\d+),(\\d+)\\:\\s+(\\d+)x(\\d+)'\n",
    "\n",
    "claim_id = defaultdict(set)\n",
    "for c_raw in claim_raw:\n",
    "    c_id, i, j, m, n = (int(g) for g in search(claim_regex, c_raw).groups())\n",
    "    for p in range(i, i+m):\n",
    "        for q in range(j, j+n):\n",
    "            claim_id[(p,q)].add(c_id)\n",
    "            \n",
    "print(sum(len(claims) > 1 for claims in claim_id.values()))"
   ]
  },
  {
   "cell_type": "markdown",
   "metadata": {},
   "source": [
    "### Part 2"
   ]
  },
  {
   "cell_type": "code",
   "execution_count": 8,
   "metadata": {},
   "outputs": [
    {
     "name": "stdout",
     "output_type": "stream",
     "text": [
      "{806}\n"
     ]
    }
   ],
   "source": [
    "claim_set = set.union(*claim_id.values())\n",
    "\n",
    "for position, claims in claim_id.items():\n",
    "    if len(claims) > 1:\n",
    "        claim_set -= claim_id[position]\n",
    "                \n",
    "print(claim_set)"
   ]
  },
  {
   "cell_type": "markdown",
   "metadata": {},
   "source": [
    "## Day 4\n",
    "Puzzle input: `input04.txt`\n",
    "### Part 1"
   ]
  },
  {
   "cell_type": "code",
   "execution_count": 9,
   "metadata": {},
   "outputs": [],
   "source": [
    "with open('input04.txt') as f:\n",
    "    guard_records = [g.strip() for g in f]"
   ]
  },
  {
   "cell_type": "code",
   "execution_count": 10,
   "metadata": {},
   "outputs": [
    {
     "name": "stdout",
     "output_type": "stream",
     "text": [
      "[3212]\n"
     ]
    }
   ],
   "source": [
    "from collections import defaultdict\n",
    "from re import search\n",
    "from datetime import datetime, timedelta\n",
    "import pandas as pd\n",
    "\n",
    "guard_regex1 = '\\[.+\\] Guard \\#(\\d+)'\n",
    "guard_regex2 = '\\[(\\d+)\\-(\\d+)\\-(\\d+)\\ (\\d+)\\:(\\d+)\\] (.+) .+'\n",
    "\n",
    "asleep = defaultdict(int)\n",
    "for gr in sorted(guard_records):\n",
    "    try:\n",
    "        grps = search(guard_regex1, gr).groups()\n",
    "        curr_guard = int(grps[-1])\n",
    "    except:\n",
    "        grps = search(guard_regex2, gr).groups()\n",
    "        yr, mo, da, hr, mi = (int(g) for g in grps[:-1])\n",
    "        dt2 = datetime(yr, mo, da, hr, mi)\n",
    "        if 'falls' in grps[-1]: \n",
    "            dt1 = dt2\n",
    "        if 'wakes' in grps[-1]:\n",
    "            dt = dt1\n",
    "            while dt < dt2:\n",
    "                asleep[(curr_guard, dt.minute)] += 1\n",
    "                dt += timedelta(minutes = 1)\n",
    "            dt1 = dt2\n",
    "            \n",
    "sleep_data = pd.DataFrame([[k[0], k[1], v] for k,v in asleep.items()],\n",
    "                          columns = ['guard', 'minute', 'asleep'])\n",
    "\n",
    "strategy1 = sleep_data[\n",
    "    sleep_data.guard == sleep_data.groupby('guard').sum().asleep.idxmax()\n",
    "].sort_values('asleep', ascending = False).head(1)\n",
    "\n",
    "print((strategy1.guard * strategy1.minute).values)"
   ]
  },
  {
   "cell_type": "markdown",
   "metadata": {},
   "source": [
    "### Part 2"
   ]
  },
  {
   "cell_type": "code",
   "execution_count": 11,
   "metadata": {},
   "outputs": [
    {
     "name": "stdout",
     "output_type": "stream",
     "text": [
      "[4966]\n"
     ]
    }
   ],
   "source": [
    "strategy2 = sleep_data.groupby(\n",
    "    ['guard', 'minute'], as_index = False\n",
    ").sum().sort_values('asleep', ascending = False).head(1)\n",
    "\n",
    "print((strategy2.guard * strategy2.minute).values)"
   ]
  }
 ],
 "metadata": {
  "kernelspec": {
   "display_name": "Python [default]",
   "language": "python",
   "name": "python3"
  },
  "language_info": {
   "codemirror_mode": {
    "name": "ipython",
    "version": 3
   },
   "file_extension": ".py",
   "mimetype": "text/x-python",
   "name": "python",
   "nbconvert_exporter": "python",
   "pygments_lexer": "ipython3",
   "version": "3.5.6"
  }
 },
 "nbformat": 4,
 "nbformat_minor": 2
}
