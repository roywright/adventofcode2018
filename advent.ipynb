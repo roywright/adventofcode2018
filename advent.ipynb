{
 "cells": [
  {
   "cell_type": "code",
   "execution_count": 1,
   "metadata": {
    "scrolled": true
   },
   "outputs": [
    {
     "data": {
      "text/html": [
       "<!–– This cell should be hidden, but you can probably see it on GitHub ––>\n",
       "<style>.edit_mode div.cell.selected {width: 72rem !important;}</style>\n",
       "<script>$(\"div.input:first\").hide();</script>"
      ],
      "text/plain": [
       "<IPython.core.display.HTML object>"
      ]
     },
     "metadata": {},
     "output_type": "display_data"
    }
   ],
   "source": [
    "%%html\n",
    "<!–– This cell should be hidden, but you can probably see it on GitHub ––>\n",
    "<style>.edit_mode div.cell.selected {width: 72rem !important;}</style>\n",
    "<script>$(\"div.input:first\").hide();</script>"
   ]
  },
  {
   "cell_type": "markdown",
   "metadata": {},
   "source": [
    "# Advent of Code 2018\n",
    "http://adventofcode.com/2018"
   ]
  },
  {
   "cell_type": "markdown",
   "metadata": {},
   "source": [
    "## Day 1\n",
    "Puzzle input: `input01.txt`\n",
    "### Part 1"
   ]
  },
  {
   "cell_type": "code",
   "execution_count": 1,
   "metadata": {},
   "outputs": [
    {
     "name": "stdout",
     "output_type": "stream",
     "text": [
      "576\n"
     ]
    }
   ],
   "source": [
    "with open('data/input01.txt', 'r') as f:\n",
    "    freq_change = [int(n) for n in f]\n",
    "    \n",
    "print(sum(freq_change))"
   ]
  },
  {
   "cell_type": "markdown",
   "metadata": {},
   "source": [
    "### Part 2"
   ]
  },
  {
   "cell_type": "code",
   "execution_count": 2,
   "metadata": {},
   "outputs": [
    {
     "name": "stdout",
     "output_type": "stream",
     "text": [
      "77674\n"
     ]
    }
   ],
   "source": [
    "last_freq = 0\n",
    "freq_history = set()\n",
    "n = len(freq_change)\n",
    "\n",
    "i = 0\n",
    "while last_freq not in freq_history:\n",
    "    freq_history.add(last_freq)\n",
    "    last_freq += freq_change[i]    \n",
    "    i = (i+1) % n\n",
    "    \n",
    "print(last_freq)"
   ]
  },
  {
   "cell_type": "markdown",
   "metadata": {},
   "source": [
    "## Day 2\n",
    "Puzzle input: `input02.txt`\n",
    "### Part 1"
   ]
  },
  {
   "cell_type": "code",
   "execution_count": 3,
   "metadata": {},
   "outputs": [],
   "source": [
    "with open('data/input02.txt', 'r') as f:\n",
    "    words = [w.strip() for w in f]"
   ]
  },
  {
   "cell_type": "code",
   "execution_count": 4,
   "metadata": {},
   "outputs": [
    {
     "name": "stdout",
     "output_type": "stream",
     "text": [
      "5904\n"
     ]
    }
   ],
   "source": [
    "from collections import Counter\n",
    "\n",
    "twos, threes = 0, 0\n",
    "for w in words:\n",
    "    c = Counter(w)\n",
    "    if 2 in c.values(): twos += 1\n",
    "    if 3 in c.values(): threes += 1\n",
    "        \n",
    "print(twos * threes)"
   ]
  },
  {
   "cell_type": "markdown",
   "metadata": {},
   "source": [
    "### Part 2"
   ]
  },
  {
   "cell_type": "code",
   "execution_count": 5,
   "metadata": {},
   "outputs": [
    {
     "name": "stdout",
     "output_type": "stream",
     "text": [
      "jiwamotgsfrudclzbyzkhlrvp\n"
     ]
    }
   ],
   "source": [
    "from itertools import combinations\n",
    "\n",
    "def diff_count(w1, w2):\n",
    "    return sum(a != b for a,b in zip(w1, w2))\n",
    "\n",
    "def common(w1, w2):\n",
    "    return ''.join(a for a,b in zip(w1, w2) if a == b)\n",
    "\n",
    "for w1, w2 in combinations(words, 2):\n",
    "    if diff_count(w1, w2) == 1: print(common(w1, w2))"
   ]
  },
  {
   "cell_type": "markdown",
   "metadata": {},
   "source": [
    "## Day 3\n",
    "Puzzle input: `input03.txt`\n",
    "### Part 1"
   ]
  },
  {
   "cell_type": "code",
   "execution_count": 6,
   "metadata": {},
   "outputs": [],
   "source": [
    "with open('data/input03.txt', 'r') as f:\n",
    "    claim_raw = [c.strip() for c in f]"
   ]
  },
  {
   "cell_type": "code",
   "execution_count": 7,
   "metadata": {},
   "outputs": [
    {
     "name": "stdout",
     "output_type": "stream",
     "text": [
      "104241\n"
     ]
    }
   ],
   "source": [
    "from collections import defaultdict\n",
    "from re import search\n",
    "\n",
    "claim_regex = r'\\#(\\d+)\\s+\\@\\s+(\\d+),(\\d+)\\:\\s+(\\d+)x(\\d+)'\n",
    "\n",
    "claim_id = defaultdict(set)\n",
    "for c_raw in claim_raw:\n",
    "    c_id, i, j, m, n = (int(g) for g in search(claim_regex, c_raw).groups())\n",
    "    for p in range(i, i+m):\n",
    "        for q in range(j, j+n):\n",
    "            claim_id[(p,q)].add(c_id)\n",
    "            \n",
    "print(sum(len(claims) > 1 for claims in claim_id.values()))"
   ]
  },
  {
   "cell_type": "markdown",
   "metadata": {},
   "source": [
    "### Part 2"
   ]
  },
  {
   "cell_type": "code",
   "execution_count": 8,
   "metadata": {},
   "outputs": [
    {
     "name": "stdout",
     "output_type": "stream",
     "text": [
      "{806}\n"
     ]
    }
   ],
   "source": [
    "claim_set = set.union(*claim_id.values())\n",
    "\n",
    "for position, claims in claim_id.items():\n",
    "    if len(claims) > 1:\n",
    "        claim_set -= claim_id[position]\n",
    "                \n",
    "print(claim_set)"
   ]
  },
  {
   "cell_type": "markdown",
   "metadata": {},
   "source": [
    "## Day 4\n",
    "Puzzle input: `input04.txt`\n",
    "### Part 1"
   ]
  },
  {
   "cell_type": "code",
   "execution_count": 9,
   "metadata": {},
   "outputs": [],
   "source": [
    "with open('data/input04.txt', 'r') as f:\n",
    "    guard_records = [g.strip() for g in f]"
   ]
  },
  {
   "cell_type": "code",
   "execution_count": 10,
   "metadata": {},
   "outputs": [
    {
     "name": "stdout",
     "output_type": "stream",
     "text": [
      "3212\n"
     ]
    }
   ],
   "source": [
    "from datetime import datetime, timedelta\n",
    "\n",
    "guard_regex1 = '\\[.+\\] Guard \\#(\\d+)'\n",
    "guard_regex2 = '\\[(\\d+)\\-(\\d+)\\-(\\d+)\\ (\\d+)\\:(\\d+)\\] (.+) .+'\n",
    "\n",
    "asleep = defaultdict(int)\n",
    "for gr in sorted(guard_records):\n",
    "    try:\n",
    "        curr_guard = int(search(guard_regex1, gr).groups()[-1])\n",
    "    except:\n",
    "        groups = search(guard_regex2, gr).groups()\n",
    "        yr, mo, da, hr, mi = (int(g) for g in groups[:-1])\n",
    "        dt2 = datetime(yr, mo, da, hr, mi)\n",
    "        if 'falls' in groups[-1]: \n",
    "            dt1 = dt2\n",
    "        if 'wakes' in groups[-1]:\n",
    "            dt = dt1\n",
    "            while dt < dt2:\n",
    "                asleep[(curr_guard, dt.minute)] += 1\n",
    "                dt += timedelta(minutes = 1)\n",
    "            dt1 = dt2\n",
    "            \n",
    "best_guard = sorted([\n",
    "    (sum(v for k,v in asleep.items() if k[0] == g), g)\n",
    "    for g in set(k[0] for k in asleep.keys())\n",
    "])[-1][1]\n",
    "\n",
    "best_minute = sorted([\n",
    "    (v,k) for k,v in asleep.items() \n",
    "    if k[0] == best_guard\n",
    "])[-1][1]\n",
    "\n",
    "print(best_minute[0] * best_minute[1])"
   ]
  },
  {
   "cell_type": "markdown",
   "metadata": {},
   "source": [
    "### Part 2"
   ]
  },
  {
   "cell_type": "code",
   "execution_count": 11,
   "metadata": {},
   "outputs": [
    {
     "name": "stdout",
     "output_type": "stream",
     "text": [
      "4966\n"
     ]
    }
   ],
   "source": [
    "best_minute = sorted([(v,k) for k,v in asleep.items()])[-1][1]\n",
    "print(best_minute[0] * best_minute[1])"
   ]
  },
  {
   "cell_type": "markdown",
   "metadata": {},
   "source": [
    "## Day 4: Alternative solution with `pandas`\n",
    "Puzzle input: `input04.txt`\n",
    "### Part 1"
   ]
  },
  {
   "cell_type": "code",
   "execution_count": 12,
   "metadata": {},
   "outputs": [
    {
     "name": "stdout",
     "output_type": "stream",
     "text": [
      "\n",
      "A sample of the processed data:\n"
     ]
    },
    {
     "data": {
      "text/html": [
       "<div>\n",
       "<style scoped>\n",
       "    .dataframe tbody tr th:only-of-type {\n",
       "        vertical-align: middle;\n",
       "    }\n",
       "\n",
       "    .dataframe tbody tr th {\n",
       "        vertical-align: top;\n",
       "    }\n",
       "\n",
       "    .dataframe thead th {\n",
       "        text-align: right;\n",
       "    }\n",
       "</style>\n",
       "<table border=\"1\" class=\"dataframe\">\n",
       "  <thead>\n",
       "    <tr style=\"text-align: right;\">\n",
       "      <th></th>\n",
       "      <th>guard_id</th>\n",
       "      <th>minute</th>\n",
       "      <th>asleep</th>\n",
       "    </tr>\n",
       "  </thead>\n",
       "  <tbody>\n",
       "    <tr>\n",
       "      <th>1144</th>\n",
       "      <td>3313</td>\n",
       "      <td>4</td>\n",
       "      <td>3</td>\n",
       "    </tr>\n",
       "    <tr>\n",
       "      <th>330</th>\n",
       "      <td>863</td>\n",
       "      <td>30</td>\n",
       "      <td>4</td>\n",
       "    </tr>\n",
       "    <tr>\n",
       "      <th>467</th>\n",
       "      <td>1217</td>\n",
       "      <td>47</td>\n",
       "      <td>8</td>\n",
       "    </tr>\n",
       "    <tr>\n",
       "      <th>699</th>\n",
       "      <td>1951</td>\n",
       "      <td>39</td>\n",
       "      <td>6</td>\n",
       "    </tr>\n",
       "    <tr>\n",
       "      <th>305</th>\n",
       "      <td>863</td>\n",
       "      <td>5</td>\n",
       "      <td>1</td>\n",
       "    </tr>\n",
       "    <tr>\n",
       "      <th>1316</th>\n",
       "      <td>3373</td>\n",
       "      <td>56</td>\n",
       "      <td>4</td>\n",
       "    </tr>\n",
       "    <tr>\n",
       "      <th>956</th>\n",
       "      <td>2677</td>\n",
       "      <td>56</td>\n",
       "      <td>3</td>\n",
       "    </tr>\n",
       "    <tr>\n",
       "      <th>701</th>\n",
       "      <td>1951</td>\n",
       "      <td>41</td>\n",
       "      <td>6</td>\n",
       "    </tr>\n",
       "    <tr>\n",
       "      <th>1198</th>\n",
       "      <td>3313</td>\n",
       "      <td>58</td>\n",
       "      <td>3</td>\n",
       "    </tr>\n",
       "    <tr>\n",
       "      <th>118</th>\n",
       "      <td>79</td>\n",
       "      <td>58</td>\n",
       "      <td>3</td>\n",
       "    </tr>\n",
       "  </tbody>\n",
       "</table>\n",
       "</div>"
      ],
      "text/plain": [
       "      guard_id  minute  asleep\n",
       "1144      3313       4       3\n",
       "330        863      30       4\n",
       "467       1217      47       8\n",
       "699       1951      39       6\n",
       "305        863       5       1\n",
       "1316      3373      56       4\n",
       "956       2677      56       3\n",
       "701       1951      41       6\n",
       "1198      3313      58       3\n",
       "118         79      58       3"
      ]
     },
     "execution_count": 12,
     "metadata": {},
     "output_type": "execute_result"
    }
   ],
   "source": [
    "import pandas as pd\n",
    "\n",
    "df = (\n",
    "    pd.read_csv('data/input04.txt', header = None).sort_values(0).iloc[:,0]\n",
    "    .str.extract(r'\\[(\\d+)\\-(\\d+)\\-(\\d+)\\ (\\d+)\\:(\\d+)\\] (.+)')\n",
    ")\n",
    "\n",
    "df['guard_id'] = df[5].str.extract(r'd \\#(\\d+)', expand = False).astype(float)\n",
    "df['date'] = df.iloc[:,:5].astype(int).apply(lambda row: datetime(*row), 1) \n",
    "df['asleep'] = df[5].str.contains('sleep')\n",
    "\n",
    "date_min, date_max = df.date.min(), df.date.max()\n",
    "total_mins = int((date_max - date_min).total_seconds()) // 60\n",
    "\n",
    "df = pd.DataFrame({\n",
    "    'date': [date_min + timedelta(minutes = m) for m in range(total_mins + 1)]\n",
    "}).merge(df, on = 'date', how = 'left')[['guard_id', 'date', 'asleep']]\n",
    "\n",
    "df['minute'] = df.date.apply(lambda dt: dt.minute)\n",
    "\n",
    "df = (\n",
    "    df.drop('date', 1).fillna(method = 'ffill')\n",
    "    .groupby(['guard_id', 'minute'], as_index = False).sum()\n",
    ").astype(int)\n",
    "\n",
    "print('\\nA sample of the processed data:')\n",
    "df.sample(10)"
   ]
  },
  {
   "cell_type": "code",
   "execution_count": 13,
   "metadata": {},
   "outputs": [
    {
     "name": "stdout",
     "output_type": "stream",
     "text": [
      "3212\n"
     ]
    }
   ],
   "source": [
    "best_minute = df[\n",
    "    df.guard_id == df.groupby('guard_id').sum().asleep.idxmax()\n",
    "].sort_values('asleep').iloc[-1]\n",
    "\n",
    "print(int(best_minute.guard_id * best_minute.minute))"
   ]
  },
  {
   "cell_type": "markdown",
   "metadata": {},
   "source": [
    "### Part 2"
   ]
  },
  {
   "cell_type": "code",
   "execution_count": 14,
   "metadata": {},
   "outputs": [
    {
     "name": "stdout",
     "output_type": "stream",
     "text": [
      "4966\n"
     ]
    }
   ],
   "source": [
    "best_minute = df.sort_values('asleep').iloc[-1]\n",
    "print(int(best_minute.guard_id * best_minute.minute))"
   ]
  },
  {
   "cell_type": "markdown",
   "metadata": {},
   "source": [
    "## Day 5\n",
    "Puzzle input: `input05.txt`\n",
    "### Part 1"
   ]
  },
  {
   "cell_type": "code",
   "execution_count": 15,
   "metadata": {},
   "outputs": [],
   "source": [
    "with open('data/input05.txt', 'r') as f:\n",
    "    polymer = f.read().strip()"
   ]
  },
  {
   "cell_type": "code",
   "execution_count": 16,
   "metadata": {},
   "outputs": [
    {
     "name": "stdout",
     "output_type": "stream",
     "text": [
      "9060\n"
     ]
    }
   ],
   "source": [
    "from re import sub\n",
    "\n",
    "units = set(p.lower() for p in polymer)\n",
    "rgx = '|'.join(u + u.upper() + '|'  + u.upper() + u for u in units)\n",
    "\n",
    "def react(p):\n",
    "    result = p\n",
    "    q = ''\n",
    "    while result != q:\n",
    "        q = result\n",
    "        result = sub(rgx, '', q)\n",
    "    return result\n",
    "\n",
    "print(len(react(polymer)))"
   ]
  },
  {
   "cell_type": "markdown",
   "metadata": {},
   "source": [
    "### Part 2"
   ]
  },
  {
   "cell_type": "code",
   "execution_count": 17,
   "metadata": {},
   "outputs": [
    {
     "name": "stdout",
     "output_type": "stream",
     "text": [
      "A length of 6310 is obtained by removing unit o\n",
      "A length of 8652 is obtained by removing unit y\n",
      "A length of 8654 is obtained by removing unit a\n",
      ".\n",
      ".\n",
      ".\n",
      ".\n",
      ".\n",
      "\n",
      "A length of 8732 is obtained by removing unit c\n",
      "A length of 8748 is obtained by removing unit f\n",
      "A length of 8756 is obtained by removing unit k\n"
     ]
    }
   ],
   "source": [
    "altered_lengths = sorted(\n",
    "    (len(react(sub('(?i)' + u, '', polymer))), u) for u in units \n",
    ")\n",
    "for al in altered_lengths[:3]:\n",
    "    print('A length of {} is obtained by removing unit {}'.format(*al))\n",
    "print('.\\n' * 5)\n",
    "for al in altered_lengths[-3:]:\n",
    "    print('A length of {} is obtained by removing unit {}'.format(*al))"
   ]
  },
  {
   "cell_type": "markdown",
   "metadata": {},
   "source": [
    "## Day 6\n",
    "Puzzle input: `input06.txt`\n",
    "### Part 1"
   ]
  },
  {
   "cell_type": "code",
   "execution_count": 18,
   "metadata": {},
   "outputs": [],
   "source": [
    "with open('data/input06.txt', 'r') as f:\n",
    "    coords = [tuple(int(x) for x in p.strip().split(',')) for p in f]"
   ]
  },
  {
   "cell_type": "code",
   "execution_count": 19,
   "metadata": {},
   "outputs": [
    {
     "name": "stdout",
     "output_type": "stream",
     "text": [
      "3687\n"
     ]
    }
   ],
   "source": [
    "def man_dist(x, y):\n",
    "    return abs(x[0] - y[0]) + abs(x[1] - y[1])\n",
    "\n",
    "closest = {}\n",
    "for i in range(max(x[0] for x in coords) + 2):\n",
    "    for j in range(max(x[1] for x in coords) + 2):\n",
    "        dists = sorted((man_dist(x, (i, j)), x) for x in coords)\n",
    "        if dists[0][0] != dists[1][0]:\n",
    "            closest[(i,j)] = dists[0][1]\n",
    "            \n",
    "infs = set()\n",
    "M1 = max(x[1] for x in coords)\n",
    "for i in range(max(x[0] for x in coords) + 2):\n",
    "    if (i,0) in closest: infs.add(closest[(i, 0)])\n",
    "    if (i,M1) in closest: infs.add(closest[(i, M1 + 1)])\n",
    "\n",
    "M0 = max(x[0] for x in coords)\n",
    "for j in range(max(x[1] for x in coords) + 2):\n",
    "    if (0, j) in closest: infs.add(closest[(0, j)])\n",
    "    if (M0 + 1, j) in closest: infs.add(closest[(M0 + 1, j)])\n",
    "\n",
    "best_a = 0\n",
    "for c in set(coords) - infs:\n",
    "    a = len(set(p for p, c_ in closest.items() if c_ == c))\n",
    "    if a > best_a: best_a = a\n",
    "\n",
    "print(best_a)"
   ]
  },
  {
   "cell_type": "markdown",
   "metadata": {},
   "source": [
    "### Part 2"
   ]
  },
  {
   "cell_type": "code",
   "execution_count": 20,
   "metadata": {},
   "outputs": [
    {
     "name": "stdout",
     "output_type": "stream",
     "text": [
      "40134\n"
     ]
    }
   ],
   "source": [
    "dists = {}\n",
    "m0 = min(x[0] for x in coords)\n",
    "m1 = min(x[1] for x in coords)\n",
    "for i in range(m0 - 200, M0 + 201, 1):    # because 10000 / 50 = 200\n",
    "    for j in range(m1 - 200, M1 + 201, 1):\n",
    "        dists[(i, j)] = sum([man_dist((i, j), x) for x in coords])\n",
    "\n",
    "print(sum(v < 10000 for v in dists.values()))"
   ]
  },
  {
   "cell_type": "markdown",
   "metadata": {},
   "source": [
    "## Day 7\n",
    "Puzzle input: `input07.txt`\n",
    "### Part 1"
   ]
  },
  {
   "cell_type": "code",
   "execution_count": 21,
   "metadata": {},
   "outputs": [],
   "source": [
    "with open('data/input07.txt', 'r') as f:\n",
    "    instr = [i.strip() for i in f]"
   ]
  },
  {
   "cell_type": "code",
   "execution_count": 22,
   "metadata": {},
   "outputs": [
    {
     "name": "stdout",
     "output_type": "stream",
     "text": [
      "DFOQPTELAYRVUMXHKWSGZBCJIN\n"
     ]
    }
   ],
   "source": [
    "links = set(search(r'(.) must be .+ (.) can be', i).groups() for i in instr)\n",
    "\n",
    "steps = set(l[0] for l in links) | set(l[1] for l in links)\n",
    "todo = set(s for s in steps if s not in set(l[1] for l in links))\n",
    "sequence = []\n",
    "\n",
    "while len(todo) > 0:\n",
    "    sequence.append(min(todo))\n",
    "    links = set(l for l in links if l[0] not in sequence)\n",
    "    todo = set(s for s in steps \n",
    "               if s not in set(l[1] for l in links)\n",
    "              and s not in sequence)\n",
    "\n",
    "print(''.join(sequence))"
   ]
  },
  {
   "cell_type": "markdown",
   "metadata": {},
   "source": [
    "### Part 2"
   ]
  },
  {
   "cell_type": "code",
   "execution_count": 23,
   "metadata": {},
   "outputs": [
    {
     "name": "stdout",
     "output_type": "stream",
     "text": [
      "1036\n"
     ]
    }
   ],
   "source": [
    "links = set(search(r'(.) must be .+ (.) can be', i).groups() for i in instr)\n",
    "\n",
    "def time_req(s):\n",
    "    return ord(s) - 4\n",
    "\n",
    "sequence = []\n",
    "time_elapsed = -1\n",
    "worker_time = [1] * 5\n",
    "worker_letters = [''] * 5\n",
    "\n",
    "while max(worker_time) > 0 or len(sequence) < len(steps):\n",
    "    \n",
    "    for i in range(5): \n",
    "        worker_time[i] = max(worker_time[i] - 1, 0)    \n",
    "    \n",
    "    seq_done = []\n",
    "    while 0 in worker_time:\n",
    "        idx = worker_time.index(0)\n",
    "        if worker_letters[idx] != '':\n",
    "            seq_done.append(worker_letters[idx])\n",
    "            \n",
    "        links = set(l for l in links if l[0] not in sequence + seq_done)\n",
    "        \n",
    "        todo = set(s for s in steps \n",
    "                   if s not in set(l[1] for l in links)\n",
    "                   and s not in sequence + seq_done + worker_letters)  \n",
    "        \n",
    "        if len(todo) > 0:\n",
    "            worker_letters[idx] = min(todo)\n",
    "            worker_time[idx] = time_req(min(todo))\n",
    "        else:\n",
    "            worker_letters[idx] = '' \n",
    "            worker_time, worker_letters = (\n",
    "                list(w) for w in \n",
    "                zip(*sorted(zip(worker_time, worker_letters))[::-1])\n",
    "            )\n",
    "            break\n",
    "    sequence += sorted(seq_done)\n",
    "    time_elapsed += 1\n",
    "    \n",
    "print(time_elapsed)\n"
   ]
  }
 ],
 "metadata": {
  "kernelspec": {
   "display_name": "Python [default]",
   "language": "python",
   "name": "python3"
  },
  "language_info": {
   "codemirror_mode": {
    "name": "ipython",
    "version": 3
   },
   "file_extension": ".py",
   "mimetype": "text/x-python",
   "name": "python",
   "nbconvert_exporter": "python",
   "pygments_lexer": "ipython3",
   "version": "3.5.6"
  }
 },
 "nbformat": 4,
 "nbformat_minor": 2
}
