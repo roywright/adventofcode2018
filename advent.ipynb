{
 "cells": [
  {
   "cell_type": "code",
   "execution_count": 1,
   "metadata": {
    "scrolled": true
   },
   "outputs": [
    {
     "data": {
      "text/html": [
       "<!–– This cell should be hidden, but probably won't be on GitHub ––>\n",
       "<style>.edit_mode div.cell.selected {width: 72rem !important;}</style>\n",
       "<script>$(\"div.input:first\").hide();</script>"
      ],
      "text/plain": [
       "<IPython.core.display.HTML object>"
      ]
     },
     "metadata": {},
     "output_type": "display_data"
    }
   ],
   "source": [
    "%%html\n",
    "<!–– This cell should be hidden, but probably won't be on GitHub ––>\n",
    "<style>.edit_mode div.cell.selected {width: 72rem !important;}</style>\n",
    "<script>$(\"div.input:first\").hide();</script>"
   ]
  },
  {
   "cell_type": "markdown",
   "metadata": {},
   "source": [
    "# Advent of Code 2018\n",
    "http://adventofcode.com/2018"
   ]
  },
  {
   "cell_type": "markdown",
   "metadata": {},
   "source": [
    "## Day 1\n",
    "Puzzle input: `input01.txt`\n",
    "### Part 1"
   ]
  },
  {
   "cell_type": "code",
   "execution_count": 1,
   "metadata": {},
   "outputs": [
    {
     "name": "stdout",
     "output_type": "stream",
     "text": [
      "576\n"
     ]
    }
   ],
   "source": [
    "with open('data/input01.txt', 'r') as f:\n",
    "    freq_change = [int(n) for n in f]\n",
    "    \n",
    "print(sum(freq_change))"
   ]
  },
  {
   "cell_type": "markdown",
   "metadata": {},
   "source": [
    "### Part 2"
   ]
  },
  {
   "cell_type": "code",
   "execution_count": 2,
   "metadata": {},
   "outputs": [
    {
     "name": "stdout",
     "output_type": "stream",
     "text": [
      "77674\n"
     ]
    }
   ],
   "source": [
    "last_freq = 0\n",
    "freq_history = set()\n",
    "n = len(freq_change)\n",
    "\n",
    "i = 0\n",
    "while last_freq not in freq_history:\n",
    "    freq_history.add(last_freq)\n",
    "    last_freq += freq_change[i]    \n",
    "    i = (i+1) % n\n",
    "    \n",
    "print(last_freq)"
   ]
  },
  {
   "cell_type": "markdown",
   "metadata": {},
   "source": [
    "## Day 2\n",
    "Puzzle input: `input02.txt`\n",
    "### Part 1"
   ]
  },
  {
   "cell_type": "code",
   "execution_count": 3,
   "metadata": {},
   "outputs": [],
   "source": [
    "with open('data/input02.txt', 'r') as f:\n",
    "    words = [w.strip() for w in f]"
   ]
  },
  {
   "cell_type": "code",
   "execution_count": 4,
   "metadata": {},
   "outputs": [
    {
     "name": "stdout",
     "output_type": "stream",
     "text": [
      "5904\n"
     ]
    }
   ],
   "source": [
    "from collections import Counter\n",
    "\n",
    "twos, threes = 0, 0\n",
    "for w in words:\n",
    "    c = Counter(w)\n",
    "    if 2 in c.values(): twos += 1\n",
    "    if 3 in c.values(): threes += 1\n",
    "        \n",
    "print(twos * threes)"
   ]
  },
  {
   "cell_type": "markdown",
   "metadata": {},
   "source": [
    "### Part 2"
   ]
  },
  {
   "cell_type": "code",
   "execution_count": 5,
   "metadata": {},
   "outputs": [
    {
     "name": "stdout",
     "output_type": "stream",
     "text": [
      "jiwamotgsfrudclzbyzkhlrvp\n"
     ]
    }
   ],
   "source": [
    "from itertools import combinations\n",
    "\n",
    "def diff_count(w1, w2):\n",
    "    return sum(a != b for a,b in zip(w1, w2))\n",
    "\n",
    "def common(w1, w2):\n",
    "    return ''.join(a for a,b in zip(w1, w2) if a == b)\n",
    "\n",
    "for w1, w2 in combinations(words, 2):\n",
    "    if diff_count(w1, w2) == 1: print(common(w1, w2))"
   ]
  },
  {
   "cell_type": "markdown",
   "metadata": {},
   "source": [
    "## Day 3\n",
    "Puzzle input: `input03.txt`\n",
    "### Part 1"
   ]
  },
  {
   "cell_type": "code",
   "execution_count": 6,
   "metadata": {},
   "outputs": [],
   "source": [
    "with open('data/input03.txt', 'r') as f:\n",
    "    claim_raw = [c.strip() for c in f]"
   ]
  },
  {
   "cell_type": "code",
   "execution_count": 7,
   "metadata": {},
   "outputs": [
    {
     "name": "stdout",
     "output_type": "stream",
     "text": [
      "104241\n"
     ]
    }
   ],
   "source": [
    "from collections import defaultdict\n",
    "from re import search\n",
    "\n",
    "claim_regex = r'\\#(\\d+)\\s+\\@\\s+(\\d+),(\\d+)\\:\\s+(\\d+)x(\\d+)'\n",
    "\n",
    "claim_id = defaultdict(set)\n",
    "for c_raw in claim_raw:\n",
    "    c_id, i, j, m, n = (int(g) for g in search(claim_regex, c_raw).groups())\n",
    "    for p in range(i, i+m):\n",
    "        for q in range(j, j+n):\n",
    "            claim_id[(p,q)].add(c_id)\n",
    "            \n",
    "print(sum(len(claims) > 1 for claims in claim_id.values()))"
   ]
  },
  {
   "cell_type": "markdown",
   "metadata": {},
   "source": [
    "### Part 2"
   ]
  },
  {
   "cell_type": "code",
   "execution_count": 8,
   "metadata": {},
   "outputs": [
    {
     "name": "stdout",
     "output_type": "stream",
     "text": [
      "{806}\n"
     ]
    }
   ],
   "source": [
    "claim_set = set.union(*claim_id.values())\n",
    "\n",
    "for position, claims in claim_id.items():\n",
    "    if len(claims) > 1:\n",
    "        claim_set -= claim_id[position]\n",
    "                \n",
    "print(claim_set)"
   ]
  },
  {
   "cell_type": "markdown",
   "metadata": {},
   "source": [
    "## Day 4\n",
    "Puzzle input: `input04.txt`\n",
    "### Part 1"
   ]
  },
  {
   "cell_type": "code",
   "execution_count": 9,
   "metadata": {},
   "outputs": [],
   "source": [
    "with open('data/input04.txt', 'r') as f:\n",
    "    guard_records = [g.strip() for g in f]"
   ]
  },
  {
   "cell_type": "code",
   "execution_count": 10,
   "metadata": {},
   "outputs": [
    {
     "name": "stdout",
     "output_type": "stream",
     "text": [
      "3212\n"
     ]
    }
   ],
   "source": [
    "from datetime import datetime, timedelta\n",
    "\n",
    "guard_regex1 = '\\[.+\\] Guard \\#(\\d+)'\n",
    "guard_regex2 = '\\[(\\d+)\\-(\\d+)\\-(\\d+)\\ (\\d+)\\:(\\d+)\\] (.+) .+'\n",
    "\n",
    "asleep = defaultdict(int)\n",
    "for gr in sorted(guard_records):\n",
    "    try:\n",
    "        curr_guard = int(search(guard_regex1, gr).groups()[-1])\n",
    "    except:\n",
    "        groups = search(guard_regex2, gr).groups()\n",
    "        yr, mo, da, hr, mi = (int(g) for g in groups[:-1])\n",
    "        dt2 = datetime(yr, mo, da, hr, mi)\n",
    "        if 'falls' in groups[-1]: \n",
    "            dt1 = dt2\n",
    "        if 'wakes' in groups[-1]:\n",
    "            dt = dt1\n",
    "            while dt < dt2:\n",
    "                asleep[(curr_guard, dt.minute)] += 1\n",
    "                dt += timedelta(minutes = 1)\n",
    "            dt1 = dt2\n",
    "            \n",
    "best_guard = sorted([\n",
    "    (sum(v for k,v in asleep.items() if k[0] == g), g)\n",
    "    for g in set(k[0] for k in asleep.keys())\n",
    "])[-1][1]\n",
    "\n",
    "best_minute = sorted([\n",
    "    (v,k) for k,v in asleep.items() \n",
    "    if k[0] == best_guard\n",
    "])[-1][1]\n",
    "\n",
    "print(best_minute[0] * best_minute[1])"
   ]
  },
  {
   "cell_type": "markdown",
   "metadata": {},
   "source": [
    "### Part 2"
   ]
  },
  {
   "cell_type": "code",
   "execution_count": 11,
   "metadata": {},
   "outputs": [
    {
     "name": "stdout",
     "output_type": "stream",
     "text": [
      "4966\n"
     ]
    }
   ],
   "source": [
    "best_minute = sorted([(v,k) for k,v in asleep.items()])[-1][1]\n",
    "print(best_minute[0] * best_minute[1])"
   ]
  },
  {
   "cell_type": "markdown",
   "metadata": {},
   "source": [
    "## Day 4: Alternative solution with `pandas`\n",
    "Puzzle input: `input04.txt`\n",
    "### Part 1"
   ]
  },
  {
   "cell_type": "code",
   "execution_count": 12,
   "metadata": {},
   "outputs": [
    {
     "name": "stdout",
     "output_type": "stream",
     "text": [
      "\n",
      "A sample of the processed data:\n"
     ]
    },
    {
     "data": {
      "text/html": [
       "<div>\n",
       "<style scoped>\n",
       "    .dataframe tbody tr th:only-of-type {\n",
       "        vertical-align: middle;\n",
       "    }\n",
       "\n",
       "    .dataframe tbody tr th {\n",
       "        vertical-align: top;\n",
       "    }\n",
       "\n",
       "    .dataframe thead th {\n",
       "        text-align: right;\n",
       "    }\n",
       "</style>\n",
       "<table border=\"1\" class=\"dataframe\">\n",
       "  <thead>\n",
       "    <tr style=\"text-align: right;\">\n",
       "      <th></th>\n",
       "      <th>guard_id</th>\n",
       "      <th>minute</th>\n",
       "      <th>asleep</th>\n",
       "    </tr>\n",
       "  </thead>\n",
       "  <tbody>\n",
       "    <tr>\n",
       "      <th>114</th>\n",
       "      <td>79</td>\n",
       "      <td>54</td>\n",
       "      <td>6</td>\n",
       "    </tr>\n",
       "    <tr>\n",
       "      <th>1035</th>\n",
       "      <td>3109</td>\n",
       "      <td>15</td>\n",
       "      <td>4</td>\n",
       "    </tr>\n",
       "    <tr>\n",
       "      <th>1097</th>\n",
       "      <td>3203</td>\n",
       "      <td>17</td>\n",
       "      <td>0</td>\n",
       "    </tr>\n",
       "    <tr>\n",
       "      <th>653</th>\n",
       "      <td>1811</td>\n",
       "      <td>53</td>\n",
       "      <td>7</td>\n",
       "    </tr>\n",
       "    <tr>\n",
       "      <th>1062</th>\n",
       "      <td>3109</td>\n",
       "      <td>42</td>\n",
       "      <td>5</td>\n",
       "    </tr>\n",
       "    <tr>\n",
       "      <th>251</th>\n",
       "      <td>709</td>\n",
       "      <td>11</td>\n",
       "      <td>7</td>\n",
       "    </tr>\n",
       "    <tr>\n",
       "      <th>844</th>\n",
       "      <td>2591</td>\n",
       "      <td>4</td>\n",
       "      <td>0</td>\n",
       "    </tr>\n",
       "    <tr>\n",
       "      <th>325</th>\n",
       "      <td>863</td>\n",
       "      <td>25</td>\n",
       "      <td>6</td>\n",
       "    </tr>\n",
       "    <tr>\n",
       "      <th>503</th>\n",
       "      <td>1579</td>\n",
       "      <td>23</td>\n",
       "      <td>7</td>\n",
       "    </tr>\n",
       "    <tr>\n",
       "      <th>835</th>\n",
       "      <td>2371</td>\n",
       "      <td>55</td>\n",
       "      <td>5</td>\n",
       "    </tr>\n",
       "  </tbody>\n",
       "</table>\n",
       "</div>"
      ],
      "text/plain": [
       "      guard_id  minute  asleep\n",
       "114         79      54       6\n",
       "1035      3109      15       4\n",
       "1097      3203      17       0\n",
       "653       1811      53       7\n",
       "1062      3109      42       5\n",
       "251        709      11       7\n",
       "844       2591       4       0\n",
       "325        863      25       6\n",
       "503       1579      23       7\n",
       "835       2371      55       5"
      ]
     },
     "execution_count": 12,
     "metadata": {},
     "output_type": "execute_result"
    }
   ],
   "source": [
    "import pandas as pd\n",
    "\n",
    "df = (\n",
    "    pd.read_csv('data/input04.txt', header = None).sort_values(0).iloc[:,0]\n",
    "    .str.extract(r'\\[(\\d+)\\-(\\d+)\\-(\\d+)\\ (\\d+)\\:(\\d+)\\] (.+)')\n",
    ")\n",
    "\n",
    "df['guard_id'] = df[5].str.extract(r'd \\#(\\d+)', expand = False).astype(float)\n",
    "df['date'] = df.iloc[:,:5].astype(int).apply(lambda row: datetime(*row), 1) \n",
    "df['asleep'] = df[5].str.contains('sleep')\n",
    "\n",
    "date_min, date_max = df.date.min(), df.date.max()\n",
    "total_mins = int((date_max - date_min).total_seconds()) // 60\n",
    "\n",
    "df = pd.DataFrame({\n",
    "    'date': [date_min + timedelta(minutes = m) for m in range(total_mins + 1)]\n",
    "}).merge(df, on = 'date', how = 'left')[['guard_id', 'date', 'asleep']]\n",
    "\n",
    "df['minute'] = df.date.apply(lambda dt: dt.minute)\n",
    "\n",
    "df = (\n",
    "    df.drop('date', 1).fillna(method = 'ffill')\n",
    "    .groupby(['guard_id', 'minute'], as_index = False).sum()\n",
    ").astype(int)\n",
    "\n",
    "print('\\nA sample of the processed data:')\n",
    "df.sample(10)"
   ]
  },
  {
   "cell_type": "code",
   "execution_count": 13,
   "metadata": {},
   "outputs": [
    {
     "name": "stdout",
     "output_type": "stream",
     "text": [
      "3212\n"
     ]
    }
   ],
   "source": [
    "best_minute = df[\n",
    "    df.guard_id == df.groupby('guard_id').sum().asleep.idxmax()\n",
    "].sort_values('asleep').iloc[-1]\n",
    "\n",
    "print(int(best_minute.guard_id * best_minute.minute))"
   ]
  },
  {
   "cell_type": "markdown",
   "metadata": {},
   "source": [
    "### Part 2"
   ]
  },
  {
   "cell_type": "code",
   "execution_count": 14,
   "metadata": {},
   "outputs": [
    {
     "name": "stdout",
     "output_type": "stream",
     "text": [
      "4966\n"
     ]
    }
   ],
   "source": [
    "best_minute = df.sort_values('asleep').iloc[-1]\n",
    "print(int(best_minute.guard_id * best_minute.minute))"
   ]
  },
  {
   "cell_type": "markdown",
   "metadata": {},
   "source": [
    "## Day 5\n",
    "Puzzle input: `input05.txt`\n",
    "### Part 1"
   ]
  },
  {
   "cell_type": "code",
   "execution_count": 15,
   "metadata": {},
   "outputs": [],
   "source": [
    "with open('data/input05.txt', 'r') as f:\n",
    "    polymer = f.read().strip()"
   ]
  },
  {
   "cell_type": "code",
   "execution_count": 16,
   "metadata": {},
   "outputs": [
    {
     "name": "stdout",
     "output_type": "stream",
     "text": [
      "9060\n"
     ]
    }
   ],
   "source": [
    "from re import sub\n",
    "\n",
    "units = set(p.lower() for p in polymer)\n",
    "rgx = '|'.join(u + u.upper() + '|'  + u.upper() + u for u in units)\n",
    "\n",
    "def react(p):\n",
    "    result = p\n",
    "    q = ''\n",
    "    while result != q:\n",
    "        q = result\n",
    "        result = sub(rgx, '', q)\n",
    "    return result\n",
    "\n",
    "print(len(react(polymer)))"
   ]
  },
  {
   "cell_type": "markdown",
   "metadata": {},
   "source": [
    "### Part 2"
   ]
  },
  {
   "cell_type": "code",
   "execution_count": 17,
   "metadata": {},
   "outputs": [
    {
     "name": "stdout",
     "output_type": "stream",
     "text": [
      "A length of 6310 is obtained by removing unit o\n",
      "A length of 8652 is obtained by removing unit y\n",
      "A length of 8654 is obtained by removing unit a\n",
      ".\n",
      ".\n",
      ".\n",
      ".\n",
      ".\n",
      "\n",
      "A length of 8732 is obtained by removing unit c\n",
      "A length of 8748 is obtained by removing unit f\n",
      "A length of 8756 is obtained by removing unit k\n"
     ]
    }
   ],
   "source": [
    "altered_lengths = sorted(\n",
    "    (len(react(sub('(?i)' + u, '', polymer))), u) for u in units \n",
    ")\n",
    "for al in altered_lengths[:3]:\n",
    "    print('A length of {} is obtained by removing unit {}'.format(*al))\n",
    "print('.\\n' * 5)\n",
    "for al in altered_lengths[-3:]:\n",
    "    print('A length of {} is obtained by removing unit {}'.format(*al))"
   ]
  }
 ],
 "metadata": {
  "kernelspec": {
   "display_name": "Python [default]",
   "language": "python",
   "name": "python3"
  },
  "language_info": {
   "codemirror_mode": {
    "name": "ipython",
    "version": 3
   },
   "file_extension": ".py",
   "mimetype": "text/x-python",
   "name": "python",
   "nbconvert_exporter": "python",
   "pygments_lexer": "ipython3",
   "version": "3.5.6"
  }
 },
 "nbformat": 4,
 "nbformat_minor": 2
}
