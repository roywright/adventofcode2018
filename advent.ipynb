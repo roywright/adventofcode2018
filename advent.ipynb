{
 "cells": [
  {
   "cell_type": "markdown",
   "metadata": {},
   "source": [
    "# Advent of Code 2018\n",
    "http://adventofcode.com/2018"
   ]
  },
  {
   "cell_type": "markdown",
   "metadata": {},
   "source": [
    "## Day 1\n",
    "Puzzle input: `input01.txt`\n",
    "### Part 1"
   ]
  },
  {
   "cell_type": "code",
   "execution_count": 1,
   "metadata": {},
   "outputs": [
    {
     "name": "stdout",
     "output_type": "stream",
     "text": [
      "576\n"
     ]
    }
   ],
   "source": [
    "with open('data/input01.txt', 'r') as f:\n",
    "    freq_change = [int(n) for n in f]\n",
    "    \n",
    "print(sum(freq_change))"
   ]
  },
  {
   "cell_type": "markdown",
   "metadata": {},
   "source": [
    "### Part 2"
   ]
  },
  {
   "cell_type": "code",
   "execution_count": 2,
   "metadata": {},
   "outputs": [
    {
     "name": "stdout",
     "output_type": "stream",
     "text": [
      "77674\n"
     ]
    }
   ],
   "source": [
    "last_freq = 0\n",
    "freq_history = set()\n",
    "n = len(freq_change)\n",
    "\n",
    "i = 0\n",
    "while last_freq not in freq_history:\n",
    "    freq_history.add(last_freq)\n",
    "    last_freq += freq_change[i]    \n",
    "    i = (i+1) % n\n",
    "    \n",
    "print(last_freq)"
   ]
  },
  {
   "cell_type": "markdown",
   "metadata": {},
   "source": [
    "## Day 2\n",
    "Puzzle input: `input02.txt`\n",
    "### Part 1"
   ]
  },
  {
   "cell_type": "code",
   "execution_count": 3,
   "metadata": {},
   "outputs": [],
   "source": [
    "with open('data/input02.txt', 'r') as f:\n",
    "    words = [w.strip() for w in f]"
   ]
  },
  {
   "cell_type": "code",
   "execution_count": 4,
   "metadata": {},
   "outputs": [
    {
     "name": "stdout",
     "output_type": "stream",
     "text": [
      "5904\n"
     ]
    }
   ],
   "source": [
    "from collections import Counter\n",
    "\n",
    "twos, threes = 0, 0\n",
    "for w in words:\n",
    "    c = Counter(w)\n",
    "    if 2 in c.values(): twos += 1\n",
    "    if 3 in c.values(): threes += 1\n",
    "        \n",
    "print(twos * threes)"
   ]
  },
  {
   "cell_type": "markdown",
   "metadata": {},
   "source": [
    "### Part 2"
   ]
  },
  {
   "cell_type": "code",
   "execution_count": 5,
   "metadata": {},
   "outputs": [
    {
     "name": "stdout",
     "output_type": "stream",
     "text": [
      "jiwamotgsfrudclzbyzkhlrvp\n"
     ]
    }
   ],
   "source": [
    "from itertools import combinations\n",
    "\n",
    "def diff_count(w1, w2):\n",
    "    return sum(a != b for a,b in zip(w1, w2))\n",
    "\n",
    "def common(w1, w2):\n",
    "    return ''.join(a for a,b in zip(w1, w2) if a == b)\n",
    "\n",
    "for w1, w2 in combinations(words, 2):\n",
    "    if diff_count(w1, w2) == 1: print(common(w1, w2))"
   ]
  },
  {
   "cell_type": "markdown",
   "metadata": {},
   "source": [
    "## Day 3\n",
    "Puzzle input: `input03.txt`\n",
    "### Part 1"
   ]
  },
  {
   "cell_type": "code",
   "execution_count": 6,
   "metadata": {},
   "outputs": [],
   "source": [
    "with open('data/input03.txt', 'r') as f:\n",
    "    claim_raw = [c.strip() for c in f]"
   ]
  },
  {
   "cell_type": "code",
   "execution_count": 7,
   "metadata": {},
   "outputs": [
    {
     "name": "stdout",
     "output_type": "stream",
     "text": [
      "104241\n"
     ]
    }
   ],
   "source": [
    "from collections import defaultdict\n",
    "from re import search\n",
    "\n",
    "claim_regex = r'\\#(\\d+)\\s+\\@\\s+(\\d+),(\\d+)\\:\\s+(\\d+)x(\\d+)'\n",
    "\n",
    "claim_id = defaultdict(set)\n",
    "for c_raw in claim_raw:\n",
    "    c_id, i, j, m, n = (int(g) for g in search(claim_regex, c_raw).groups())\n",
    "    for p in range(i, i+m):\n",
    "        for q in range(j, j+n):\n",
    "            claim_id[(p,q)].add(c_id)\n",
    "            \n",
    "print(sum(len(claims) > 1 for claims in claim_id.values()))"
   ]
  },
  {
   "cell_type": "markdown",
   "metadata": {},
   "source": [
    "### Part 2"
   ]
  },
  {
   "cell_type": "code",
   "execution_count": 8,
   "metadata": {},
   "outputs": [
    {
     "name": "stdout",
     "output_type": "stream",
     "text": [
      "{806}\n"
     ]
    }
   ],
   "source": [
    "claim_set = set.union(*claim_id.values())\n",
    "\n",
    "for position, claims in claim_id.items():\n",
    "    if len(claims) > 1:\n",
    "        claim_set -= claim_id[position]\n",
    "                \n",
    "print(claim_set)"
   ]
  },
  {
   "cell_type": "markdown",
   "metadata": {},
   "source": [
    "## Day 4\n",
    "Puzzle input: `input04.txt`\n",
    "### Part 1"
   ]
  },
  {
   "cell_type": "code",
   "execution_count": 9,
   "metadata": {},
   "outputs": [],
   "source": [
    "with open('data/input04.txt', 'r') as f:\n",
    "    guard_records = [g.strip() for g in f]"
   ]
  },
  {
   "cell_type": "code",
   "execution_count": 10,
   "metadata": {},
   "outputs": [
    {
     "name": "stdout",
     "output_type": "stream",
     "text": [
      "3212\n"
     ]
    }
   ],
   "source": [
    "from datetime import datetime, timedelta\n",
    "\n",
    "guard_regex1 = '\\[.+\\] Guard \\#(\\d+)'\n",
    "guard_regex2 = '\\[(\\d+)\\-(\\d+)\\-(\\d+)\\ (\\d+)\\:(\\d+)\\] (.+) .+'\n",
    "\n",
    "asleep = defaultdict(int)\n",
    "for gr in sorted(guard_records):\n",
    "    try:\n",
    "        curr_guard = int(search(guard_regex1, gr).groups()[-1])\n",
    "    except:\n",
    "        groups = search(guard_regex2, gr).groups()\n",
    "        yr, mo, da, hr, mi = (int(g) for g in groups[:-1])\n",
    "        dt2 = datetime(yr, mo, da, hr, mi)\n",
    "        if 'falls' in groups[-1]: \n",
    "            dt1 = dt2\n",
    "        if 'wakes' in groups[-1]:\n",
    "            dt = dt1\n",
    "            while dt < dt2:\n",
    "                asleep[(curr_guard, dt.minute)] += 1\n",
    "                dt += timedelta(minutes = 1)\n",
    "            dt1 = dt2\n",
    "            \n",
    "best_guard = sorted([\n",
    "    (sum(v for k,v in asleep.items() if k[0] == g), g)\n",
    "    for g in set(k[0] for k in asleep.keys())\n",
    "])[-1][1]\n",
    "\n",
    "best_minute = sorted([\n",
    "    (v,k) for k,v in asleep.items() \n",
    "    if k[0] == best_guard\n",
    "])[-1][1]\n",
    "\n",
    "print(best_minute[0] * best_minute[1])"
   ]
  },
  {
   "cell_type": "markdown",
   "metadata": {},
   "source": [
    "### Part 2"
   ]
  },
  {
   "cell_type": "code",
   "execution_count": 11,
   "metadata": {},
   "outputs": [
    {
     "name": "stdout",
     "output_type": "stream",
     "text": [
      "4966\n"
     ]
    }
   ],
   "source": [
    "best_minute = sorted([(v,k) for k,v in asleep.items()])[-1][1]\n",
    "print(best_minute[0] * best_minute[1])"
   ]
  },
  {
   "cell_type": "markdown",
   "metadata": {},
   "source": [
    "## Day 4: Alternative solution with `pandas`\n",
    "Puzzle input: `input04.txt`\n",
    "### Part 1"
   ]
  },
  {
   "cell_type": "code",
   "execution_count": 12,
   "metadata": {},
   "outputs": [
    {
     "name": "stdout",
     "output_type": "stream",
     "text": [
      "\n",
      "A sample of the processed data:\n"
     ]
    },
    {
     "data": {
      "text/html": [
       "<div>\n",
       "<style scoped>\n",
       "    .dataframe tbody tr th:only-of-type {\n",
       "        vertical-align: middle;\n",
       "    }\n",
       "\n",
       "    .dataframe tbody tr th {\n",
       "        vertical-align: top;\n",
       "    }\n",
       "\n",
       "    .dataframe thead th {\n",
       "        text-align: right;\n",
       "    }\n",
       "</style>\n",
       "<table border=\"1\" class=\"dataframe\">\n",
       "  <thead>\n",
       "    <tr style=\"text-align: right;\">\n",
       "      <th></th>\n",
       "      <th>guard_id</th>\n",
       "      <th>minute</th>\n",
       "      <th>asleep</th>\n",
       "    </tr>\n",
       "  </thead>\n",
       "  <tbody>\n",
       "    <tr>\n",
       "      <th>252</th>\n",
       "      <td>709</td>\n",
       "      <td>12</td>\n",
       "      <td>7</td>\n",
       "    </tr>\n",
       "    <tr>\n",
       "      <th>827</th>\n",
       "      <td>2371</td>\n",
       "      <td>47</td>\n",
       "      <td>10</td>\n",
       "    </tr>\n",
       "    <tr>\n",
       "      <th>1377</th>\n",
       "      <td>3391</td>\n",
       "      <td>57</td>\n",
       "      <td>4</td>\n",
       "    </tr>\n",
       "    <tr>\n",
       "      <th>994</th>\n",
       "      <td>2833</td>\n",
       "      <td>34</td>\n",
       "      <td>4</td>\n",
       "    </tr>\n",
       "    <tr>\n",
       "      <th>583</th>\n",
       "      <td>1789</td>\n",
       "      <td>43</td>\n",
       "      <td>6</td>\n",
       "    </tr>\n",
       "    <tr>\n",
       "      <th>59</th>\n",
       "      <td>73</td>\n",
       "      <td>59</td>\n",
       "      <td>0</td>\n",
       "    </tr>\n",
       "    <tr>\n",
       "      <th>596</th>\n",
       "      <td>1789</td>\n",
       "      <td>56</td>\n",
       "      <td>2</td>\n",
       "    </tr>\n",
       "    <tr>\n",
       "      <th>1137</th>\n",
       "      <td>3203</td>\n",
       "      <td>57</td>\n",
       "      <td>0</td>\n",
       "    </tr>\n",
       "    <tr>\n",
       "      <th>462</th>\n",
       "      <td>1217</td>\n",
       "      <td>42</td>\n",
       "      <td>7</td>\n",
       "    </tr>\n",
       "    <tr>\n",
       "      <th>1187</th>\n",
       "      <td>3313</td>\n",
       "      <td>47</td>\n",
       "      <td>6</td>\n",
       "    </tr>\n",
       "  </tbody>\n",
       "</table>\n",
       "</div>"
      ],
      "text/plain": [
       "      guard_id  minute  asleep\n",
       "252        709      12       7\n",
       "827       2371      47      10\n",
       "1377      3391      57       4\n",
       "994       2833      34       4\n",
       "583       1789      43       6\n",
       "59          73      59       0\n",
       "596       1789      56       2\n",
       "1137      3203      57       0\n",
       "462       1217      42       7\n",
       "1187      3313      47       6"
      ]
     },
     "execution_count": 12,
     "metadata": {},
     "output_type": "execute_result"
    }
   ],
   "source": [
    "import pandas as pd\n",
    "\n",
    "df = (\n",
    "    pd.read_csv('data/input04.txt', header = None).sort_values(0).iloc[:,0]\n",
    "    .str.extract(r'\\[(\\d+)\\-(\\d+)\\-(\\d+)\\ (\\d+)\\:(\\d+)\\] (.+)')\n",
    ")\n",
    "\n",
    "df['guard_id'] = df[5].str.extract(r'd \\#(\\d+)', expand = False).astype(float)\n",
    "df['date'] = df.iloc[:,:5].astype(int).apply(lambda row: datetime(*row), 1) \n",
    "df['asleep'] = df[5].str.contains('sleep')\n",
    "\n",
    "date_min, date_max = df.date.min(), df.date.max()\n",
    "total_mins = int((date_max - date_min).total_seconds()) // 60\n",
    "\n",
    "df = pd.DataFrame({\n",
    "    'date': [date_min + timedelta(minutes = m) for m in range(total_mins + 1)]\n",
    "}).merge(df, on = 'date', how = 'left')[['guard_id', 'date', 'asleep']]\n",
    "\n",
    "df['minute'] = df.date.apply(lambda dt: dt.minute)\n",
    "\n",
    "df = (\n",
    "    df.drop('date', 1).fillna(method = 'ffill')\n",
    "    .groupby(['guard_id', 'minute'], as_index = False).sum()\n",
    ").astype(int)\n",
    "\n",
    "print('\\nA sample of the processed data:')\n",
    "df.sample(10)"
   ]
  },
  {
   "cell_type": "code",
   "execution_count": 13,
   "metadata": {},
   "outputs": [
    {
     "name": "stdout",
     "output_type": "stream",
     "text": [
      "3212\n"
     ]
    }
   ],
   "source": [
    "best_minute = df[\n",
    "    df.guard_id == df.groupby('guard_id').sum().asleep.idxmax()\n",
    "].sort_values('asleep').iloc[-1]\n",
    "\n",
    "print(int(best_minute.guard_id * best_minute.minute))"
   ]
  },
  {
   "cell_type": "markdown",
   "metadata": {},
   "source": [
    "### Part 2"
   ]
  },
  {
   "cell_type": "code",
   "execution_count": 14,
   "metadata": {},
   "outputs": [
    {
     "name": "stdout",
     "output_type": "stream",
     "text": [
      "4966\n"
     ]
    }
   ],
   "source": [
    "best_minute = df.sort_values('asleep').iloc[-1]\n",
    "print(int(best_minute.guard_id * best_minute.minute))"
   ]
  },
  {
   "cell_type": "markdown",
   "metadata": {},
   "source": [
    "## Day 5\n",
    "Puzzle input: `input05.txt`\n",
    "### Part 1"
   ]
  },
  {
   "cell_type": "code",
   "execution_count": 15,
   "metadata": {},
   "outputs": [],
   "source": [
    "with open('data/input05.txt', 'r') as f:\n",
    "    polymer = f.read().strip()"
   ]
  },
  {
   "cell_type": "code",
   "execution_count": 16,
   "metadata": {},
   "outputs": [
    {
     "name": "stdout",
     "output_type": "stream",
     "text": [
      "9060\n"
     ]
    }
   ],
   "source": [
    "from re import sub\n",
    "\n",
    "units = set(p.lower() for p in polymer)\n",
    "rgx = '|'.join(u + u.upper() + '|'  + u.upper() + u for u in units)\n",
    "\n",
    "def react(p):\n",
    "    result = p\n",
    "    q = ''\n",
    "    while result != q:\n",
    "        q = result\n",
    "        result = sub(rgx, '', q)\n",
    "    return result\n",
    "\n",
    "print(len(react(polymer)))"
   ]
  },
  {
   "cell_type": "markdown",
   "metadata": {},
   "source": [
    "### Part 2"
   ]
  },
  {
   "cell_type": "code",
   "execution_count": 17,
   "metadata": {},
   "outputs": [
    {
     "name": "stdout",
     "output_type": "stream",
     "text": [
      "A length of 6310 is obtained by removing unit o\n",
      "A length of 8652 is obtained by removing unit y\n",
      "A length of 8654 is obtained by removing unit a\n",
      ".\n",
      ".\n",
      ".\n",
      ".\n",
      ".\n",
      "\n",
      "A length of 8732 is obtained by removing unit c\n",
      "A length of 8748 is obtained by removing unit f\n",
      "A length of 8756 is obtained by removing unit k\n"
     ]
    }
   ],
   "source": [
    "altered_lengths = sorted(\n",
    "    (len(react(sub('(?i)' + u, '', polymer))), u) for u in units \n",
    ")\n",
    "for al in altered_lengths[:3]:\n",
    "    print('A length of {} is obtained by removing unit {}'.format(*al))\n",
    "print('.\\n' * 5)\n",
    "for al in altered_lengths[-3:]:\n",
    "    print('A length of {} is obtained by removing unit {}'.format(*al))"
   ]
  },
  {
   "cell_type": "markdown",
   "metadata": {},
   "source": [
    "## Day 6\n",
    "Puzzle input: `input06.txt`\n",
    "### Part 1"
   ]
  },
  {
   "cell_type": "code",
   "execution_count": 18,
   "metadata": {},
   "outputs": [],
   "source": [
    "with open('data/input06.txt', 'r') as f:\n",
    "    coords = [tuple(int(x) for x in p.strip().split(',')) for p in f]"
   ]
  },
  {
   "cell_type": "code",
   "execution_count": 19,
   "metadata": {},
   "outputs": [
    {
     "name": "stdout",
     "output_type": "stream",
     "text": [
      "3687\n"
     ]
    }
   ],
   "source": [
    "def man_dist(x, y):\n",
    "    return abs(x[0] - y[0]) + abs(x[1] - y[1])\n",
    "\n",
    "closest = {}\n",
    "for i in range(max(x[0] for x in coords) + 2):\n",
    "    for j in range(max(x[1] for x in coords) + 2):\n",
    "        dists = sorted((man_dist(x, (i, j)), x) for x in coords)\n",
    "        if dists[0][0] != dists[1][0]:\n",
    "            closest[(i,j)] = dists[0][1]\n",
    "            \n",
    "infs = set()\n",
    "M1 = max(x[1] for x in coords)\n",
    "for i in range(max(x[0] for x in coords) + 2):\n",
    "    if (i,0) in closest: infs.add(closest[(i, 0)])\n",
    "    if (i,M1) in closest: infs.add(closest[(i, M1 + 1)])\n",
    "\n",
    "M0 = max(x[0] for x in coords)\n",
    "for j in range(max(x[1] for x in coords) + 2):\n",
    "    if (0, j) in closest: infs.add(closest[(0, j)])\n",
    "    if (M0 + 1, j) in closest: infs.add(closest[(M0 + 1, j)])\n",
    "\n",
    "best_a = 0\n",
    "for c in set(coords) - infs:\n",
    "    a = len(set(p for p, c_ in closest.items() if c_ == c))\n",
    "    if a > best_a: best_a = a\n",
    "\n",
    "print(best_a)"
   ]
  },
  {
   "cell_type": "markdown",
   "metadata": {},
   "source": [
    "### Part 2"
   ]
  },
  {
   "cell_type": "code",
   "execution_count": 20,
   "metadata": {},
   "outputs": [
    {
     "name": "stdout",
     "output_type": "stream",
     "text": [
      "40134\n"
     ]
    }
   ],
   "source": [
    "dists = {}\n",
    "m0 = min(x[0] for x in coords)\n",
    "m1 = min(x[1] for x in coords)\n",
    "for i in range(m0 - 200, M0 + 201, 1):    # because 10000 / 50 = 200\n",
    "    for j in range(m1 - 200, M1 + 201, 1):\n",
    "        dists[(i, j)] = sum([man_dist((i, j), x) for x in coords])\n",
    "\n",
    "print(sum(v < 10000 for v in dists.values()))"
   ]
  },
  {
   "cell_type": "markdown",
   "metadata": {},
   "source": [
    "## Day 7\n",
    "Puzzle input: `input07.txt`\n",
    "### Part 1"
   ]
  },
  {
   "cell_type": "code",
   "execution_count": 21,
   "metadata": {},
   "outputs": [],
   "source": [
    "with open('data/input07.txt', 'r') as f:\n",
    "    instr = [i.strip() for i in f]"
   ]
  },
  {
   "cell_type": "code",
   "execution_count": 22,
   "metadata": {},
   "outputs": [
    {
     "name": "stdout",
     "output_type": "stream",
     "text": [
      "DFOQPTELAYRVUMXHKWSGZBCJIN\n"
     ]
    }
   ],
   "source": [
    "links = set(search(r'(.) must be .+ (.) can be', i).groups() for i in instr)\n",
    "\n",
    "steps = set(l[0] for l in links) | set(l[1] for l in links)\n",
    "todo = set(s for s in steps if s not in set(l[1] for l in links))\n",
    "sequence = []\n",
    "\n",
    "while len(todo) > 0:\n",
    "    sequence.append(min(todo))\n",
    "    links = set(l for l in links if l[0] not in sequence)\n",
    "    todo = set(s for s in steps \n",
    "               if s not in set(l[1] for l in links)\n",
    "              and s not in sequence)\n",
    "\n",
    "print(''.join(sequence))"
   ]
  },
  {
   "cell_type": "markdown",
   "metadata": {},
   "source": [
    "### Part 2"
   ]
  },
  {
   "cell_type": "code",
   "execution_count": 23,
   "metadata": {
    "scrolled": true
   },
   "outputs": [
    {
     "name": "stdout",
     "output_type": "stream",
     "text": [
      "1036\n"
     ]
    }
   ],
   "source": [
    "links = set(search(r'(.) must be .+ (.) can be', i).groups() for i in instr)\n",
    "\n",
    "def time_req(s):\n",
    "    return ord(s) - 4\n",
    "\n",
    "sequence = []\n",
    "time_elapsed = -1\n",
    "worker_time = [1] * 5\n",
    "worker_letters = [''] * 5\n",
    "\n",
    "while max(worker_time) > 0 or len(sequence) < len(steps):\n",
    "    \n",
    "    for i in range(5): \n",
    "        worker_time[i] = max(worker_time[i] - 1, 0)    \n",
    "    \n",
    "    seq_done = []\n",
    "    while 0 in worker_time:\n",
    "        idx = worker_time.index(0)\n",
    "        if worker_letters[idx] != '':\n",
    "            seq_done.append(worker_letters[idx])\n",
    "            \n",
    "        links = set(l for l in links if l[0] not in sequence + seq_done)\n",
    "        \n",
    "        todo = set(s for s in steps \n",
    "                   if s not in set(l[1] for l in links)\n",
    "                   and s not in sequence + seq_done + worker_letters)  \n",
    "        \n",
    "        if len(todo) > 0:\n",
    "            worker_letters[idx] = min(todo)\n",
    "            worker_time[idx] = time_req(min(todo))\n",
    "        else:\n",
    "            worker_letters[idx] = '' \n",
    "            worker_time, worker_letters = (\n",
    "                list(w) for w in \n",
    "                zip(*sorted(zip(worker_time, worker_letters))[::-1])\n",
    "            )\n",
    "            break\n",
    "    sequence += sorted(seq_done)\n",
    "    time_elapsed += 1\n",
    "    \n",
    "print(time_elapsed)\n"
   ]
  },
  {
   "cell_type": "markdown",
   "metadata": {},
   "source": [
    "## Day 8\n",
    "Puzzle input: `input08.txt`\n",
    "### Part 1"
   ]
  },
  {
   "cell_type": "code",
   "execution_count": 24,
   "metadata": {},
   "outputs": [],
   "source": [
    "with open('data/input08.txt', 'r') as f:\n",
    "    inp = [int(i) for i in f.readline().split(' ')]"
   ]
  },
  {
   "cell_type": "code",
   "execution_count": 25,
   "metadata": {},
   "outputs": [
    {
     "name": "stdout",
     "output_type": "stream",
     "text": [
      "49180\n"
     ]
    }
   ],
   "source": [
    "nodes = dict()\n",
    "i = 0\n",
    "nn = [0]\n",
    "pn = [-1]\n",
    "mnn = 0\n",
    "child_count = [inp[i]]\n",
    "meta_count = [inp[i+1]]\n",
    "i += 2\n",
    "while len(child_count) > 0:\n",
    "    while child_count[-1] > 0:\n",
    "        pn.append(nn[-1])\n",
    "        nn.append(mnn + 1)\n",
    "        mnn += 1\n",
    "        child_count.append(inp[i])\n",
    "        meta_count.append(inp[i+1])\n",
    "        i += 2\n",
    "    \n",
    "    nodes[nn[-1]] = (pn[-1], inp[i:i+meta_count[-1]])\n",
    "    i += meta_count[-1]\n",
    "    child_count.pop()\n",
    "    if len(child_count) == 0:\n",
    "        break\n",
    "    meta_count.pop()\n",
    "    nn.pop()\n",
    "    pn.pop()\n",
    "    child_count[-1] -= 1\n",
    "    \n",
    "    # There's gotta be a cleaner way than this WTF\n",
    "    while child_count == 0:\n",
    "        nodes[nn[-1]] = (pn[-1], inp[i:i+meta_count[-1]])\n",
    "        i += meta_count[-1]\n",
    "        child_count.pop()\n",
    "        if len(child_count) == 0:\n",
    "            break\n",
    "        meta_count.pop()\n",
    "        nn.pop()\n",
    "        pn.pop()\n",
    "        child_count[-1] -= 1        \n",
    "        \n",
    "print(sum(sum(v[1]) for v in nodes.values()))        "
   ]
  },
  {
   "cell_type": "markdown",
   "metadata": {},
   "source": [
    "### Part 2"
   ]
  },
  {
   "cell_type": "code",
   "execution_count": 26,
   "metadata": {},
   "outputs": [
    {
     "name": "stdout",
     "output_type": "stream",
     "text": [
      "20611\n"
     ]
    }
   ],
   "source": [
    "children = defaultdict(list)\n",
    "for k,v in nodes.items():\n",
    "    children[v[0]].append(k)\n",
    "\n",
    "weighted_children = defaultdict(list)\n",
    "for k,val in children.items():\n",
    "    if k == -1: continue\n",
    "    sv = sorted(val)\n",
    "    for i in nodes[k][1]:\n",
    "        try:\n",
    "            weighted_children[k].append(sv[i-1])\n",
    "        except:\n",
    "            pass\n",
    "\n",
    "leaves = set(nodes) - set(v[0] for v in nodes.values())\n",
    "def weight(n):\n",
    "    if n in leaves:\n",
    "        return sum(nodes[n][1])\n",
    "    return sum(weight(m) for m in weighted_children[n])\n",
    "\n",
    "print(weight(0))"
   ]
  },
  {
   "cell_type": "markdown",
   "metadata": {},
   "source": [
    "## Day 9\n",
    "Puzzle input: `448 players; last marble is worth 71628 points`\n",
    "### Part 1"
   ]
  },
  {
   "cell_type": "code",
   "execution_count": 27,
   "metadata": {},
   "outputs": [],
   "source": [
    "player_count = 448\n",
    "last_marble_val = 71628"
   ]
  },
  {
   "cell_type": "code",
   "execution_count": 28,
   "metadata": {
    "scrolled": true
   },
   "outputs": [
    {
     "name": "stdout",
     "output_type": "stream",
     "text": [
      "394486\n"
     ]
    }
   ],
   "source": [
    "curr_player = -1\n",
    "scores = [0] * player_count\n",
    "circle = [0]\n",
    "curr_pos = 0\n",
    "for curr_marble in range(1, last_marble_val):\n",
    "    curr_player = (curr_player + 1) % player_count\n",
    "    if curr_marble % 23 > 0:\n",
    "        curr_pos = (curr_pos + 2) % len(circle)\n",
    "        circle.insert(curr_pos, curr_marble)\n",
    "    else:\n",
    "        scores[curr_player] += curr_marble\n",
    "        curr_pos = (curr_pos - 7) % len(circle)\n",
    "        scores[curr_player] += circle.pop(curr_pos) \n",
    "\n",
    "print(max(scores))"
   ]
  },
  {
   "cell_type": "markdown",
   "metadata": {},
   "source": [
    "### Part 2"
   ]
  },
  {
   "cell_type": "code",
   "execution_count": 29,
   "metadata": {},
   "outputs": [],
   "source": [
    "from collections import deque  # pulling out the big guns :o\n",
    "last_marble_val *= 100"
   ]
  },
  {
   "cell_type": "code",
   "execution_count": 30,
   "metadata": {
    "scrolled": true
   },
   "outputs": [
    {
     "name": "stdout",
     "output_type": "stream",
     "text": [
      "3276488008\n"
     ]
    }
   ],
   "source": [
    "curr_player = -1\n",
    "scores = [0] * player_count\n",
    "circle = deque([0], last_marble_val)\n",
    "for curr_marble in range(1, last_marble_val):\n",
    "    curr_player = (curr_player + 1) % player_count\n",
    "    if curr_marble % 23 > 0:\n",
    "        circle.rotate(2)\n",
    "        circle.append(curr_marble)\n",
    "    else:\n",
    "        circle.rotate(-7)\n",
    "        scores[curr_player] += curr_marble + circle.pop()\n",
    "\n",
    "print(max(scores))"
   ]
  },
  {
   "cell_type": "markdown",
   "metadata": {},
   "source": [
    "## Day 10\n",
    "Puzzle input: `input10.txt`\n",
    "### Part 1"
   ]
  },
  {
   "cell_type": "code",
   "execution_count": 31,
   "metadata": {},
   "outputs": [],
   "source": [
    "with open('data/input10.txt', 'r') as f:\n",
    "    points = [p.strip() for p in f]"
   ]
  },
  {
   "cell_type": "code",
   "execution_count": 32,
   "metadata": {},
   "outputs": [],
   "source": [
    "x, y, vx, vy = [], [], [], []\n",
    "for p in points:\n",
    "    new = search(r'.+\\<(.+),(.+)\\>.+<(.+),(.+)\\>', p).groups()\n",
    "    x.append(int(new[0]))\n",
    "    y.append(int(new[1]))\n",
    "    vx.append(int(new[2]))\n",
    "    vy.append(int(new[3]))"
   ]
  },
  {
   "cell_type": "code",
   "execution_count": 33,
   "metadata": {},
   "outputs": [
    {
     "data": {
      "image/png": "[encoded data removed]",
      "text/plain": [
       "<matplotlib.figure.Figure at 0x27f36764710>"
      ]
     },
     "metadata": {},
     "output_type": "display_data"
    }
   ],
   "source": [
    "import matplotlib.pyplot as plt\n",
    "import numpy as np\n",
    "%matplotlib inline\n",
    "plt.rcParams['figure.figsize'] = 10, 2\n",
    "\n",
    "x_diversity = [len(set(np.array(x) + t*np.array(vx))) for t in range(100000)]\n",
    "t = x_diversity.index(min(x_diversity))    \n",
    "\n",
    "plt.scatter(\n",
    "    np.array(x) + t*np.array(vx),\n",
    "  -(np.array(y) + t*np.array(vy)),\n",
    "    marker  = 's',  s = 100\n",
    ")\n",
    "plt.xticks([]), plt.yticks([])\n",
    "plt.show()"
   ]
  },
  {
   "cell_type": "markdown",
   "metadata": {},
   "source": [
    "### Part 2"
   ]
  },
  {
   "cell_type": "code",
   "execution_count": 34,
   "metadata": {
    "scrolled": true
   },
   "outputs": [
    {
     "name": "stdout",
     "output_type": "stream",
     "text": [
      "10027\n"
     ]
    }
   ],
   "source": [
    "print(t)"
   ]
  },
  {
   "cell_type": "markdown",
   "metadata": {},
   "source": [
    "## Day 11: My original, much-too-slow solution\n",
    "Puzzle input: `8868`\n",
    "### Part 1"
   ]
  },
  {
   "cell_type": "code",
   "execution_count": 35,
   "metadata": {},
   "outputs": [],
   "source": [
    "serial_no = 8868"
   ]
  },
  {
   "cell_type": "code",
   "execution_count": 36,
   "metadata": {},
   "outputs": [
    {
     "name": "stdout",
     "output_type": "stream",
     "text": [
      "[(241, 40)]\n",
      "Wall time: 671 ms\n"
     ]
    }
   ],
   "source": [
    "%%time\n",
    "power_level = {}\n",
    "for x in range(1,301):\n",
    "    for y in range(1,301):\n",
    "        power_level[(x,y)] = (((x+10)*y + serial_no)*(x+10) // 100) % 10 - 5\n",
    "\n",
    "total_power = defaultdict(int)\n",
    "for x in range(1,299):\n",
    "    for y in range(1,299):\n",
    "        for i in range(3):\n",
    "            for j in range(3):\n",
    "                total_power[(x,y)] += power_level[(x+i,y+j)]\n",
    "\n",
    "mp = max(total_power.values())\n",
    "print([k for k,v in total_power.items() if v == mp])"
   ]
  },
  {
   "cell_type": "markdown",
   "metadata": {},
   "source": [
    "### Part 2"
   ]
  },
  {
   "cell_type": "code",
   "execution_count": 37,
   "metadata": {},
   "outputs": [
    {
     "name": "stdout",
     "output_type": "stream",
     "text": [
      "[(166, 75, 12)]\n",
      "Wall time: 13min 11s\n"
     ]
    }
   ],
   "source": [
    "%%time\n",
    "total_power = defaultdict(int)\n",
    "for sqs in range(1,301):\n",
    "    for x in range(1,301-sqs+1):\n",
    "        for y in range(1,301-sqs+1):\n",
    "            total_power[(x,y,sqs)] = total_power[(x,y,sqs-1)]\n",
    "            for i in range(sqs):\n",
    "                total_power[(x,y,sqs)] += power_level[(x+i,y+sqs-1)]\n",
    "            for j in range(sqs-1):\n",
    "                total_power[(x,y,sqs)] += power_level[(x+sqs-1,y+j)]\n",
    "\n",
    "mp = max(total_power.values())\n",
    "print([k for k,v in total_power.items() if v == mp])"
   ]
  },
  {
   "cell_type": "markdown",
   "metadata": {},
   "source": [
    "## Day 11: Faster solution with `numpy`\n",
    "### Part 1"
   ]
  },
  {
   "cell_type": "code",
   "execution_count": 38,
   "metadata": {},
   "outputs": [],
   "source": [
    "serial_no = 8868"
   ]
  },
  {
   "cell_type": "code",
   "execution_count": 39,
   "metadata": {},
   "outputs": [
    {
     "name": "stdout",
     "output_type": "stream",
     "text": [
      "[(241, 40)]\n",
      "Wall time: 874 ms\n"
     ]
    }
   ],
   "source": [
    "%%time\n",
    "power_level = np.zeros((301,301))\n",
    "\n",
    "for x in range(1,301):  # note: not converting problem to zero-indexed\n",
    "    for y in range(1,301):\n",
    "        power_level[x,y] = (((x+10)*y + serial_no)*(x+10) // 100) % 10 - 5\n",
    "\n",
    "total_power = defaultdict(int)\n",
    "for x in range(1,299):\n",
    "    for y in range(1,299):\n",
    "        total_power[(x,y)] += np.sum(power_level[x:x+3,y:y+3])\n",
    "\n",
    "mp = max(total_power.values())\n",
    "print([k for k,v in total_power.items() if v == mp])"
   ]
  },
  {
   "cell_type": "markdown",
   "metadata": {},
   "source": [
    "### Part 2"
   ]
  },
  {
   "cell_type": "code",
   "execution_count": 40,
   "metadata": {},
   "outputs": [
    {
     "name": "stdout",
     "output_type": "stream",
     "text": [
      "[(166, 75, 12)]\n",
      "Wall time: 2min 16s\n"
     ]
    }
   ],
   "source": [
    "%%time\n",
    "total_power = defaultdict(int)\n",
    "for sqs in range(1,301):\n",
    "    for x in range(1,301-sqs+1):\n",
    "        for y in range(1,301-sqs+1):\n",
    "            total_power[(x,y,sqs)] = (\n",
    "                total_power[(x,y,sqs-1)]\n",
    "                + np.sum(power_level[x:x+sqs,y+sqs-1]) \n",
    "                + np.sum(power_level[x+sqs-1,y:y+sqs-1])\n",
    "            )\n",
    "\n",
    "mp = max(total_power.values())\n",
    "print([k for k,v in total_power.items() if v == mp])"
   ]
  },
  {
   "cell_type": "markdown",
   "metadata": {},
   "source": [
    "## Day 12\n",
    "Puzzle input: `input12.txt`\n",
    "### Part 1"
   ]
  },
  {
   "cell_type": "code",
   "execution_count": 41,
   "metadata": {},
   "outputs": [],
   "source": [
    "with open('data/input12.txt', 'r') as f:\n",
    "    lines = [l.strip() for l in f]"
   ]
  },
  {
   "cell_type": "code",
   "execution_count": 42,
   "metadata": {},
   "outputs": [
    {
     "name": "stdout",
     "output_type": "stream",
     "text": [
      "3059\n"
     ]
    }
   ],
   "source": [
    "pots = defaultdict(lambda: '.')\n",
    "for i,c in enumerate(lines[0].replace('initial state: ','').strip()):\n",
    "    pots[i] = c\n",
    "\n",
    "rules = defaultdict(lambda: '.')\n",
    "for k,v in [l.strip().split(' => ') for l in lines[2:]]:\n",
    "    rules[k] = v\n",
    "    \n",
    "def next_step(i, pots):\n",
    "    key = ''.join(pots[k] for k in range(i-2,i+3))\n",
    "    return rules[key]\n",
    "\n",
    "for gen in range(20):\n",
    "    new_pots = pots.copy()\n",
    "    for i in range(min(pots.keys()) - 1, max(pots.keys()) + 2):\n",
    "        new_pots[i] = next_step(i, pots)\n",
    "    pots = new_pots.copy()\n",
    "    \n",
    "print(sum(k for k,v in pots.items() if v == '#'))"
   ]
  },
  {
   "cell_type": "markdown",
   "metadata": {},
   "source": [
    "### Part 2"
   ]
  },
  {
   "cell_type": "code",
   "execution_count": 43,
   "metadata": {},
   "outputs": [
    {
     "name": "stdout",
     "output_type": "stream",
     "text": [
      "3650000001776\n"
     ]
    }
   ],
   "source": [
    "gens, sums = [], []\n",
    "for gen in range(20, 500):\n",
    "    new_pots = pots.copy()\n",
    "    for i in range(min(pots.keys()) - 1, max(pots.keys()) + 2):\n",
    "        new_pots[i] = next_step(i, pots)\n",
    "    pots = new_pots.copy()\n",
    "    if (gen+1) % 100 == 0:\n",
    "        gens.append(gen+1)\n",
    "        sums.append(sum(k for k,v in pots.items() if v == '#'))\n",
    "\n",
    "# Use point-slope form to extapolate (LOL!): y = m(x - x0) + y0\n",
    "m = (sums[-1] - sums[-2]) / (gens[-1] - gens[-2])\n",
    "print(int(m*(50000000000 - gens[-2]) + sums[-2]))"
   ]
  },
  {
   "cell_type": "markdown",
   "metadata": {},
   "source": [
    "## Day 13\n",
    "Puzzle input: `input13.txt`\n",
    "### Parts 1 & 2"
   ]
  },
  {
   "cell_type": "code",
   "execution_count": 44,
   "metadata": {},
   "outputs": [],
   "source": [
    "with open('data/input13.txt', 'r') as f:\n",
    "    track = [list(t) for t in f]\n",
    "assert len(set(len(t) for t in track)) == 1"
   ]
  },
  {
   "cell_type": "code",
   "execution_count": 45,
   "metadata": {},
   "outputs": [],
   "source": [
    "cars = []\n",
    "orig_track = []\n",
    "\n",
    "for t in track: \n",
    "    orig_track.append([])\n",
    "    for c in t:\n",
    "        orig_track[-1].append(c)\n",
    "        \n",
    "for i in range(len(track)):\n",
    "    for j in range(len(track[0])):\n",
    "        if track[i][j] in ['<','>','v','^']:\n",
    "            cars.append((i,j,'L'))\n",
    "            if track[i][j] in ['<','>']:\n",
    "                orig_track[i][j] = '-'\n",
    "            else:\n",
    "                orig_track[i][j] = '|'\n",
    "                \n",
    "cars = sorted(cars)"
   ]
  },
  {
   "cell_type": "code",
   "execution_count": 46,
   "metadata": {},
   "outputs": [
    {
     "name": "stdout",
     "output_type": "stream",
     "text": [
      "Crash at 26,92\n",
      "Crash at 75,73\n",
      "Crash at 113,72\n",
      "Crash at 26,100\n",
      "Crash at 68,6\n",
      "Crash at 23,69\n",
      "Crash at 26,103\n",
      "Crash at 84,37\n",
      "\n",
      "Location of the last cart: 86,18\n"
     ]
    }
   ],
   "source": [
    "turn = {'R': 'L', 'L': 'F', 'F': 'R'}\n",
    "\n",
    "move = {'>': (0,1), '<': (0,-1), 'v': (1,0), '^': (-1,0)}\n",
    "\n",
    "new_dir = {('>','R'): 'v', ('>','L'): '^', ('>','F'): '>',\n",
    "           ('v','R'): '<', ('v','L'): '>', ('v','F'): 'v',\n",
    "           ('^','R'): '>', ('^','L'): '<', ('^','F'): '^',\n",
    "           ('<','R'): '^', ('<','L'): 'v', ('<','F'): '<'}\n",
    "\n",
    "slash = {'>': '^', '<': 'v', 'v': '<', '^': '>'}\n",
    "bslash = {'>': 'v', '<': '^', 'v': '>', '^': '<'}\n",
    "\n",
    "while len(cars) > 1:\n",
    "\n",
    "    k = 0\n",
    "    while k < len(cars):\n",
    "        i,j,t = cars[k]\n",
    "\n",
    "        di,dj = move[track[i][j]]\n",
    "        track[i+di][j+dj] = track[i][j]\n",
    "        track[i][j] = orig_track[i][j]\n",
    "        \n",
    "        if orig_track[i+di][j+dj] == '+':\n",
    "            track[i+di][j+dj] = new_dir[(track[i+di][j+dj], t)]\n",
    "            cars[k] = (i+di,j+dj,turn[t])\n",
    "        else:\n",
    "            cars[k] = (i+di,j+dj,t)            \n",
    "            if orig_track[i+di][j+dj] == '/':\n",
    "                track[i+di][j+dj] = slash[track[i+di][j+dj]]\n",
    "            if orig_track[i+di][j+dj] == '\\\\':\n",
    "                track[i+di][j+dj] = bslash[track[i+di][j+dj]]\n",
    "\n",
    "        crashed = [key for key,val in Counter(c[:2] for c in cars).items() \n",
    "                   if val > 1]     \n",
    "        \n",
    "        if len(crashed) > 0:\n",
    "            for ir,jr in crashed:\n",
    "                print('Crash at %d,%d' % (jr,ir))\n",
    "                cut_cnt = sum(c[:2] == (ir,jr) and kr <= k \n",
    "                             for kr, c in enumerate(cars))\n",
    "                track[ir][jr] = orig_track[ir][jr]\n",
    "                cars = [c for c in cars if c[:2] != (ir,jr)]\n",
    "                k += 1 - cut_cnt\n",
    "        else:\n",
    "            k += 1    \n",
    "        \n",
    "    cars = sorted(cars)\n",
    "\n",
    "print('\\nLocation of the last cart: %d,%d' % cars[0][1::-1])"
   ]
  },
  {
   "cell_type": "markdown",
   "metadata": {},
   "source": [
    "## Day 14\n",
    "Puzzle input: `327901`\n",
    "### Part 1"
   ]
  },
  {
   "cell_type": "code",
   "execution_count": 47,
   "metadata": {},
   "outputs": [],
   "source": [
    "num_recipes = 327901\n",
    "elf1, elf2 = 3, 7\n",
    "recipes = [elf1, elf2]\n",
    "elf1_pos, elf2_pos = 0, 1"
   ]
  },
  {
   "cell_type": "code",
   "execution_count": 48,
   "metadata": {},
   "outputs": [
    {
     "name": "stdout",
     "output_type": "stream",
     "text": [
      "1115317115\n"
     ]
    }
   ],
   "source": [
    "while len(recipes) < num_recipes + 10:\n",
    "    recipes += [int(d) for d in str(elf1 + elf2)]\n",
    "    elf1_pos = (elf1_pos + elf1 + 1) % len(recipes)\n",
    "    elf2_pos = (elf2_pos + elf2 + 1) % len(recipes)\n",
    "    elf1 = recipes[elf1_pos]\n",
    "    elf2 = recipes[elf2_pos]\n",
    "    \n",
    "print(''.join(str(i) for i in recipes[num_recipes:num_recipes + 10]))"
   ]
  },
  {
   "cell_type": "markdown",
   "metadata": {},
   "source": [
    "### Part 2"
   ]
  },
  {
   "cell_type": "code",
   "execution_count": 49,
   "metadata": {},
   "outputs": [],
   "source": [
    "num_recipes = str(num_recipes)\n",
    "elf1, elf2 = 3, 7\n",
    "recipes = [elf1, elf2]\n",
    "elf1_pos, elf2_pos = 0, 1\n",
    "recipe_str = str(elf1) + str(elf2)"
   ]
  },
  {
   "cell_type": "code",
   "execution_count": 50,
   "metadata": {},
   "outputs": [
    {
     "name": "stdout",
     "output_type": "stream",
     "text": [
      "20229822\n"
     ]
    }
   ],
   "source": [
    "nl = len(num_recipes)\n",
    "while recipe_str.find(num_recipes, len(recipes) - nl - 3) < 0:\n",
    "    recipes += [int(d) for d in str(elf1 + elf2)]\n",
    "    recipe_str += str(elf1 + elf2)\n",
    "    elf1_pos = (elf1_pos + elf1 + 1) % len(recipes)\n",
    "    elf2_pos = (elf2_pos + elf2 + 1) % len(recipes)\n",
    "    elf1 = recipes[elf1_pos]\n",
    "    elf2 = recipes[elf2_pos]\n",
    "\n",
    "print(recipe_str.find(num_recipes, len(recipes) - nl - 3))"
   ]
  },
  {
   "cell_type": "markdown",
   "metadata": {},
   "source": [
    "## Day 15\n",
    "Puzzle input: `input15.txt`\n",
    "\n",
    "**NOTE**: My original solution required no imports and correctly solved all the provided test cases, but it could not scale to the size of the main task. The solution below uses the [`dijkstar` package](https://pypi.org/project/Dijkstar/), which I don't have any previous experience with.\n",
    "\n",
    "### Part 1"
   ]
  },
  {
   "cell_type": "code",
   "execution_count": 51,
   "metadata": {},
   "outputs": [],
   "source": [
    "from dijkstar import Graph, find_path, NoPathError \n",
    "from itertools import product\n",
    "from IPython.display import clear_output   # for animation\n",
    "from time import sleep   "
   ]
  },
  {
   "cell_type": "code",
   "execution_count": 52,
   "metadata": {},
   "outputs": [],
   "source": [
    "with open('data/input15.txt', 'r') as f:\n",
    "    cave = [list(l.strip()) for l in f]\n",
    "assert len(set(len(c) for c in cave)) == 1\n",
    "    \n",
    "hp = [[200 if c in ('E', 'G') else 0 for c in l] for l in cave]\n",
    "\n",
    "def dist(p, q):\n",
    "    return abs(p[0] - q[0]) + abs(p[1] - q[1])\n",
    "\n",
    "graph = Graph()\n",
    "for i,j,k,l in product(range(len(cave)), range(len(cave[0])), repeat = 2):\n",
    "    if cave[i][j] == '#' or cave[k][l] == '#' or dist((i,j),(k,l)) != 1: \n",
    "        continue\n",
    "    graph.add_edge((i,j), (k,l))"
   ]
  },
  {
   "cell_type": "code",
   "execution_count": 53,
   "metadata": {},
   "outputs": [],
   "source": [
    "def cave_print(cave):\n",
    "    print('\\n'.join(' '.join(c) for c in cave))\n",
    "\n",
    "def curr_graph(cave):\n",
    "    ret_graph = Graph(graph)\n",
    "    for i,j in product(range(len(cave)), range(len(cave[0]))):\n",
    "        if cave[i][j] in ('E', 'G'):\n",
    "            ret_graph.pop((i,j))\n",
    "    return ret_graph\n",
    "\n",
    "def adjacent(i, j, cave):\n",
    "    return [(k,l) for k,l in ((i-1,j),(i,j-1),(i,j+1),(i+1,j)) \n",
    "            if cave[k][l] == '.']\n",
    "\n",
    "def get_pd_func(cave):\n",
    "    cg = curr_graph(cave)\n",
    "    \n",
    "    def path_dist(p, q):\n",
    "        try:\n",
    "            return len(\n",
    "                find_path(cg, p, q, cost_func = lambda *args: 1).nodes\n",
    "            ) - 1\n",
    "        except NoPathError:\n",
    "            return float('inf')\n",
    "        \n",
    "    return path_dist\n",
    "    \n",
    "def get_locs(chars, cave):\n",
    "    return [(k,l) for k,l in product(range(len(cave)), range(len(cave[0]))) \n",
    "            if cave[k][l] in chars]\n",
    "\n",
    "def move(i, j, cave):\n",
    "    if cave[i][j] == 'E': targchar = 'G'\n",
    "    else: targchar = 'E'\n",
    "\n",
    "    path_dist = get_pd_func(cave)\n",
    "    \n",
    "    if min(dist((i,j), (k,l)) for k,l in get_locs(targchar, cave)) == 1:\n",
    "        return None\n",
    "    \n",
    "    poss = []\n",
    "    for i1, j1 in adjacent(i, j, cave):\n",
    "        for k1, l1 in set.union(*[set(adjacent(k, l, cave))\n",
    "                                  for k, l in get_locs(targchar, cave)]):\n",
    "            poss.append((path_dist((i1, j1), (k1, l1)), \n",
    "                         (k1, l1), (i1, j1)))\n",
    "            \n",
    "    poss = sorted(poss)\n",
    "    if len(poss) == 0 or poss[0][0] == float('inf'): return None\n",
    "    return poss[0][-1]\n",
    "        \n",
    "def game_over_man(cave):\n",
    "    return len(set.union(*[set(c) for c in cave]) & {'E', 'G'}) < 2\n",
    "\n",
    "def action(i, j, cave):\n",
    "    if cave[i][j] not in ('E', 'G'): return None\n",
    "    if game_over_man(cave): return None\n",
    "\n",
    "    if cave[i][j] == 'E': targchar = 'G'\n",
    "    else: targchar = 'E'\n",
    "    \n",
    "    m = move(i, j, cave)\n",
    "    \n",
    "    if m is not None:\n",
    "        i1, j1 = m\n",
    "        cave[i1][j1] = cave[i][j]\n",
    "        hp[i1][j1] = hp[i][j]\n",
    "        cave[i][j] = '.'\n",
    "        hp[i][j] = 0        \n",
    "        i, j = i1, j1\n",
    "        \n",
    "    opponents = [(k,l) for k,l in [(i-1,j), (i,j-1), (i,j+1), (i+1,j)] \n",
    "                 if cave[k][l] == targchar]\n",
    "\n",
    "    if len(opponents) > 0:\n",
    "        k,l = sorted(opponents, key = lambda x: (hp[x[0]][x[1]], x))[0]\n",
    "        hp[k][l] -= 3\n",
    "        if hp[k][l] <= 0: \n",
    "            cave[k][l] = '.'\n",
    "            hp[k][l] = 0\n",
    "            \n",
    "    return (i,j)"
   ]
  },
  {
   "cell_type": "code",
   "execution_count": 54,
   "metadata": {},
   "outputs": [
    {
     "name": "stdout",
     "output_type": "stream",
     "text": [
      "After round 105\n",
      "# # # # # # # # # # # # # # # # # # # # # # # # # # # # # # # #\n",
      "# # # # # # # # # . # # # # # # # # # # # # # # # # # # # # # #\n",
      "# # # # # # # # # . . # # # # # # # # # # # # # # # # # # # # #\n",
      "# # # # # # # # # . . . # # # # # # # # # # # # # # # # # # # #\n",
      "# # # # # # # # . . . . # . . # # # # # # # # # # # # # # # # #\n",
      "# # # # # # # # . . . . . . . # # # # # # # # # # # # # # # # #\n",
      "# # # # # # # # . . . . . . . . # # # # # # # # # # # # # # # #\n",
      "# # # . # # # # . . . # . . . . # # # # # # # # # # # # # # # #\n",
      "# . . . . # # # . # # # . . . . . # # # # # # # # # # # # # # #\n",
      "# # . . . . . . # # # # . . . . . # . # . . . # . # # # # # # #\n",
      "# # # . . . . . . # # # . . . . . . . . . # . . . # # # # # # #\n",
      "# # # . . . . . . # # . . . . . . . . . . . # # # # # # # # # #\n",
      "# . . . . . . . . . . . . . # # # # # . . G # # # # # # # # # #\n",
      "# . . . # # . . . . . . . # # # # # # # . . # # # # # # # # # #\n",
      "# . . . # . . . . . . . # # # # # # # # # . . # # # # # # # # #\n",
      "# # # # . . . . . . . . # # # # # # # # # . . . # . # # # # # #\n",
      "# . . . . . . . . . . . # # # # # # # # # . . . . . . . . . . #\n",
      "# # . # . . . . . # . . # # # # # # # # # . . . . . . . . . . #\n",
      "# # . # # # . . G . . G # # # # # # # # # . . . . . . . . . . #\n",
      "# # . . . . . . . . . . G # # # # # # # . . # . . . . . . . # #\n",
      "# . . . . . . . . . . . G . # # # # # . G . . . . . . . . # # #\n",
      "# . . . . # . . . G . G . G . . . . . G . . . . . . . . # # # #\n",
      "# # . . . . . . . G . . G . . # # . . . . . . . . . . . . . # #\n",
      "# . . . . G . . . . G . G . . G . . . . . . . . . # # # . . # #\n",
      "# . . . . . . . . G . . . . . # . . . . . . . . . # # # . . # #\n",
      "# . . # # . # # . . . . . . . # # . . . . . . . . # # # . # # #\n",
      "# # # . . . # # . . . . . . . # # # . # # # . . . # # . . . # #\n",
      "# # # # # . . # # . . . . . . # # # # # # . . . . . # . . # # #\n",
      "# # # # . . . # # # . . # . . # # # # # # # . . . . . . . # # #\n",
      "# # # # . . . # # # # # # # # # # # # # # # . # # # # # # # # #\n",
      "# # # # # . . # # # # # # # # # # # # # # # # # # # # # # # # #\n",
      "# # # # # # # # # # # # # # # # # # # # # # # # # # # # # # # #\n",
      "\n",
      "\n",
      "105 * 2566 =\n",
      "269430\n"
     ]
    }
   ],
   "source": [
    "rounds = 0\n",
    "while not game_over_man(cave):\n",
    "    \n",
    "    exclude = set()\n",
    "    for i in range(len(cave)):\n",
    "        for j in range(len(cave[0])):\n",
    "            if game_over_man(cave): \n",
    "                break\n",
    "            if (i,j) not in exclude:\n",
    "                act = action(i,j,cave)\n",
    "                if act is not None:\n",
    "                    exclude.add(act)\n",
    "                    sleep(.05)\n",
    "                    clear_output(True)\n",
    "                    print('After round', rounds)\n",
    "                    print('\\n'.join(' '.join(c) for c in cave))\n",
    "        else:\n",
    "            continue\n",
    "        break\n",
    "    else:\n",
    "        rounds += 1\n",
    "        continue\n",
    "    break\n",
    "\n",
    "print('\\n')\n",
    "print(rounds, '*',sum(sum(hp ,[])), '=')\n",
    "print(sum(sum(hp ,[])) * rounds)        \n"
   ]
  },
  {
   "cell_type": "markdown",
   "metadata": {},
   "source": [
    "### Part 2"
   ]
  },
  {
   "cell_type": "code",
   "execution_count": 55,
   "metadata": {},
   "outputs": [],
   "source": [
    "with open('data/input15.txt', 'r') as f:\n",
    "    cave = [list(l.strip()) for l in f]\n",
    "assert len(set(len(c) for c in cave)) == 1\n",
    "    \n",
    "hp = [[200 if c in ('E', 'G') else 0 for c in l] for l in cave]"
   ]
  },
  {
   "cell_type": "code",
   "execution_count": 56,
   "metadata": {},
   "outputs": [],
   "source": [
    "def action(i, j, cave, power = 3):\n",
    "    if cave[i][j] not in ('E', 'G'): return None\n",
    "    if game_over_man(cave): return None\n",
    "\n",
    "    if cave[i][j] == 'E': targchar = 'G'\n",
    "    else: targchar = 'E'\n",
    "    \n",
    "    m = move(i, j, cave)\n",
    "    \n",
    "    if m is not None:\n",
    "        i1, j1 = m\n",
    "        cave[i1][j1] = cave[i][j]\n",
    "        hp[i1][j1] = hp[i][j]\n",
    "        cave[i][j] = '.'\n",
    "        hp[i][j] = 0        \n",
    "        i, j = i1, j1\n",
    "        \n",
    "    opponents = [(k,l) for k,l in [(i-1,j), (i,j-1), (i,j+1), (i+1,j)] \n",
    "                 if cave[k][l] == targchar]\n",
    "\n",
    "    if len(opponents) > 0:\n",
    "        k,l = sorted(opponents, key = lambda x: (hp[x[0]][x[1]], x))[0]\n",
    "        hp[k][l] -= power if cave[i][j] == 'E' else 3\n",
    "        if hp[k][l] <= 0: \n",
    "            cave[k][l] = '.'\n",
    "            hp[k][l] = 0\n",
    "            \n",
    "    return (i,j)"
   ]
  },
  {
   "cell_type": "code",
   "execution_count": 57,
   "metadata": {},
   "outputs": [
    {
     "name": "stdout",
     "output_type": "stream",
     "text": [
      "After round 40\n",
      "# # # # # # # # # # # # # # # # # # # # # # # # # # # # # # # #\n",
      "# # # # # # # # # . # # # # # # # # # # # # # # # # # # # # # #\n",
      "# # # # # # # # # . . # # # # # # # # # # # # # # # # # # # # #\n",
      "# # # # # # # # # . . . # # # # # # # # # # # # # # # # # # # #\n",
      "# # # # # # # # . . . . # . . # # # # # # # # # # # # # # # # #\n",
      "# # # # # # # # . . . . . . . # # # # # # # # # # # # # # # # #\n",
      "# # # # # # # # . . . . . . . . # # # # # # # # # # # # # # # #\n",
      "# # # . # # # # . . . # . . . . # # # # # # # # # # # # # # # #\n",
      "# . . . . # # # . # # # . . . . . # # # # # # # # # # # # # # #\n",
      "# # . . . . . . # # # # . . . . . # . # . . . # . # # # # # # #\n",
      "# # # . . . . . . # # # . . . . . . E . . # . . . # # # # # # #\n",
      "# # # . . . . . . # # . . . . . . E . . . . # # # # # # # # # #\n",
      "# . . . . . . . . . . . . . # # # # # . . . # # # # # # # # # #\n",
      "# . . . # # . . . . . . . # # # # # # # . . # # # # # # # # # #\n",
      "# . . . # . . . E . . . # # # # # # # # # . . # # # # # # # # #\n",
      "# # # # . . . . . . E . # # # # # # # # # . . . # . # # # # # #\n",
      "# . . . . . . E . E . E # # # # # # # # # . . . . . . . . . . #\n",
      "# # . # . . . E . # E . # # # # # # # # # . . . . . . . . . . #\n",
      "# # . # # # E . . . . . # # # # # # # # # . . . . . . . . . . #\n",
      "# # . . . . . . . . . . . # # # # # # # . . # . . . . . . . # #\n",
      "# . . . . . . . . . . . . . # # # # # . . . . . . . . . . # # #\n",
      "# . . . . # . . . . . . . . . . . . . . . . . . . . . . # # # #\n",
      "# # . . . . . . . . . . . . . # # . . . . . . . . . . . . . # #\n",
      "# . . . . . . . . . . . . . . . . . . . . . . . . # # # . . # #\n",
      "# . . . . . . . . . . . . . . # . . . . . . . . . # # # . . # #\n",
      "# . . # # . # # . . . . . . . # # . . . . . . . . # # # . # # #\n",
      "# # # . . . # # . . . . . . . # # # . # # # . . . # # . . . # #\n",
      "# # # # # . . # # . . . . . . # # # # # # . . . . . # . . # # #\n",
      "# # # # . . . # # # . . # . . # # # # # # # . . . . . . . # # #\n",
      "# # # # . . . # # # # # # # # # # # # # # # . # # # # # # # # #\n",
      "# # # # # . . # # # # # # # # # # # # # # # # # # # # # # # # #\n",
      "# # # # # # # # # # # # # # # # # # # # # # # # # # # # # # # #\n",
      "\n",
      "\n",
      "40 * 1379 =\n",
      "55160\n"
     ]
    }
   ],
   "source": [
    "rounds = 0\n",
    "while not game_over_man(cave):\n",
    "    \n",
    "    exclude = set()\n",
    "    for i in range(len(cave)):\n",
    "        for j in range(len(cave[0])):\n",
    "            if game_over_man(cave): \n",
    "                break\n",
    "            if (i,j) not in exclude:\n",
    "                act = action(i,j,cave,19)  # 19 was determined experimentally\n",
    "                if act is not None: \n",
    "                    exclude.add(act)\n",
    "                    sleep(.05)\n",
    "                    clear_output(True)\n",
    "                    print('After round', rounds)\n",
    "                    print('\\n'.join(' '.join(c) for c in cave))\n",
    "        else:\n",
    "            continue\n",
    "        break\n",
    "    else:\n",
    "        rounds += 1\n",
    "        continue\n",
    "    break\n",
    "\n",
    "print('\\n')\n",
    "print(rounds, '*',sum(sum(hp ,[])), '=')\n",
    "print(sum(sum(hp ,[])) * rounds)        \n"
   ]
  },
  {
   "cell_type": "markdown",
   "metadata": {},
   "source": [
    "## Day 16\n",
    "Puzzle input: `input16.txt`\n",
    "### Part 1"
   ]
  },
  {
   "cell_type": "code",
   "execution_count": 58,
   "metadata": {},
   "outputs": [],
   "source": [
    "with open('data/input16.txt', 'r') as f:\n",
    "    lines = [l.strip() for l in f]"
   ]
  },
  {
   "cell_type": "code",
   "execution_count": 59,
   "metadata": {},
   "outputs": [],
   "source": [
    "def ops(code, reg, A, B):\n",
    "    \n",
    "    if code == 'addr': return reg[A] + reg[B]\n",
    "    if code == 'addi': return reg[A] + B\n",
    "    \n",
    "    if code == 'mulr': return reg[A] * reg[B]\n",
    "    if code == 'muli': return reg[A] * B\n",
    "    \n",
    "    if code == 'banr': return reg[A] & reg[B]\n",
    "    if code == 'bani': return reg[A] & B\n",
    "    \n",
    "    if code == 'borr': return reg[A] | reg[B]\n",
    "    if code == 'bori': return reg[A] | B\n",
    "    \n",
    "    if code == 'setr': return reg[A]\n",
    "    if code == 'seti': return A\n",
    "    \n",
    "    if code == 'gtir': return 1 if A > reg[B] else 0\n",
    "    if code == 'gtri': return 1 if reg[A] > B else 0\n",
    "    if code == 'gtrr': return 1 if reg[A] > reg[B] else 0\n",
    "    \n",
    "    if code == 'eqir': return 1 if A == reg[B] else 0\n",
    "    if code == 'eqri': return 1 if reg[A] == B else 0\n",
    "    if code == 'eqrr': return 1 if reg[A] == reg[B] else 0\n",
    "    "
   ]
  },
  {
   "cell_type": "code",
   "execution_count": 60,
   "metadata": {},
   "outputs": [],
   "source": [
    "codes = ['addr', 'addi', 'mulr', 'muli', 'banr', 'bani',\n",
    "         'borr', 'bori', 'setr', 'seti', 'gtir', 'gtri',\n",
    "         'gtrr', 'eqir', 'eqri', 'eqrr']"
   ]
  },
  {
   "cell_type": "code",
   "execution_count": 61,
   "metadata": {},
   "outputs": [
    {
     "name": "stdout",
     "output_type": "stream",
     "text": [
      "542\n"
     ]
    }
   ],
   "source": [
    "sample_count = sum('After' in l for l in lines)\n",
    "poss = defaultdict(set)\n",
    "poss2 = defaultdict(set)\n",
    "\n",
    "for sampnum in range(sample_count):\n",
    "    pre_regs = eval(search(r'(\\[.+\\])', lines[4*sampnum]).groups()[0])\n",
    "    codenum, A, B, C = lines[4*sampnum + 1].split(' ')\n",
    "    post_regs = eval(search(r'(\\[.+\\])', lines[4*sampnum+2]).groups()[0])\n",
    "\n",
    "    for code in codes:\n",
    "        if post_regs[int(C)] == ops(code, pre_regs, int(A), int(B)):\n",
    "            poss[sampnum].add(code)\n",
    "            poss2[int(codenum)].add(code)\n",
    "\n",
    "print(sum(len(v) >= 3 for k,v in poss.items()))"
   ]
  },
  {
   "cell_type": "markdown",
   "metadata": {},
   "source": [
    "### Part 2"
   ]
  },
  {
   "cell_type": "code",
   "execution_count": 62,
   "metadata": {},
   "outputs": [],
   "source": [
    "code_dict = dict()\n",
    "while len(code_dict) < len(poss2):\n",
    "    for k,v in poss2.items():\n",
    "        if len(v) == 1: code_dict[k] = v.pop()\n",
    "    known = set(v for k,v in code_dict.items())\n",
    "    for k,v in poss2.items(): \n",
    "        poss2[k] = v - known"
   ]
  },
  {
   "cell_type": "code",
   "execution_count": 63,
   "metadata": {},
   "outputs": [
    {
     "name": "stdout",
     "output_type": "stream",
     "text": [
      "575\n"
     ]
    }
   ],
   "source": [
    "regs = [0]*4\n",
    "for l in lines[4*sample_count+2:]:\n",
    "    codenum, A, B, C = l.split(' ')\n",
    "    regs[int(C)] = ops(code_dict[int(codenum)], regs, int(A), int(B))\n",
    "    \n",
    "print(regs[0])"
   ]
  },
  {
   "cell_type": "markdown",
   "metadata": {},
   "source": [
    "## Day 17\n",
    "Puzzle input: `input17.txt`\n",
    "### Part 1"
   ]
  },
  {
   "cell_type": "code",
   "execution_count": 64,
   "metadata": {},
   "outputs": [],
   "source": [
    "with open('data/input17.txt', 'r') as f:\n",
    "    lines = [l.strip() for l in f]\n",
    "\n",
    "slice = defaultdict(lambda *args: '.')\n",
    "for l in lines:\n",
    "    var1, val1, var2, val2a, val2b = search(\n",
    "        r'(.)=(\\d+), (.)=(\\d+)\\.\\.(\\d+)',l\n",
    "    ).groups()\n",
    "    if var1 == 'x' and var2 == 'y':\n",
    "        for y in range(int(val2a), int(val2b)+1):\n",
    "            slice[(y, int(val1))] = '#'\n",
    "    elif var1 == 'y' and var2 == 'x':\n",
    "        for x in range(int(val2a), int(val2b)+1):\n",
    "            slice[(int(val1), x)] = '#'"
   ]
  },
  {
   "cell_type": "code",
   "execution_count": 65,
   "metadata": {},
   "outputs": [],
   "source": [
    "yrange = (min(k[0] for k in slice.keys()), max(k[0] for k in slice.keys()))\n",
    "\n",
    "def count_reached(slice):\n",
    "    return sum(v in ('|','~') for k, v in slice.items() \n",
    "               if yrange[0] <= k[0] <= yrange[1])\n",
    "\n",
    "def under(loc):\n",
    "    return (loc[0]+1, loc[1])\n",
    "\n",
    "def right(loc):\n",
    "    return (loc[0], loc[1]+1)\n",
    "\n",
    "def left(loc):\n",
    "    return (loc[0], loc[1]-1)\n",
    "\n",
    "def between(l, r):\n",
    "    return[(l[0], k) for k in range(l[1]+1, r[1])]"
   ]
  },
  {
   "cell_type": "code",
   "execution_count": 66,
   "metadata": {},
   "outputs": [
    {
     "name": "stdout",
     "output_type": "stream",
     "text": [
      "29063\n"
     ]
    }
   ],
   "source": [
    "tops = [(0,500)]\n",
    "bottoms = []\n",
    "cr = -1\n",
    "\n",
    "while(count_reached(slice) > cr):\n",
    "\n",
    "    cr = count_reached(slice)\n",
    "\n",
    "    remove_tops = [] \n",
    "    for t in tops:\n",
    "        u = t\n",
    "        while slice[under(u)] not in ('#', '~') and u[0] <= yrange[1]:\n",
    "            slice[u] = '|'\n",
    "            u = under(u)\n",
    "        if u[0] <= yrange[1]:\n",
    "            bottoms.append(u)\n",
    "        else:\n",
    "            remove_tops.append(t)\n",
    "\n",
    "    for b in bottoms:\n",
    "        l = b\n",
    "        while slice[left(l)] != '#' and slice[under(left(l))] in ('#', '~'):\n",
    "            slice[l] = '|'\n",
    "            l = left(l)\n",
    "        if slice[under(left(l))] not in ('#', '~'):\n",
    "            slice[l] = '|'\n",
    "            l = left(l)\n",
    "            tops.append(l)\n",
    "        lside = left(l)\n",
    "\n",
    "        r = b\n",
    "        while slice[right(r)] != '#' and slice[under(right(r))] in ('#', '~'):\n",
    "            slice[r] = '|'\n",
    "            r = right(r)\n",
    "        if slice[under(right(r))] not in ('#', '~'):\n",
    "            slice[r] = '|'\n",
    "            r = right(r)\n",
    "            tops.append(r)\n",
    "        rside = right(r)\n",
    "\n",
    "        if slice[lside] == slice[rside] == '#':\n",
    "            for p in between(lside, rside):\n",
    "                slice[p] = '~'\n",
    "        else:\n",
    "            for p in between(lside, rside):\n",
    "                slice[p] = '|'\n",
    "\n",
    "    bottoms = []\n",
    "    tops = list(set(tops) - set(remove_tops))\n",
    "    \n",
    "print(cr)"
   ]
  },
  {
   "cell_type": "markdown",
   "metadata": {},
   "source": [
    "### Part 2"
   ]
  },
  {
   "cell_type": "code",
   "execution_count": 67,
   "metadata": {},
   "outputs": [
    {
     "name": "stdout",
     "output_type": "stream",
     "text": [
      "23811\n"
     ]
    }
   ],
   "source": [
    "print(sum(v == '~' for k, v in slice.items() \n",
    "          if yrange[0] <= k[0] <= yrange[1]))"
   ]
  }
 ],
 "metadata": {
  "kernelspec": {
   "display_name": "Python 3",
   "language": "python",
   "name": "python3"
  },
  "language_info": {
   "codemirror_mode": {
    "name": "ipython",
    "version": 3
   },
   "file_extension": ".py",
   "mimetype": "text/x-python",
   "name": "python",
   "nbconvert_exporter": "python",
   "pygments_lexer": "ipython3",
   "version": "3.7.0"
  }
 },
 "nbformat": 4,
 "nbformat_minor": 2
}
